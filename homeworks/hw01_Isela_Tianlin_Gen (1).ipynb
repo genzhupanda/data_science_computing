{
 "cells": [
  {
   "cell_type": "markdown",
   "metadata": {},
   "source": [
    "# Hwk 1: Data Science Computing Spring 2020 \n",
    "#### Due: April 2, 2020\n",
    "#### Group: Isela De La Cerda, Tianlin Xu, Gen Zhu"
   ]
  },
  {
   "cell_type": "markdown",
   "metadata": {},
   "source": [
    "# Funding and Publication\n",
    "In this case study, we want to find out the relationship between funding and publications. Later on, we will introduce more advanced analysis of the data, but the first step is to collect the data! The HW01 folder on Canvas provides a csv file that contains recent NIH awards of faculty and students from Harvard University. This list is provided by NIH. However, it did not provide the publications of each awardee. We will use PubMed as a complementary source of data. For simplicity, we will focus on the number of publications of each awardee only.\n",
    "\n",
    "## Task 1\n",
    "\n",
    "Remove the awards (column: Activity) starting with letter T or F, and then extract the unique PI names from the column: Contact PI / Project Leader."
   ]
  },
  {
   "cell_type": "code",
   "execution_count": 12,
   "metadata": {},
   "outputs": [],
   "source": [
    "#import libraries\n",
    "import pandas as pd\n",
    "import os\n",
    "import re"
   ]
  },
  {
   "cell_type": "code",
   "execution_count": 13,
   "metadata": {},
   "outputs": [
    {
     "data": {
      "text/plain": [
       "(591, 20)"
      ]
     },
     "execution_count": 13,
     "metadata": {},
     "output_type": "execute_result"
    }
   ],
   "source": [
    "nihharvard = pd.read_csv('NIHHarvard.csv')\n",
    "nihharvard.shape"
   ]
  },
  {
   "cell_type": "code",
   "execution_count": 29,
   "metadata": {},
   "outputs": [
    {
     "data": {
      "text/html": [
       "<div>\n",
       "<style scoped>\n",
       "    .dataframe tbody tr th:only-of-type {\n",
       "        vertical-align: middle;\n",
       "    }\n",
       "\n",
       "    .dataframe tbody tr th {\n",
       "        vertical-align: top;\n",
       "    }\n",
       "\n",
       "    .dataframe thead th {\n",
       "        text-align: right;\n",
       "    }\n",
       "</style>\n",
       "<table border=\"1\" class=\"dataframe\">\n",
       "  <thead>\n",
       "    <tr style=\"text-align: right;\">\n",
       "      <th></th>\n",
       "      <th>Organization</th>\n",
       "      <th>Project Title</th>\n",
       "      <th>Administering  IC</th>\n",
       "      <th>Application ID</th>\n",
       "      <th>Project Number</th>\n",
       "      <th>Type</th>\n",
       "      <th>Activity</th>\n",
       "      <th>IC</th>\n",
       "      <th>Serial Number</th>\n",
       "      <th>Support Year</th>\n",
       "      <th>Suffix</th>\n",
       "      <th>Subproject Number</th>\n",
       "      <th>Contact PI  Person ID</th>\n",
       "      <th>Contact PI / Project Leader</th>\n",
       "      <th>Other PI or Project Leader(s)</th>\n",
       "      <th>Organization Name</th>\n",
       "      <th>ARRA Indicator</th>\n",
       "      <th>FY</th>\n",
       "      <th>FY Total Cost</th>\n",
       "      <th>FY Total Cost  (Sub Projects)</th>\n",
       "    </tr>\n",
       "  </thead>\n",
       "  <tbody>\n",
       "    <tr>\n",
       "      <th>0</th>\n",
       "      <td>harvard</td>\n",
       "      <td>TRAINING IN BIOINFORMATICS AND INTEGRATIVE GEN...</td>\n",
       "      <td>NHGRI</td>\n",
       "      <td>8729396</td>\n",
       "      <td>5T32HG002295-12</td>\n",
       "      <td>5</td>\n",
       "      <td>T32</td>\n",
       "      <td>HG</td>\n",
       "      <td>2295</td>\n",
       "      <td>12</td>\n",
       "      <td>NaN</td>\n",
       "      <td>NaN</td>\n",
       "      <td>8644899</td>\n",
       "      <td>PARK, PETER J</td>\n",
       "      <td>Not Applicable</td>\n",
       "      <td>HARVARD MEDICAL SCHOOL</td>\n",
       "      <td></td>\n",
       "      <td>2014</td>\n",
       "      <td>1</td>\n",
       "      <td>NaN</td>\n",
       "    </tr>\n",
       "    <tr>\n",
       "      <th>1</th>\n",
       "      <td>harvard</td>\n",
       "      <td>SUBSTANCE ABUSE AT THE SCHIZOPHRENIA INTERNATI...</td>\n",
       "      <td>NIDA</td>\n",
       "      <td>8650549</td>\n",
       "      <td>1R13DA036925-01</td>\n",
       "      <td>1</td>\n",
       "      <td>R13</td>\n",
       "      <td>DA</td>\n",
       "      <td>36925</td>\n",
       "      <td>1</td>\n",
       "      <td>NaN</td>\n",
       "      <td>NaN</td>\n",
       "      <td>1893427</td>\n",
       "      <td>DELISI, LYNN ELEANOR</td>\n",
       "      <td>Not Applicable</td>\n",
       "      <td>HARVARD MEDICAL SCHOOL</td>\n",
       "      <td></td>\n",
       "      <td>2014</td>\n",
       "      <td>10000</td>\n",
       "      <td>NaN</td>\n",
       "    </tr>\n",
       "    <tr>\n",
       "      <th>2</th>\n",
       "      <td>harvard</td>\n",
       "      <td>16TH IMS NEW RESEARCHERS CONFERENCE</td>\n",
       "      <td>NCI</td>\n",
       "      <td>8785919</td>\n",
       "      <td>1R13CA189533-01</td>\n",
       "      <td>1</td>\n",
       "      <td>R13</td>\n",
       "      <td>CA</td>\n",
       "      <td>189533</td>\n",
       "      <td>1</td>\n",
       "      <td>NaN</td>\n",
       "      <td>NaN</td>\n",
       "      <td>9834897</td>\n",
       "      <td>AIROLDI, EDOARDO MARIA</td>\n",
       "      <td>Not Applicable</td>\n",
       "      <td>HARVARD UNIVERSITY</td>\n",
       "      <td></td>\n",
       "      <td>2014</td>\n",
       "      <td>15000</td>\n",
       "      <td>NaN</td>\n",
       "    </tr>\n",
       "    <tr>\n",
       "      <th>3</th>\n",
       "      <td>harvard</td>\n",
       "      <td>CONFERENCES ON EMERGING STATISTICAL ISSUES IN ...</td>\n",
       "      <td>NCI</td>\n",
       "      <td>8723063</td>\n",
       "      <td>5R13CA124365-09</td>\n",
       "      <td>5</td>\n",
       "      <td>R13</td>\n",
       "      <td>CA</td>\n",
       "      <td>124365</td>\n",
       "      <td>9</td>\n",
       "      <td>NaN</td>\n",
       "      <td>NaN</td>\n",
       "      <td>7043086</td>\n",
       "      <td>LIN, XIHONG</td>\n",
       "      <td>Not Applicable</td>\n",
       "      <td>HARVARD SCHOOL OF PUBLIC HEALTH</td>\n",
       "      <td></td>\n",
       "      <td>2014</td>\n",
       "      <td>25000</td>\n",
       "      <td>NaN</td>\n",
       "    </tr>\n",
       "    <tr>\n",
       "      <th>4</th>\n",
       "      <td>harvard</td>\n",
       "      <td>ENDOCANNABINOID SIGNALING IN ALCOHOL INDUCED H...</td>\n",
       "      <td>NIAAA</td>\n",
       "      <td>8724162</td>\n",
       "      <td>5F31AA022548-02</td>\n",
       "      <td>5</td>\n",
       "      <td>F31</td>\n",
       "      <td>AA</td>\n",
       "      <td>22548</td>\n",
       "      <td>2</td>\n",
       "      <td>NaN</td>\n",
       "      <td>NaN</td>\n",
       "      <td>11541632</td>\n",
       "      <td>LIU, LEAH YU</td>\n",
       "      <td>Not Applicable</td>\n",
       "      <td>HARVARD MEDICAL SCHOOL</td>\n",
       "      <td></td>\n",
       "      <td>2014</td>\n",
       "      <td>30020</td>\n",
       "      <td>NaN</td>\n",
       "    </tr>\n",
       "  </tbody>\n",
       "</table>\n",
       "</div>"
      ],
      "text/plain": [
       "  Organization                                      Project Title  \\\n",
       "0      harvard  TRAINING IN BIOINFORMATICS AND INTEGRATIVE GEN...   \n",
       "1      harvard  SUBSTANCE ABUSE AT THE SCHIZOPHRENIA INTERNATI...   \n",
       "2      harvard                16TH IMS NEW RESEARCHERS CONFERENCE   \n",
       "3      harvard  CONFERENCES ON EMERGING STATISTICAL ISSUES IN ...   \n",
       "4      harvard  ENDOCANNABINOID SIGNALING IN ALCOHOL INDUCED H...   \n",
       "\n",
       "  Administering  IC  Application ID   Project Number  Type Activity  IC  \\\n",
       "0             NHGRI         8729396  5T32HG002295-12     5      T32  HG   \n",
       "1              NIDA         8650549  1R13DA036925-01     1      R13  DA   \n",
       "2               NCI         8785919  1R13CA189533-01     1      R13  CA   \n",
       "3               NCI         8723063  5R13CA124365-09     5      R13  CA   \n",
       "4             NIAAA         8724162  5F31AA022548-02     5      F31  AA   \n",
       "\n",
       "   Serial Number  Support Year Suffix  Subproject Number   \\\n",
       "0           2295            12    NaN                 NaN   \n",
       "1          36925             1    NaN                 NaN   \n",
       "2         189533             1    NaN                 NaN   \n",
       "3         124365             9    NaN                 NaN   \n",
       "4          22548             2    NaN                 NaN   \n",
       "\n",
       "   Contact PI  Person ID Contact PI / Project Leader  \\\n",
       "0                8644899               PARK, PETER J   \n",
       "1                1893427        DELISI, LYNN ELEANOR   \n",
       "2                9834897      AIROLDI, EDOARDO MARIA   \n",
       "3                7043086                LIN, XIHONG    \n",
       "4               11541632                LIU, LEAH YU   \n",
       "\n",
       "  Other PI or Project Leader(s)                Organization Name  \\\n",
       "0                Not Applicable           HARVARD MEDICAL SCHOOL   \n",
       "1                Not Applicable           HARVARD MEDICAL SCHOOL   \n",
       "2                Not Applicable               HARVARD UNIVERSITY   \n",
       "3                Not Applicable  HARVARD SCHOOL OF PUBLIC HEALTH   \n",
       "4                Not Applicable           HARVARD MEDICAL SCHOOL   \n",
       "\n",
       "  ARRA Indicator    FY  FY Total Cost   FY Total Cost  (Sub Projects)  \n",
       "0                 2014               1                            NaN  \n",
       "1                 2014           10000                            NaN  \n",
       "2                 2014           15000                            NaN  \n",
       "3                 2014           25000                            NaN  \n",
       "4                 2014           30020                            NaN  "
      ]
     },
     "execution_count": 29,
     "metadata": {},
     "output_type": "execute_result"
    }
   ],
   "source": [
    "# view the dataframe\n",
    "nihharvard.head(5)"
   ]
  },
  {
   "cell_type": "code",
   "execution_count": 15,
   "metadata": {},
   "outputs": [],
   "source": [
    "# 'havard' in the organization column is a typo; should be 'harvard'\n",
    "nihharvard['Organization']='harvard'"
   ]
  },
  {
   "cell_type": "code",
   "execution_count": 16,
   "metadata": {},
   "outputs": [
    {
     "data": {
      "text/plain": [
       "array(['T32', 'R13', 'F31', 'R37', 'F30', 'R01', 'R03', 'F32', 'R24',\n",
       "       'R25', 'UL1', 'P01', 'K99', 'K25', 'R56', 'U01', 'K01', 'K07',\n",
       "       'K24', 'K23', 'R21', 'T36', 'D43', 'R00', 'U90', 'U2G', 'P50',\n",
       "       'R33', 'DP5', 'U19', 'U42', 'TL1', 'P30', 'DP1', 'U41', 'T15',\n",
       "       'UH3', 'U38', 'T42', 'UC4', 'KL2', 'U54', 'RF1', 'UM1', 'DP2'],\n",
       "      dtype=object)"
      ]
     },
     "execution_count": 16,
     "metadata": {},
     "output_type": "execute_result"
    }
   ],
   "source": [
    "# unique values of column Activity\n",
    "nihharvard['Activity'].unique()"
   ]
  },
  {
   "cell_type": "code",
   "execution_count": 17,
   "metadata": {},
   "outputs": [
    {
     "data": {
      "text/plain": [
       "(347, 20)"
      ]
     },
     "execution_count": 17,
     "metadata": {},
     "output_type": "execute_result"
    }
   ],
   "source": [
    "# Focous on research award\n",
    "research = pd.DataFrame(nihharvard.loc[nihharvard.Activity.astype(str).str.match('^R')])\n",
    "research.shape"
   ]
  },
  {
   "cell_type": "code",
   "execution_count": 18,
   "metadata": {},
   "outputs": [
    {
     "data": {
      "text/plain": [
       "Index(['Organization', 'Project Title', 'Administering  IC', 'Application ID',\n",
       "       'Project Number', 'Type', 'Activity', 'IC', 'Serial Number',\n",
       "       'Support Year', 'Suffix', 'Subproject Number ', 'Contact PI  Person ID',\n",
       "       'Contact PI / Project Leader', 'Other PI or Project Leader(s)',\n",
       "       'Organization Name', 'ARRA Indicator', 'FY', 'FY Total Cost ',\n",
       "       'FY Total Cost  (Sub Projects)'],\n",
       "      dtype='object')"
      ]
     },
     "execution_count": 18,
     "metadata": {},
     "output_type": "execute_result"
    }
   ],
   "source": [
    "research.columns"
   ]
  },
  {
   "cell_type": "code",
   "execution_count": 19,
   "metadata": {},
   "outputs": [
    {
     "data": {
      "text/plain": [
       "Index(['organization', 'project_title', 'administering__ic', 'application_id',\n",
       "       'project_number', 'type', 'activity', 'ic', 'serial_number',\n",
       "       'support_year', 'suffix', 'subproject_number', 'contact_pi__person_id',\n",
       "       'contact_pi__project_leader', 'other_pi_or_project_leader(s)',\n",
       "       'organization_name', 'arra_indicator', 'fy', 'fy_total_cost',\n",
       "       'fy_total_cost__(sub_projects)'],\n",
       "      dtype='object')"
      ]
     },
     "execution_count": 19,
     "metadata": {},
     "output_type": "execute_result"
    }
   ],
   "source": [
    "research.columns = research.columns.str.strip().str.lower().str.replace(' ', '_').str.replace('/','')\n",
    "research.columns"
   ]
  },
  {
   "cell_type": "markdown",
   "metadata": {},
   "source": [
    "## Task 2\n",
    "The extracted names may contain middle names and/or initials. Please remove the middle names/initials from the results in Step 1. It could be possible that two names differ only by the middle name. We will ignore this rare case for now, or please let me know if you find any."
   ]
  },
  {
   "cell_type": "code",
   "execution_count": 20,
   "metadata": {},
   "outputs": [
    {
     "data": {
      "text/plain": [
       "1        DELISI, LYNN ELEANOR\n",
       "2      AIROLDI, EDOARDO MARIA\n",
       "3                LIN, XIHONG \n",
       "22             MANGO, SUSAN E\n",
       "54           SILVER, PAMELA A\n",
       "                ...          \n",
       "543      GOLOVCHENKO, JENE A \n",
       "551     BENOIST, CHRISTOPHE O\n",
       "554           BLOOM, DAVID E \n",
       "563         LICHTMAN, JEFF W \n",
       "569         YANKNER, BRUCE A \n",
       "Name: contact_pi__project_leader, Length: 347, dtype: object"
      ]
     },
     "execution_count": 20,
     "metadata": {},
     "output_type": "execute_result"
    }
   ],
   "source": [
    "research.contact_pi__project_leader"
   ]
  },
  {
   "cell_type": "code",
   "execution_count": 21,
   "metadata": {},
   "outputs": [
    {
     "data": {
      "text/html": [
       "<div>\n",
       "<style scoped>\n",
       "    .dataframe tbody tr th:only-of-type {\n",
       "        vertical-align: middle;\n",
       "    }\n",
       "\n",
       "    .dataframe tbody tr th {\n",
       "        vertical-align: top;\n",
       "    }\n",
       "\n",
       "    .dataframe thead th {\n",
       "        text-align: right;\n",
       "    }\n",
       "</style>\n",
       "<table border=\"1\" class=\"dataframe\">\n",
       "  <thead>\n",
       "    <tr style=\"text-align: right;\">\n",
       "      <th></th>\n",
       "      <th>contact_pi__project_leader</th>\n",
       "      <th>Last</th>\n",
       "      <th>FirstMid</th>\n",
       "    </tr>\n",
       "  </thead>\n",
       "  <tbody>\n",
       "    <tr>\n",
       "      <th>1</th>\n",
       "      <td>DELISI, LYNN ELEANOR</td>\n",
       "      <td>DELISI</td>\n",
       "      <td>LYNN ELEANOR</td>\n",
       "    </tr>\n",
       "    <tr>\n",
       "      <th>2</th>\n",
       "      <td>AIROLDI, EDOARDO MARIA</td>\n",
       "      <td>AIROLDI</td>\n",
       "      <td>EDOARDO MARIA</td>\n",
       "    </tr>\n",
       "    <tr>\n",
       "      <th>3</th>\n",
       "      <td>LIN, XIHONG</td>\n",
       "      <td>LIN</td>\n",
       "      <td>XIHONG</td>\n",
       "    </tr>\n",
       "    <tr>\n",
       "      <th>22</th>\n",
       "      <td>MANGO, SUSAN E</td>\n",
       "      <td>MANGO</td>\n",
       "      <td>SUSAN E</td>\n",
       "    </tr>\n",
       "    <tr>\n",
       "      <th>54</th>\n",
       "      <td>SILVER, PAMELA A</td>\n",
       "      <td>SILVER</td>\n",
       "      <td>PAMELA A</td>\n",
       "    </tr>\n",
       "    <tr>\n",
       "      <th>...</th>\n",
       "      <td>...</td>\n",
       "      <td>...</td>\n",
       "      <td>...</td>\n",
       "    </tr>\n",
       "    <tr>\n",
       "      <th>543</th>\n",
       "      <td>GOLOVCHENKO, JENE A</td>\n",
       "      <td>GOLOVCHENKO</td>\n",
       "      <td>JENE A</td>\n",
       "    </tr>\n",
       "    <tr>\n",
       "      <th>551</th>\n",
       "      <td>BENOIST, CHRISTOPHE O</td>\n",
       "      <td>BENOIST</td>\n",
       "      <td>CHRISTOPHE O</td>\n",
       "    </tr>\n",
       "    <tr>\n",
       "      <th>554</th>\n",
       "      <td>BLOOM, DAVID E</td>\n",
       "      <td>BLOOM</td>\n",
       "      <td>DAVID E</td>\n",
       "    </tr>\n",
       "    <tr>\n",
       "      <th>563</th>\n",
       "      <td>LICHTMAN, JEFF W</td>\n",
       "      <td>LICHTMAN</td>\n",
       "      <td>JEFF W</td>\n",
       "    </tr>\n",
       "    <tr>\n",
       "      <th>569</th>\n",
       "      <td>YANKNER, BRUCE A</td>\n",
       "      <td>YANKNER</td>\n",
       "      <td>BRUCE A</td>\n",
       "    </tr>\n",
       "  </tbody>\n",
       "</table>\n",
       "<p>347 rows × 3 columns</p>\n",
       "</div>"
      ],
      "text/plain": [
       "    contact_pi__project_leader         Last        FirstMid\n",
       "1         DELISI, LYNN ELEANOR       DELISI    LYNN ELEANOR\n",
       "2       AIROLDI, EDOARDO MARIA      AIROLDI   EDOARDO MARIA\n",
       "3                 LIN, XIHONG           LIN         XIHONG \n",
       "22              MANGO, SUSAN E        MANGO         SUSAN E\n",
       "54            SILVER, PAMELA A       SILVER        PAMELA A\n",
       "..                         ...          ...             ...\n",
       "543       GOLOVCHENKO, JENE A   GOLOVCHENKO         JENE A \n",
       "551      BENOIST, CHRISTOPHE O      BENOIST    CHRISTOPHE O\n",
       "554            BLOOM, DAVID E         BLOOM        DAVID E \n",
       "563          LICHTMAN, JEFF W      LICHTMAN         JEFF W \n",
       "569          YANKNER, BRUCE A       YANKNER        BRUCE A \n",
       "\n",
       "[347 rows x 3 columns]"
      ]
     },
     "execution_count": 21,
     "metadata": {},
     "output_type": "execute_result"
    }
   ],
   "source": [
    "research[['Last','FirstMid']] = research.contact_pi__project_leader.str.split(\",\",expand=True,)\n",
    "research[['contact_pi__project_leader','Last','FirstMid']]"
   ]
  },
  {
   "cell_type": "code",
   "execution_count": 22,
   "metadata": {},
   "outputs": [
    {
     "data": {
      "text/html": [
       "<div>\n",
       "<style scoped>\n",
       "    .dataframe tbody tr th:only-of-type {\n",
       "        vertical-align: middle;\n",
       "    }\n",
       "\n",
       "    .dataframe tbody tr th {\n",
       "        vertical-align: top;\n",
       "    }\n",
       "\n",
       "    .dataframe thead th {\n",
       "        text-align: right;\n",
       "    }\n",
       "</style>\n",
       "<table border=\"1\" class=\"dataframe\">\n",
       "  <thead>\n",
       "    <tr style=\"text-align: right;\">\n",
       "      <th></th>\n",
       "      <th>contact_pi__project_leader</th>\n",
       "      <th>Last</th>\n",
       "      <th>FirstMid</th>\n",
       "      <th>First</th>\n",
       "      <th>Middle</th>\n",
       "    </tr>\n",
       "  </thead>\n",
       "  <tbody>\n",
       "    <tr>\n",
       "      <th>1</th>\n",
       "      <td>DELISI, LYNN ELEANOR</td>\n",
       "      <td>DELISI</td>\n",
       "      <td>LYNN ELEANOR</td>\n",
       "      <td>LYNN</td>\n",
       "      <td>ELEANOR</td>\n",
       "    </tr>\n",
       "    <tr>\n",
       "      <th>2</th>\n",
       "      <td>AIROLDI, EDOARDO MARIA</td>\n",
       "      <td>AIROLDI</td>\n",
       "      <td>EDOARDO MARIA</td>\n",
       "      <td>EDOARDO</td>\n",
       "      <td>MARIA</td>\n",
       "    </tr>\n",
       "    <tr>\n",
       "      <th>3</th>\n",
       "      <td>LIN, XIHONG</td>\n",
       "      <td>LIN</td>\n",
       "      <td>XIHONG</td>\n",
       "      <td>XIHONG</td>\n",
       "      <td>None</td>\n",
       "    </tr>\n",
       "    <tr>\n",
       "      <th>22</th>\n",
       "      <td>MANGO, SUSAN E</td>\n",
       "      <td>MANGO</td>\n",
       "      <td>SUSAN E</td>\n",
       "      <td>SUSAN</td>\n",
       "      <td>E</td>\n",
       "    </tr>\n",
       "    <tr>\n",
       "      <th>54</th>\n",
       "      <td>SILVER, PAMELA A</td>\n",
       "      <td>SILVER</td>\n",
       "      <td>PAMELA A</td>\n",
       "      <td>PAMELA</td>\n",
       "      <td>A</td>\n",
       "    </tr>\n",
       "    <tr>\n",
       "      <th>...</th>\n",
       "      <td>...</td>\n",
       "      <td>...</td>\n",
       "      <td>...</td>\n",
       "      <td>...</td>\n",
       "      <td>...</td>\n",
       "    </tr>\n",
       "    <tr>\n",
       "      <th>543</th>\n",
       "      <td>GOLOVCHENKO, JENE A</td>\n",
       "      <td>GOLOVCHENKO</td>\n",
       "      <td>JENE A</td>\n",
       "      <td>JENE</td>\n",
       "      <td>A</td>\n",
       "    </tr>\n",
       "    <tr>\n",
       "      <th>551</th>\n",
       "      <td>BENOIST, CHRISTOPHE O</td>\n",
       "      <td>BENOIST</td>\n",
       "      <td>CHRISTOPHE O</td>\n",
       "      <td>CHRISTOPHE</td>\n",
       "      <td>O</td>\n",
       "    </tr>\n",
       "    <tr>\n",
       "      <th>554</th>\n",
       "      <td>BLOOM, DAVID E</td>\n",
       "      <td>BLOOM</td>\n",
       "      <td>DAVID E</td>\n",
       "      <td>DAVID</td>\n",
       "      <td>E</td>\n",
       "    </tr>\n",
       "    <tr>\n",
       "      <th>563</th>\n",
       "      <td>LICHTMAN, JEFF W</td>\n",
       "      <td>LICHTMAN</td>\n",
       "      <td>JEFF W</td>\n",
       "      <td>JEFF</td>\n",
       "      <td>W</td>\n",
       "    </tr>\n",
       "    <tr>\n",
       "      <th>569</th>\n",
       "      <td>YANKNER, BRUCE A</td>\n",
       "      <td>YANKNER</td>\n",
       "      <td>BRUCE A</td>\n",
       "      <td>BRUCE</td>\n",
       "      <td>A</td>\n",
       "    </tr>\n",
       "  </tbody>\n",
       "</table>\n",
       "<p>347 rows × 5 columns</p>\n",
       "</div>"
      ],
      "text/plain": [
       "    contact_pi__project_leader         Last        FirstMid       First  \\\n",
       "1         DELISI, LYNN ELEANOR       DELISI    LYNN ELEANOR        LYNN   \n",
       "2       AIROLDI, EDOARDO MARIA      AIROLDI   EDOARDO MARIA     EDOARDO   \n",
       "3                 LIN, XIHONG           LIN         XIHONG       XIHONG   \n",
       "22              MANGO, SUSAN E        MANGO         SUSAN E       SUSAN   \n",
       "54            SILVER, PAMELA A       SILVER        PAMELA A      PAMELA   \n",
       "..                         ...          ...             ...         ...   \n",
       "543       GOLOVCHENKO, JENE A   GOLOVCHENKO         JENE A         JENE   \n",
       "551      BENOIST, CHRISTOPHE O      BENOIST    CHRISTOPHE O  CHRISTOPHE   \n",
       "554            BLOOM, DAVID E         BLOOM        DAVID E        DAVID   \n",
       "563          LICHTMAN, JEFF W      LICHTMAN         JEFF W         JEFF   \n",
       "569          YANKNER, BRUCE A       YANKNER        BRUCE A        BRUCE   \n",
       "\n",
       "      Middle  \n",
       "1    ELEANOR  \n",
       "2      MARIA  \n",
       "3       None  \n",
       "22         E  \n",
       "54         A  \n",
       "..       ...  \n",
       "543        A  \n",
       "551        O  \n",
       "554        E  \n",
       "563        W  \n",
       "569        A  \n",
       "\n",
       "[347 rows x 5 columns]"
      ]
     },
     "execution_count": 22,
     "metadata": {},
     "output_type": "execute_result"
    }
   ],
   "source": [
    "research[['First','Middle']] = research.FirstMid.str.split(expand=True,)\n",
    "research[['contact_pi__project_leader','Last','FirstMid', 'First','Middle' ]]"
   ]
  },
  {
   "cell_type": "code",
   "execution_count": 23,
   "metadata": {},
   "outputs": [
    {
     "data": {
      "text/html": [
       "<div>\n",
       "<style scoped>\n",
       "    .dataframe tbody tr th:only-of-type {\n",
       "        vertical-align: middle;\n",
       "    }\n",
       "\n",
       "    .dataframe tbody tr th {\n",
       "        vertical-align: top;\n",
       "    }\n",
       "\n",
       "    .dataframe thead th {\n",
       "        text-align: right;\n",
       "    }\n",
       "</style>\n",
       "<table border=\"1\" class=\"dataframe\">\n",
       "  <thead>\n",
       "    <tr style=\"text-align: right;\">\n",
       "      <th></th>\n",
       "      <th>contact_pi__project_leader</th>\n",
       "      <th>Last</th>\n",
       "      <th>FirstMid</th>\n",
       "      <th>First</th>\n",
       "      <th>Middle</th>\n",
       "      <th>Author</th>\n",
       "    </tr>\n",
       "  </thead>\n",
       "  <tbody>\n",
       "    <tr>\n",
       "      <th>1</th>\n",
       "      <td>DELISI, LYNN ELEANOR</td>\n",
       "      <td>DELISI</td>\n",
       "      <td>LYNN ELEANOR</td>\n",
       "      <td>LYNN</td>\n",
       "      <td>ELEANOR</td>\n",
       "      <td>DELISI, LYNN</td>\n",
       "    </tr>\n",
       "    <tr>\n",
       "      <th>2</th>\n",
       "      <td>AIROLDI, EDOARDO MARIA</td>\n",
       "      <td>AIROLDI</td>\n",
       "      <td>EDOARDO MARIA</td>\n",
       "      <td>EDOARDO</td>\n",
       "      <td>MARIA</td>\n",
       "      <td>AIROLDI, EDOARDO</td>\n",
       "    </tr>\n",
       "    <tr>\n",
       "      <th>3</th>\n",
       "      <td>LIN, XIHONG</td>\n",
       "      <td>LIN</td>\n",
       "      <td>XIHONG</td>\n",
       "      <td>XIHONG</td>\n",
       "      <td>None</td>\n",
       "      <td>LIN, XIHONG</td>\n",
       "    </tr>\n",
       "    <tr>\n",
       "      <th>22</th>\n",
       "      <td>MANGO, SUSAN E</td>\n",
       "      <td>MANGO</td>\n",
       "      <td>SUSAN E</td>\n",
       "      <td>SUSAN</td>\n",
       "      <td>E</td>\n",
       "      <td>MANGO, SUSAN</td>\n",
       "    </tr>\n",
       "    <tr>\n",
       "      <th>54</th>\n",
       "      <td>SILVER, PAMELA A</td>\n",
       "      <td>SILVER</td>\n",
       "      <td>PAMELA A</td>\n",
       "      <td>PAMELA</td>\n",
       "      <td>A</td>\n",
       "      <td>SILVER, PAMELA</td>\n",
       "    </tr>\n",
       "    <tr>\n",
       "      <th>...</th>\n",
       "      <td>...</td>\n",
       "      <td>...</td>\n",
       "      <td>...</td>\n",
       "      <td>...</td>\n",
       "      <td>...</td>\n",
       "      <td>...</td>\n",
       "    </tr>\n",
       "    <tr>\n",
       "      <th>543</th>\n",
       "      <td>GOLOVCHENKO, JENE A</td>\n",
       "      <td>GOLOVCHENKO</td>\n",
       "      <td>JENE A</td>\n",
       "      <td>JENE</td>\n",
       "      <td>A</td>\n",
       "      <td>GOLOVCHENKO, JENE</td>\n",
       "    </tr>\n",
       "    <tr>\n",
       "      <th>551</th>\n",
       "      <td>BENOIST, CHRISTOPHE O</td>\n",
       "      <td>BENOIST</td>\n",
       "      <td>CHRISTOPHE O</td>\n",
       "      <td>CHRISTOPHE</td>\n",
       "      <td>O</td>\n",
       "      <td>BENOIST, CHRISTOPHE</td>\n",
       "    </tr>\n",
       "    <tr>\n",
       "      <th>554</th>\n",
       "      <td>BLOOM, DAVID E</td>\n",
       "      <td>BLOOM</td>\n",
       "      <td>DAVID E</td>\n",
       "      <td>DAVID</td>\n",
       "      <td>E</td>\n",
       "      <td>BLOOM, DAVID</td>\n",
       "    </tr>\n",
       "    <tr>\n",
       "      <th>563</th>\n",
       "      <td>LICHTMAN, JEFF W</td>\n",
       "      <td>LICHTMAN</td>\n",
       "      <td>JEFF W</td>\n",
       "      <td>JEFF</td>\n",
       "      <td>W</td>\n",
       "      <td>LICHTMAN, JEFF</td>\n",
       "    </tr>\n",
       "    <tr>\n",
       "      <th>569</th>\n",
       "      <td>YANKNER, BRUCE A</td>\n",
       "      <td>YANKNER</td>\n",
       "      <td>BRUCE A</td>\n",
       "      <td>BRUCE</td>\n",
       "      <td>A</td>\n",
       "      <td>YANKNER, BRUCE</td>\n",
       "    </tr>\n",
       "  </tbody>\n",
       "</table>\n",
       "<p>347 rows × 6 columns</p>\n",
       "</div>"
      ],
      "text/plain": [
       "    contact_pi__project_leader         Last        FirstMid       First  \\\n",
       "1         DELISI, LYNN ELEANOR       DELISI    LYNN ELEANOR        LYNN   \n",
       "2       AIROLDI, EDOARDO MARIA      AIROLDI   EDOARDO MARIA     EDOARDO   \n",
       "3                 LIN, XIHONG           LIN         XIHONG       XIHONG   \n",
       "22              MANGO, SUSAN E        MANGO         SUSAN E       SUSAN   \n",
       "54            SILVER, PAMELA A       SILVER        PAMELA A      PAMELA   \n",
       "..                         ...          ...             ...         ...   \n",
       "543       GOLOVCHENKO, JENE A   GOLOVCHENKO         JENE A         JENE   \n",
       "551      BENOIST, CHRISTOPHE O      BENOIST    CHRISTOPHE O  CHRISTOPHE   \n",
       "554            BLOOM, DAVID E         BLOOM        DAVID E        DAVID   \n",
       "563          LICHTMAN, JEFF W      LICHTMAN         JEFF W         JEFF   \n",
       "569          YANKNER, BRUCE A       YANKNER        BRUCE A        BRUCE   \n",
       "\n",
       "      Middle               Author  \n",
       "1    ELEANOR         DELISI, LYNN  \n",
       "2      MARIA     AIROLDI, EDOARDO  \n",
       "3       None          LIN, XIHONG  \n",
       "22         E         MANGO, SUSAN  \n",
       "54         A       SILVER, PAMELA  \n",
       "..       ...                  ...  \n",
       "543        A    GOLOVCHENKO, JENE  \n",
       "551        O  BENOIST, CHRISTOPHE  \n",
       "554        E         BLOOM, DAVID  \n",
       "563        W       LICHTMAN, JEFF  \n",
       "569        A       YANKNER, BRUCE  \n",
       "\n",
       "[347 rows x 6 columns]"
      ]
     },
     "execution_count": 23,
     "metadata": {},
     "output_type": "execute_result"
    }
   ],
   "source": [
    "research[\"Author\"] = research[\"Last\"] +\", \"+ research[\"First\"]\n",
    "research[['contact_pi__project_leader','Last','FirstMid', 'First','Middle', 'Author' ]]"
   ]
  },
  {
   "cell_type": "code",
   "execution_count": 25,
   "metadata": {},
   "outputs": [
    {
     "data": {
      "text/html": [
       "<div>\n",
       "<style scoped>\n",
       "    .dataframe tbody tr th:only-of-type {\n",
       "        vertical-align: middle;\n",
       "    }\n",
       "\n",
       "    .dataframe tbody tr th {\n",
       "        vertical-align: top;\n",
       "    }\n",
       "\n",
       "    .dataframe thead th {\n",
       "        text-align: right;\n",
       "    }\n",
       "</style>\n",
       "<table border=\"1\" class=\"dataframe\">\n",
       "  <thead>\n",
       "    <tr style=\"text-align: right;\">\n",
       "      <th></th>\n",
       "      <th>organization</th>\n",
       "      <th>Last</th>\n",
       "      <th>First</th>\n",
       "      <th>Author</th>\n",
       "      <th>Query</th>\n",
       "    </tr>\n",
       "  </thead>\n",
       "  <tbody>\n",
       "    <tr>\n",
       "      <th>1</th>\n",
       "      <td>harvard</td>\n",
       "      <td>DELISI</td>\n",
       "      <td>LYNN</td>\n",
       "      <td>DELISI, LYNN</td>\n",
       "      <td>DELISI, LYNN [Author] AND harvard[Affiliation]</td>\n",
       "    </tr>\n",
       "    <tr>\n",
       "      <th>2</th>\n",
       "      <td>harvard</td>\n",
       "      <td>AIROLDI</td>\n",
       "      <td>EDOARDO</td>\n",
       "      <td>AIROLDI, EDOARDO</td>\n",
       "      <td>AIROLDI, EDOARDO [Author] AND harvard[Affiliat...</td>\n",
       "    </tr>\n",
       "    <tr>\n",
       "      <th>3</th>\n",
       "      <td>harvard</td>\n",
       "      <td>LIN</td>\n",
       "      <td>XIHONG</td>\n",
       "      <td>LIN, XIHONG</td>\n",
       "      <td>LIN, XIHONG [Author] AND harvard[Affiliation]</td>\n",
       "    </tr>\n",
       "    <tr>\n",
       "      <th>22</th>\n",
       "      <td>harvard</td>\n",
       "      <td>MANGO</td>\n",
       "      <td>SUSAN</td>\n",
       "      <td>MANGO, SUSAN</td>\n",
       "      <td>MANGO, SUSAN [Author] AND harvard[Affiliation]</td>\n",
       "    </tr>\n",
       "    <tr>\n",
       "      <th>54</th>\n",
       "      <td>harvard</td>\n",
       "      <td>SILVER</td>\n",
       "      <td>PAMELA</td>\n",
       "      <td>SILVER, PAMELA</td>\n",
       "      <td>SILVER, PAMELA [Author] AND harvard[Affiliation]</td>\n",
       "    </tr>\n",
       "  </tbody>\n",
       "</table>\n",
       "</div>"
      ],
      "text/plain": [
       "   organization     Last    First            Author  \\\n",
       "1       harvard   DELISI     LYNN      DELISI, LYNN   \n",
       "2       harvard  AIROLDI  EDOARDO  AIROLDI, EDOARDO   \n",
       "3       harvard      LIN   XIHONG       LIN, XIHONG   \n",
       "22      harvard    MANGO    SUSAN      MANGO, SUSAN   \n",
       "54      harvard   SILVER   PAMELA    SILVER, PAMELA   \n",
       "\n",
       "                                                Query  \n",
       "1      DELISI, LYNN [Author] AND harvard[Affiliation]  \n",
       "2   AIROLDI, EDOARDO [Author] AND harvard[Affiliat...  \n",
       "3       LIN, XIHONG [Author] AND harvard[Affiliation]  \n",
       "22     MANGO, SUSAN [Author] AND harvard[Affiliation]  \n",
       "54   SILVER, PAMELA [Author] AND harvard[Affiliation]  "
      ]
     },
     "execution_count": 25,
     "metadata": {},
     "output_type": "execute_result"
    }
   ],
   "source": [
    "author_aff = pd.DataFrame(research[['organization', 'Last', 'First', 'Author']])\n",
    "author_aff[\"Query\"] = author_aff[\"Author\"].astype(str) + \" [Author] AND \" + author_aff[\"organization\"]+'[Affiliation]'\n",
    "author_aff.head(5)"
   ]
  },
  {
   "cell_type": "markdown",
   "metadata": {},
   "source": [
    "## Task 3\n",
    "* We will use author and affiliation to restrict the matched publications. For example, to search for Professor Xihong Lin’s publications, you can enter “LIN, XIHONG[Author] AND Harvard[Affiliation]” into the search box. The number of publications from the returned page, which may show “Results: 1 to 20 of 68” for Professor Lin. Please extract the number of publications for the names extracted in step 2.\n",
    "* Note that some search pages may be empty, and please build a mechanism to set the number of publications to zero in this case."
   ]
  },
  {
   "cell_type": "markdown",
   "metadata": {},
   "source": [
    "### Method 1- Use biopython"
   ]
  },
  {
   "cell_type": "code",
   "execution_count": 2,
   "metadata": {},
   "outputs": [],
   "source": [
    "from Bio import Entrez\n",
    "#Entrez.email = \"isela.delacerda@gmail.com\""
   ]
  },
  {
   "cell_type": "code",
   "execution_count": 9,
   "metadata": {},
   "outputs": [],
   "source": [
    "def obtain_pub_cnt_from_bio(query):\n",
    "    '''\n",
    "    use module bio to extract the publication count\n",
    "    arg: query  e.g. \"LIN, XIHONG[Author] AND Harvard[Affiliation]\"\n",
    "    '''\n",
    "    pub_cnt = 0\n",
    "    handle = Entrez.egquery(term=query ) #works with direct input of the search query\n",
    "    record = Entrez.read(handle)\n",
    "    handle.close()\n",
    "    for row in record[\"eGQueryResult\"]:\n",
    "        if  row[\"DbName\"] ==\"pubmed\":\n",
    "            pub_cnt = int(row['Count'])\n",
    "    return(pub_cnt)"
   ]
  },
  {
   "cell_type": "code",
   "execution_count": 28,
   "metadata": {},
   "outputs": [],
   "source": [
    "for i in author_aff.index:\n",
    "    author_aff.loc[i, 'pub_cnt'] = obtain_pub_cnt_from_bio(author_aff.loc[i, 'Query' ] )"
   ]
  },
  {
   "cell_type": "code",
   "execution_count": 30,
   "metadata": {},
   "outputs": [
    {
     "data": {
      "text/html": [
       "<div>\n",
       "<style scoped>\n",
       "    .dataframe tbody tr th:only-of-type {\n",
       "        vertical-align: middle;\n",
       "    }\n",
       "\n",
       "    .dataframe tbody tr th {\n",
       "        vertical-align: top;\n",
       "    }\n",
       "\n",
       "    .dataframe thead th {\n",
       "        text-align: right;\n",
       "    }\n",
       "</style>\n",
       "<table border=\"1\" class=\"dataframe\">\n",
       "  <thead>\n",
       "    <tr style=\"text-align: right;\">\n",
       "      <th></th>\n",
       "      <th>organization</th>\n",
       "      <th>Last</th>\n",
       "      <th>First</th>\n",
       "      <th>Author</th>\n",
       "      <th>Query</th>\n",
       "      <th>pub_cnt</th>\n",
       "    </tr>\n",
       "  </thead>\n",
       "  <tbody>\n",
       "    <tr>\n",
       "      <th>1</th>\n",
       "      <td>harvard</td>\n",
       "      <td>DELISI</td>\n",
       "      <td>LYNN</td>\n",
       "      <td>DELISI, LYNN</td>\n",
       "      <td>DELISI, LYNN [Author] AND harvard[Affiliation]</td>\n",
       "      <td>55.0</td>\n",
       "    </tr>\n",
       "    <tr>\n",
       "      <th>2</th>\n",
       "      <td>harvard</td>\n",
       "      <td>AIROLDI</td>\n",
       "      <td>EDOARDO</td>\n",
       "      <td>AIROLDI, EDOARDO</td>\n",
       "      <td>AIROLDI, EDOARDO [Author] AND harvard[Affiliat...</td>\n",
       "      <td>27.0</td>\n",
       "    </tr>\n",
       "    <tr>\n",
       "      <th>3</th>\n",
       "      <td>harvard</td>\n",
       "      <td>LIN</td>\n",
       "      <td>XIHONG</td>\n",
       "      <td>LIN, XIHONG</td>\n",
       "      <td>LIN, XIHONG [Author] AND harvard[Affiliation]</td>\n",
       "      <td>146.0</td>\n",
       "    </tr>\n",
       "    <tr>\n",
       "      <th>22</th>\n",
       "      <td>harvard</td>\n",
       "      <td>MANGO</td>\n",
       "      <td>SUSAN</td>\n",
       "      <td>MANGO, SUSAN</td>\n",
       "      <td>MANGO, SUSAN [Author] AND harvard[Affiliation]</td>\n",
       "      <td>12.0</td>\n",
       "    </tr>\n",
       "    <tr>\n",
       "      <th>54</th>\n",
       "      <td>harvard</td>\n",
       "      <td>SILVER</td>\n",
       "      <td>PAMELA</td>\n",
       "      <td>SILVER, PAMELA</td>\n",
       "      <td>SILVER, PAMELA [Author] AND harvard[Affiliation]</td>\n",
       "      <td>187.0</td>\n",
       "    </tr>\n",
       "    <tr>\n",
       "      <th>...</th>\n",
       "      <td>...</td>\n",
       "      <td>...</td>\n",
       "      <td>...</td>\n",
       "      <td>...</td>\n",
       "      <td>...</td>\n",
       "      <td>...</td>\n",
       "    </tr>\n",
       "    <tr>\n",
       "      <th>543</th>\n",
       "      <td>harvard</td>\n",
       "      <td>GOLOVCHENKO</td>\n",
       "      <td>JENE</td>\n",
       "      <td>GOLOVCHENKO, JENE</td>\n",
       "      <td>GOLOVCHENKO, JENE [Author] AND harvard[Affilia...</td>\n",
       "      <td>19.0</td>\n",
       "    </tr>\n",
       "    <tr>\n",
       "      <th>551</th>\n",
       "      <td>harvard</td>\n",
       "      <td>BENOIST</td>\n",
       "      <td>CHRISTOPHE</td>\n",
       "      <td>BENOIST, CHRISTOPHE</td>\n",
       "      <td>BENOIST, CHRISTOPHE [Author] AND harvard[Affil...</td>\n",
       "      <td>162.0</td>\n",
       "    </tr>\n",
       "    <tr>\n",
       "      <th>554</th>\n",
       "      <td>harvard</td>\n",
       "      <td>BLOOM</td>\n",
       "      <td>DAVID</td>\n",
       "      <td>BLOOM, DAVID</td>\n",
       "      <td>BLOOM, DAVID [Author] AND harvard[Affiliation]</td>\n",
       "      <td>77.0</td>\n",
       "    </tr>\n",
       "    <tr>\n",
       "      <th>563</th>\n",
       "      <td>harvard</td>\n",
       "      <td>LICHTMAN</td>\n",
       "      <td>JEFF</td>\n",
       "      <td>LICHTMAN, JEFF</td>\n",
       "      <td>LICHTMAN, JEFF [Author] AND harvard[Affiliation]</td>\n",
       "      <td>80.0</td>\n",
       "    </tr>\n",
       "    <tr>\n",
       "      <th>569</th>\n",
       "      <td>harvard</td>\n",
       "      <td>YANKNER</td>\n",
       "      <td>BRUCE</td>\n",
       "      <td>YANKNER, BRUCE</td>\n",
       "      <td>YANKNER, BRUCE [Author] AND harvard[Affiliation]</td>\n",
       "      <td>26.0</td>\n",
       "    </tr>\n",
       "  </tbody>\n",
       "</table>\n",
       "<p>347 rows × 6 columns</p>\n",
       "</div>"
      ],
      "text/plain": [
       "    organization         Last       First               Author  \\\n",
       "1        harvard       DELISI        LYNN         DELISI, LYNN   \n",
       "2        harvard      AIROLDI     EDOARDO     AIROLDI, EDOARDO   \n",
       "3        harvard          LIN      XIHONG          LIN, XIHONG   \n",
       "22       harvard        MANGO       SUSAN         MANGO, SUSAN   \n",
       "54       harvard       SILVER      PAMELA       SILVER, PAMELA   \n",
       "..           ...          ...         ...                  ...   \n",
       "543      harvard  GOLOVCHENKO        JENE    GOLOVCHENKO, JENE   \n",
       "551      harvard      BENOIST  CHRISTOPHE  BENOIST, CHRISTOPHE   \n",
       "554      harvard        BLOOM       DAVID         BLOOM, DAVID   \n",
       "563      harvard     LICHTMAN        JEFF       LICHTMAN, JEFF   \n",
       "569      harvard      YANKNER       BRUCE       YANKNER, BRUCE   \n",
       "\n",
       "                                                 Query  pub_cnt  \n",
       "1       DELISI, LYNN [Author] AND harvard[Affiliation]     55.0  \n",
       "2    AIROLDI, EDOARDO [Author] AND harvard[Affiliat...     27.0  \n",
       "3        LIN, XIHONG [Author] AND harvard[Affiliation]    146.0  \n",
       "22      MANGO, SUSAN [Author] AND harvard[Affiliation]     12.0  \n",
       "54    SILVER, PAMELA [Author] AND harvard[Affiliation]    187.0  \n",
       "..                                                 ...      ...  \n",
       "543  GOLOVCHENKO, JENE [Author] AND harvard[Affilia...     19.0  \n",
       "551  BENOIST, CHRISTOPHE [Author] AND harvard[Affil...    162.0  \n",
       "554     BLOOM, DAVID [Author] AND harvard[Affiliation]     77.0  \n",
       "563   LICHTMAN, JEFF [Author] AND harvard[Affiliation]     80.0  \n",
       "569   YANKNER, BRUCE [Author] AND harvard[Affiliation]     26.0  \n",
       "\n",
       "[347 rows x 6 columns]"
      ]
     },
     "execution_count": 30,
     "metadata": {},
     "output_type": "execute_result"
    }
   ],
   "source": [
    "author_aff"
   ]
  },
  {
   "cell_type": "markdown",
   "metadata": {},
   "source": [
    "### Method 2 -Use regular expression"
   ]
  },
  {
   "cell_type": "code",
   "execution_count": 15,
   "metadata": {},
   "outputs": [],
   "source": [
    "# the regular expression used to extract the corresponding publication count\n",
    "pattern = re.compile(r'(?:.*)Search results(?:.*)Items: (?:\\d+) to (?:\\d+) of (\\d+)', re.DOTALL)\n",
    "def scrap_publication_count(url_page_contents):\n",
    "    '''\n",
    "    obtain the publication count of the author using keywords such as 'Sesarch results' and 'Items ... to... of...'\n",
    "    '''\n",
    "    pub_cnt = 0\n",
    "    for line in url_page_contents:\n",
    "        match_result = pattern.match(line)\n",
    "        # if none, means no result\n",
    "        if match_result:\n",
    "            print(match_result.group(1))\n",
    "            pub_cnt = int(match_result.group(1))\n",
    "           # match_result.group(1) returns the group value of (\\d+) in the regular expression and its type is a string\n",
    "    return(pub_cnt)"
   ]
  },
  {
   "cell_type": "code",
   "execution_count": 16,
   "metadata": {},
   "outputs": [],
   "source": [
    "from urllib.request import urlopen, urlretrieve\n",
    "pubmed = 'http://www.ncbi.nlm.nih.gov/pubmed/'"
   ]
  },
  {
   "cell_type": "code",
   "execution_count": null,
   "metadata": {},
   "outputs": [
    {
     "name": "stdout",
     "output_type": "stream",
     "text": [
      "http://www.ncbi.nlm.nih.gov/pubmed/?term=DELISI%2C+LYNN%5BAuthor%5D+AND+harvard%5BAffiliation%5D\n"
     ]
    }
   ],
   "source": [
    "for i in author_aff.index:\n",
    "    term = '?term='+author_aff.loc[i, 'Last']+'%2C+'+author_aff.loc[i, 'First']+'%5BAuthor%5D+AND+'+author_aff.loc[i, 'organization']+'%5BAffiliation%5D'\n",
    "    url = pubmed+term\n",
    "    #print(url)\n",
    "    contents = urlopen(url).read().decode('utf-8').split('\\n')\n",
    "    #print(contents)\n",
    "    author_aff.loc[i, 'pub_cnt'] = scrap_publication_count(contents)"
   ]
  },
  {
   "cell_type": "code",
   "execution_count": 226,
   "metadata": {},
   "outputs": [
    {
     "data": {
      "text/html": [
       "<div>\n",
       "<style scoped>\n",
       "    .dataframe tbody tr th:only-of-type {\n",
       "        vertical-align: middle;\n",
       "    }\n",
       "\n",
       "    .dataframe tbody tr th {\n",
       "        vertical-align: top;\n",
       "    }\n",
       "\n",
       "    .dataframe thead th {\n",
       "        text-align: right;\n",
       "    }\n",
       "</style>\n",
       "<table border=\"1\" class=\"dataframe\">\n",
       "  <thead>\n",
       "    <tr style=\"text-align: right;\">\n",
       "      <th></th>\n",
       "      <th>organization</th>\n",
       "      <th>Last</th>\n",
       "      <th>First</th>\n",
       "      <th>Author</th>\n",
       "      <th>pub_cnt</th>\n",
       "    </tr>\n",
       "  </thead>\n",
       "  <tbody>\n",
       "    <tr>\n",
       "      <th>1</th>\n",
       "      <td>harvard</td>\n",
       "      <td>DELISI</td>\n",
       "      <td>LYNN</td>\n",
       "      <td>DELISI, LYNN</td>\n",
       "      <td>55.0</td>\n",
       "    </tr>\n",
       "    <tr>\n",
       "      <th>2</th>\n",
       "      <td>harvard</td>\n",
       "      <td>AIROLDI</td>\n",
       "      <td>EDOARDO</td>\n",
       "      <td>AIROLDI, EDOARDO</td>\n",
       "      <td>NaN</td>\n",
       "    </tr>\n",
       "    <tr>\n",
       "      <th>3</th>\n",
       "      <td>harvard</td>\n",
       "      <td>LIN</td>\n",
       "      <td>XIHONG</td>\n",
       "      <td>LIN, XIHONG</td>\n",
       "      <td>NaN</td>\n",
       "    </tr>\n",
       "    <tr>\n",
       "      <th>22</th>\n",
       "      <td>harvard</td>\n",
       "      <td>MANGO</td>\n",
       "      <td>SUSAN</td>\n",
       "      <td>MANGO, SUSAN</td>\n",
       "      <td>NaN</td>\n",
       "    </tr>\n",
       "    <tr>\n",
       "      <th>54</th>\n",
       "      <td>harvard</td>\n",
       "      <td>SILVER</td>\n",
       "      <td>PAMELA</td>\n",
       "      <td>SILVER, PAMELA</td>\n",
       "      <td>NaN</td>\n",
       "    </tr>\n",
       "    <tr>\n",
       "      <th>...</th>\n",
       "      <td>...</td>\n",
       "      <td>...</td>\n",
       "      <td>...</td>\n",
       "      <td>...</td>\n",
       "      <td>...</td>\n",
       "    </tr>\n",
       "    <tr>\n",
       "      <th>543</th>\n",
       "      <td>harvard</td>\n",
       "      <td>GOLOVCHENKO</td>\n",
       "      <td>JENE</td>\n",
       "      <td>GOLOVCHENKO, JENE</td>\n",
       "      <td>NaN</td>\n",
       "    </tr>\n",
       "    <tr>\n",
       "      <th>551</th>\n",
       "      <td>harvard</td>\n",
       "      <td>BENOIST</td>\n",
       "      <td>CHRISTOPHE</td>\n",
       "      <td>BENOIST, CHRISTOPHE</td>\n",
       "      <td>NaN</td>\n",
       "    </tr>\n",
       "    <tr>\n",
       "      <th>554</th>\n",
       "      <td>harvard</td>\n",
       "      <td>BLOOM</td>\n",
       "      <td>DAVID</td>\n",
       "      <td>BLOOM, DAVID</td>\n",
       "      <td>NaN</td>\n",
       "    </tr>\n",
       "    <tr>\n",
       "      <th>563</th>\n",
       "      <td>harvard</td>\n",
       "      <td>LICHTMAN</td>\n",
       "      <td>JEFF</td>\n",
       "      <td>LICHTMAN, JEFF</td>\n",
       "      <td>NaN</td>\n",
       "    </tr>\n",
       "    <tr>\n",
       "      <th>569</th>\n",
       "      <td>harvard</td>\n",
       "      <td>YANKNER</td>\n",
       "      <td>BRUCE</td>\n",
       "      <td>YANKNER, BRUCE</td>\n",
       "      <td>NaN</td>\n",
       "    </tr>\n",
       "  </tbody>\n",
       "</table>\n",
       "<p>347 rows × 5 columns</p>\n",
       "</div>"
      ],
      "text/plain": [
       "    organization         Last       First               Author  pub_cnt\n",
       "1        harvard       DELISI        LYNN         DELISI, LYNN     55.0\n",
       "2        harvard      AIROLDI     EDOARDO     AIROLDI, EDOARDO      NaN\n",
       "3        harvard          LIN      XIHONG          LIN, XIHONG      NaN\n",
       "22       harvard        MANGO       SUSAN         MANGO, SUSAN      NaN\n",
       "54       harvard       SILVER      PAMELA       SILVER, PAMELA      NaN\n",
       "..           ...          ...         ...                  ...      ...\n",
       "543      harvard  GOLOVCHENKO        JENE    GOLOVCHENKO, JENE      NaN\n",
       "551      harvard      BENOIST  CHRISTOPHE  BENOIST, CHRISTOPHE      NaN\n",
       "554      harvard        BLOOM       DAVID         BLOOM, DAVID      NaN\n",
       "563      harvard     LICHTMAN        JEFF       LICHTMAN, JEFF      NaN\n",
       "569      harvard      YANKNER       BRUCE       YANKNER, BRUCE      NaN\n",
       "\n",
       "[347 rows x 5 columns]"
      ]
     },
     "execution_count": 226,
     "metadata": {},
     "output_type": "execute_result"
    }
   ],
   "source": [
    "author_aff"
   ]
  },
  {
   "cell_type": "markdown",
   "metadata": {},
   "source": [
    "## Task 4 \n",
    "In addition to your program, please submit your results as a csv table that contains the names and number of publications."
   ]
  },
  {
   "cell_type": "code",
   "execution_count": 33,
   "metadata": {},
   "outputs": [],
   "source": [
    "author_aff[['Author', 'pub_cnt']].to_csv('author_publication.csv', index=False)"
   ]
  },
  {
   "cell_type": "markdown",
   "metadata": {},
   "source": [
    "# Large Text Data \n",
    " We will use the text data from Synthea https://storage.googleapis.com/synthea-public/historical/synthea_1m_fhir_3_0_May_24.tar.gz. This dataset contains multiple formats, demonstrating the formats that we discussed in class. The FHIR format, for example, employs the strategy to split data into many reasonably sized files. We will use the other format, CSV, for this problem. The CSV data are separted into 12 compressed files or folders.\n",
    "\n",
    "## Task 1\n",
    "Concatenate 12 patients.csv files together to form one patients_all.csv file, which should be properly formatted as a csv file.\n"
   ]
  },
  {
   "cell_type": "code",
   "execution_count": 31,
   "metadata": {},
   "outputs": [],
   "source": [
    "import pandas as pd\n",
    "import csv\n",
    "import glob\n",
    "import os"
   ]
  },
  {
   "cell_type": "code",
   "execution_count": 34,
   "metadata": {},
   "outputs": [],
   "source": [
    "def concatenate(indir=\"/Users/isela/Desktop/Data_Science_Computing/funding_publication/synthea_1m_fhir_3_0_May_24\", outfile=\"/Users/isela/Desktop/Data_Science_Computing/funding_publication/synthea_1m_fhir_3_0_May_24/patients_all.csv\"):\n",
    "    os.chdir(indir)\n",
    "    fileList=glob.glob(\"*\")\n",
    "    dfList = []\n",
    "    colnames = [\"ID\",\"Birthdate\",\"Deathdate\", \"SSN\", \"Drivers\", \"Passaport\", \"Prefix\", \"First\", \"Last\", \"Suffix\", \"Maiden\", \"Marital\", \"Race\", \"Ethnicity\", \"Gender\",\n",
    "               \"Birthplace\", \"Address\"]\n",
    "    for filename in fileList:\n",
    "        print(filename)\n",
    "        df = pd.read_csv(filename, header = None, error_bad_lines = False)\n",
    "        dfList.append(df)\n",
    "    concatDf = pd.concat(dfList, axis = 0)\n",
    "    concatDf.columns=colnames\n",
    "    concatDf.to_csv(outfile, index=None)"
   ]
  },
  {
   "cell_type": "code",
   "execution_count": 35,
   "metadata": {},
   "outputs": [
    {
     "name": "stdout",
     "output_type": "stream",
     "text": [
      "output_9_patients.csv\n"
     ]
    },
    {
     "name": "stderr",
     "output_type": "stream",
     "text": [
      "b'Skipping line 2: expected 17 fields, saw 33\\nSkipping line 53: expected 17 fields, saw 39\\nSkipping line 73: expected 17 fields, saw 21\\nSkipping line 308: expected 17 fields, saw 18\\nSkipping line 814: expected 17 fields, saw 20\\nSkipping line 843: expected 17 fields, saw 33\\nSkipping line 1624: expected 17 fields, saw 22\\nSkipping line 1702: expected 17 fields, saw 29\\nSkipping line 2632: expected 17 fields, saw 30\\nSkipping line 2959: expected 17 fields, saw 33\\nSkipping line 3108: expected 17 fields, saw 33\\nSkipping line 3113: expected 17 fields, saw 18\\nSkipping line 3258: expected 17 fields, saw 27\\nSkipping line 3290: expected 17 fields, saw 18\\nSkipping line 3358: expected 17 fields, saw 33\\nSkipping line 3399: expected 17 fields, saw 26\\nSkipping line 3409: expected 17 fields, saw 19\\nSkipping line 3477: expected 17 fields, saw 33\\nSkipping line 3540: expected 17 fields, saw 27\\nSkipping line 3541: expected 17 fields, saw 22\\nSkipping line 3545: expected 17 fields, saw 31\\nSkipping line 3560: expected 17 fields, saw 33\\nSkipping line 3578: expected 17 fields, saw 33\\nSkipping line 3636: expected 17 fields, saw 18\\nSkipping line 3649: expected 17 fields, saw 18\\nSkipping line 3682: expected 17 fields, saw 33\\nSkipping line 3684: expected 17 fields, saw 30\\nSkipping line 3750: expected 17 fields, saw 21\\nSkipping line 3801: expected 17 fields, saw 31\\nSkipping line 3814: expected 17 fields, saw 33\\nSkipping line 3828: expected 17 fields, saw 23\\nSkipping line 3889: expected 17 fields, saw 18\\nSkipping line 3894: expected 17 fields, saw 23\\nSkipping line 3957: expected 17 fields, saw 19\\nSkipping line 3970: expected 17 fields, saw 33\\nSkipping line 4006: expected 17 fields, saw 22\\nSkipping line 4011: expected 17 fields, saw 33\\nSkipping line 4028: expected 17 fields, saw 18\\nSkipping line 4070: expected 17 fields, saw 31\\nSkipping line 4193: expected 17 fields, saw 31\\nSkipping line 4232: expected 17 fields, saw 32\\nSkipping line 4239: expected 17 fields, saw 36\\nSkipping line 4276: expected 17 fields, saw 31\\nSkipping line 4306: expected 17 fields, saw 18\\nSkipping line 5971: expected 17 fields, saw 20\\nSkipping line 6369: expected 17 fields, saw 33\\nSkipping line 12937: expected 17 fields, saw 26\\nSkipping line 13352: expected 17 fields, saw 33\\nSkipping line 13743: expected 17 fields, saw 33\\nSkipping line 14258: expected 17 fields, saw 20\\nSkipping line 14288: expected 17 fields, saw 25\\nSkipping line 17454: expected 17 fields, saw 18\\nSkipping line 17535: expected 17 fields, saw 33\\nSkipping line 18994: expected 17 fields, saw 18\\nSkipping line 21268: expected 17 fields, saw 33\\nSkipping line 23988: expected 17 fields, saw 24\\nSkipping line 25152: expected 17 fields, saw 31\\nSkipping line 25214: expected 17 fields, saw 33\\nSkipping line 25888: expected 17 fields, saw 27\\nSkipping line 26488: expected 17 fields, saw 30\\nSkipping line 26885: expected 17 fields, saw 18\\nSkipping line 27916: expected 17 fields, saw 22\\nSkipping line 28818: expected 17 fields, saw 18\\nSkipping line 29413: expected 17 fields, saw 33\\nSkipping line 30329: expected 17 fields, saw 18\\nSkipping line 30885: expected 17 fields, saw 21\\nSkipping line 31428: expected 17 fields, saw 23\\n'\n",
      "b'Skipping line 33560: expected 17 fields, saw 33\\nSkipping line 35393: expected 17 fields, saw 32\\nSkipping line 35567: expected 17 fields, saw 26\\nSkipping line 36493: expected 17 fields, saw 33\\nSkipping line 37614: expected 17 fields, saw 33\\nSkipping line 37882: expected 17 fields, saw 25\\nSkipping line 38164: expected 17 fields, saw 24\\nSkipping line 38826: expected 17 fields, saw 18\\nSkipping line 40670: expected 17 fields, saw 20\\nSkipping line 40677: expected 17 fields, saw 31\\nSkipping line 40749: expected 17 fields, saw 31\\nSkipping line 41101: expected 17 fields, saw 29\\nSkipping line 42591: expected 17 fields, saw 18\\nSkipping line 42871: expected 17 fields, saw 21\\nSkipping line 43189: expected 17 fields, saw 25\\nSkipping line 44374: expected 17 fields, saw 29\\nSkipping line 44403: expected 17 fields, saw 29\\nSkipping line 44486: expected 17 fields, saw 18\\nSkipping line 47432: expected 17 fields, saw 20\\nSkipping line 47504: expected 17 fields, saw 24\\nSkipping line 47522: expected 17 fields, saw 18\\nSkipping line 47721: expected 17 fields, saw 26\\nSkipping line 49358: expected 17 fields, saw 31\\nSkipping line 52536: expected 17 fields, saw 33\\nSkipping line 52659: expected 17 fields, saw 29\\nSkipping line 52819: expected 17 fields, saw 33\\nSkipping line 52960: expected 17 fields, saw 33\\nSkipping line 54567: expected 17 fields, saw 19\\nSkipping line 55381: expected 17 fields, saw 33\\nSkipping line 56158: expected 17 fields, saw 18\\nSkipping line 56677: expected 17 fields, saw 22\\nSkipping line 57406: expected 17 fields, saw 33\\nSkipping line 59030: expected 17 fields, saw 33\\nSkipping line 60957: expected 17 fields, saw 19\\nSkipping line 61137: expected 17 fields, saw 20\\nSkipping line 61231: expected 17 fields, saw 19\\nSkipping line 61303: expected 17 fields, saw 33\\nSkipping line 61738: expected 17 fields, saw 33\\nSkipping line 61741: expected 17 fields, saw 18\\nSkipping line 61949: expected 17 fields, saw 25\\nSkipping line 62622: expected 17 fields, saw 33\\nSkipping line 64151: expected 17 fields, saw 18\\nSkipping line 65389: expected 17 fields, saw 22\\n'\n",
      "b'Skipping line 66195: expected 17 fields, saw 33\\nSkipping line 66687: expected 17 fields, saw 32\\nSkipping line 67344: expected 17 fields, saw 23\\nSkipping line 67380: expected 17 fields, saw 20\\nSkipping line 68204: expected 17 fields, saw 33\\nSkipping line 68756: expected 17 fields, saw 24\\nSkipping line 69534: expected 17 fields, saw 19\\nSkipping line 70706: expected 17 fields, saw 29\\nSkipping line 71486: expected 17 fields, saw 18\\nSkipping line 73769: expected 17 fields, saw 25\\nSkipping line 74182: expected 17 fields, saw 26\\nSkipping line 74652: expected 17 fields, saw 33\\nSkipping line 74780: expected 17 fields, saw 33\\nSkipping line 75243: expected 17 fields, saw 30\\nSkipping line 76357: expected 17 fields, saw 25\\nSkipping line 77064: expected 17 fields, saw 33\\nSkipping line 80222: expected 17 fields, saw 33\\nSkipping line 81711: expected 17 fields, saw 28\\nSkipping line 82939: expected 17 fields, saw 20\\nSkipping line 83995: expected 17 fields, saw 22\\nSkipping line 84262: expected 17 fields, saw 18\\nSkipping line 87202: expected 17 fields, saw 29\\nSkipping line 87654: expected 17 fields, saw 33\\nSkipping line 87932: expected 17 fields, saw 33\\nSkipping line 90392: expected 17 fields, saw 20\\nSkipping line 91691: expected 17 fields, saw 18\\nSkipping line 98372: expected 17 fields, saw 33\\nSkipping line 98400: expected 17 fields, saw 33\\n'\n",
      "b'Skipping line 98588: expected 17 fields, saw 30\\nSkipping line 100883: expected 17 fields, saw 29\\nSkipping line 104357: expected 17 fields, saw 18\\nSkipping line 105168: expected 17 fields, saw 33\\nSkipping line 105230: expected 17 fields, saw 22\\nSkipping line 106990: expected 17 fields, saw 31\\nSkipping line 107383: expected 17 fields, saw 33\\nSkipping line 107451: expected 17 fields, saw 29\\nSkipping line 109539: expected 17 fields, saw 33\\nSkipping line 110188: expected 17 fields, saw 33\\nSkipping line 111005: expected 17 fields, saw 33\\nSkipping line 111534: expected 17 fields, saw 18\\nSkipping line 112843: expected 17 fields, saw 29\\nSkipping line 113531: expected 17 fields, saw 18\\nSkipping line 115546: expected 17 fields, saw 18\\nSkipping line 117144: expected 17 fields, saw 31\\nSkipping line 118731: expected 17 fields, saw 28\\nSkipping line 119723: expected 17 fields, saw 33\\nSkipping line 120229: expected 17 fields, saw 33\\nSkipping line 121451: expected 17 fields, saw 30\\nSkipping line 121799: expected 17 fields, saw 33\\nSkipping line 122012: expected 17 fields, saw 31\\nSkipping line 123585: expected 17 fields, saw 30\\nSkipping line 124005: expected 17 fields, saw 31\\nSkipping line 124633: expected 17 fields, saw 22\\nSkipping line 125062: expected 17 fields, saw 33\\nSkipping line 125107: expected 17 fields, saw 33\\nSkipping line 127303: expected 17 fields, saw 23\\nSkipping line 128641: expected 17 fields, saw 33\\nSkipping line 129017: expected 17 fields, saw 28\\nSkipping line 130069: expected 17 fields, saw 22\\nSkipping line 130621: expected 17 fields, saw 22\\n'\n"
     ]
    },
    {
     "name": "stderr",
     "output_type": "stream",
     "text": [
      "b'Skipping line 131955: expected 17 fields, saw 32\\n'\n"
     ]
    },
    {
     "name": "stdout",
     "output_type": "stream",
     "text": [
      "output_8_patients.csv\n"
     ]
    },
    {
     "name": "stderr",
     "output_type": "stream",
     "text": [
      "b'Skipping line 9: expected 17 fields, saw 32\\nSkipping line 19: expected 17 fields, saw 33\\nSkipping line 53: expected 17 fields, saw 33\\nSkipping line 628: expected 17 fields, saw 33\\nSkipping line 2305: expected 17 fields, saw 28\\nSkipping line 2373: expected 17 fields, saw 33\\nSkipping line 2626: expected 17 fields, saw 33\\nSkipping line 3216: expected 17 fields, saw 22\\nSkipping line 3230: expected 17 fields, saw 19\\nSkipping line 3248: expected 17 fields, saw 32\\nSkipping line 3274: expected 17 fields, saw 22\\nSkipping line 3320: expected 17 fields, saw 21\\nSkipping line 3392: expected 17 fields, saw 20\\nSkipping line 3421: expected 17 fields, saw 33\\nSkipping line 3432: expected 17 fields, saw 18\\nSkipping line 3502: expected 17 fields, saw 28\\nSkipping line 3547: expected 17 fields, saw 33\\nSkipping line 3583: expected 17 fields, saw 23\\nSkipping line 3604: expected 17 fields, saw 29\\nSkipping line 3650: expected 17 fields, saw 18\\nSkipping line 3792: expected 17 fields, saw 18\\nSkipping line 3886: expected 17 fields, saw 18\\nSkipping line 4098: expected 17 fields, saw 24\\nSkipping line 5360: expected 17 fields, saw 33\\nSkipping line 8336: expected 17 fields, saw 28\\nSkipping line 10703: expected 17 fields, saw 18\\nSkipping line 11762: expected 17 fields, saw 18\\nSkipping line 13489: expected 17 fields, saw 22\\nSkipping line 14746: expected 17 fields, saw 18\\nSkipping line 15744: expected 17 fields, saw 29\\nSkipping line 16528: expected 17 fields, saw 33\\nSkipping line 16620: expected 17 fields, saw 19\\nSkipping line 17894: expected 17 fields, saw 18\\nSkipping line 19145: expected 17 fields, saw 18\\nSkipping line 19205: expected 17 fields, saw 31\\nSkipping line 19215: expected 17 fields, saw 23\\nSkipping line 23531: expected 17 fields, saw 21\\nSkipping line 23593: expected 17 fields, saw 33\\nSkipping line 23726: expected 17 fields, saw 31\\nSkipping line 23738: expected 17 fields, saw 31\\nSkipping line 24124: expected 17 fields, saw 20\\nSkipping line 24503: expected 17 fields, saw 22\\nSkipping line 24714: expected 17 fields, saw 33\\nSkipping line 24864: expected 17 fields, saw 33\\nSkipping line 25193: expected 17 fields, saw 23\\nSkipping line 26148: expected 17 fields, saw 18\\nSkipping line 27280: expected 17 fields, saw 27\\nSkipping line 27706: expected 17 fields, saw 22\\nSkipping line 28037: expected 17 fields, saw 18\\nSkipping line 28623: expected 17 fields, saw 30\\nSkipping line 29730: expected 17 fields, saw 33\\nSkipping line 30156: expected 17 fields, saw 20\\nSkipping line 30792: expected 17 fields, saw 33\\nSkipping line 31746: expected 17 fields, saw 33\\nSkipping line 31769: expected 17 fields, saw 18\\nSkipping line 32128: expected 17 fields, saw 25\\nSkipping line 32819: expected 17 fields, saw 25\\n'\n",
      "b'Skipping line 32840: expected 17 fields, saw 20\\nSkipping line 33255: expected 17 fields, saw 31\\nSkipping line 34511: expected 17 fields, saw 25\\nSkipping line 35241: expected 17 fields, saw 18\\nSkipping line 35562: expected 17 fields, saw 20\\nSkipping line 36298: expected 17 fields, saw 24\\nSkipping line 36300: expected 17 fields, saw 22\\nSkipping line 37019: expected 17 fields, saw 19\\nSkipping line 37411: expected 17 fields, saw 18\\nSkipping line 40019: expected 17 fields, saw 33\\nSkipping line 42278: expected 17 fields, saw 18\\nSkipping line 42431: expected 17 fields, saw 18\\nSkipping line 42754: expected 17 fields, saw 33\\nSkipping line 42787: expected 17 fields, saw 30\\nSkipping line 42795: expected 17 fields, saw 18\\nSkipping line 43587: expected 17 fields, saw 33\\nSkipping line 43680: expected 17 fields, saw 23\\nSkipping line 44185: expected 17 fields, saw 25\\nSkipping line 44236: expected 17 fields, saw 33\\nSkipping line 45007: expected 17 fields, saw 31\\nSkipping line 45670: expected 17 fields, saw 20\\nSkipping line 45892: expected 17 fields, saw 33\\nSkipping line 46141: expected 17 fields, saw 30\\nSkipping line 47624: expected 17 fields, saw 28\\nSkipping line 47882: expected 17 fields, saw 20\\nSkipping line 48730: expected 17 fields, saw 31\\nSkipping line 48853: expected 17 fields, saw 33\\nSkipping line 48986: expected 17 fields, saw 18\\nSkipping line 50312: expected 17 fields, saw 22\\nSkipping line 50686: expected 17 fields, saw 18\\nSkipping line 50812: expected 17 fields, saw 30\\nSkipping line 50979: expected 17 fields, saw 28\\nSkipping line 54617: expected 17 fields, saw 33\\nSkipping line 54783: expected 17 fields, saw 20\\nSkipping line 54866: expected 17 fields, saw 33\\nSkipping line 57744: expected 17 fields, saw 33\\nSkipping line 58787: expected 17 fields, saw 30\\nSkipping line 60169: expected 17 fields, saw 33\\nSkipping line 61071: expected 17 fields, saw 32\\nSkipping line 61204: expected 17 fields, saw 33\\nSkipping line 61896: expected 17 fields, saw 23\\nSkipping line 62524: expected 17 fields, saw 33\\nSkipping line 62812: expected 17 fields, saw 18\\nSkipping line 64153: expected 17 fields, saw 27\\nSkipping line 64718: expected 17 fields, saw 20\\nSkipping line 65316: expected 17 fields, saw 31\\nSkipping line 65452: expected 17 fields, saw 18\\n'\n",
      "b'Skipping line 65742: expected 17 fields, saw 33\\nSkipping line 66632: expected 17 fields, saw 33\\nSkipping line 68105: expected 17 fields, saw 31\\nSkipping line 68731: expected 17 fields, saw 33\\nSkipping line 70759: expected 17 fields, saw 31\\nSkipping line 70935: expected 17 fields, saw 18\\nSkipping line 71646: expected 17 fields, saw 25\\nSkipping line 71905: expected 17 fields, saw 33\\nSkipping line 72732: expected 17 fields, saw 33\\nSkipping line 73435: expected 17 fields, saw 27\\nSkipping line 75305: expected 17 fields, saw 33\\nSkipping line 77309: expected 17 fields, saw 22\\nSkipping line 77546: expected 17 fields, saw 25\\nSkipping line 78470: expected 17 fields, saw 19\\nSkipping line 78482: expected 17 fields, saw 33\\nSkipping line 78957: expected 17 fields, saw 33\\nSkipping line 79408: expected 17 fields, saw 32\\nSkipping line 79736: expected 17 fields, saw 23\\nSkipping line 80046: expected 17 fields, saw 29\\nSkipping line 80898: expected 17 fields, saw 18\\nSkipping line 83618: expected 17 fields, saw 33\\nSkipping line 83692: expected 17 fields, saw 33\\nSkipping line 83746: expected 17 fields, saw 33\\nSkipping line 84536: expected 17 fields, saw 29\\nSkipping line 86169: expected 17 fields, saw 33\\nSkipping line 88331: expected 17 fields, saw 22\\nSkipping line 88437: expected 17 fields, saw 29\\nSkipping line 89067: expected 17 fields, saw 30\\nSkipping line 91168: expected 17 fields, saw 18\\nSkipping line 91173: expected 17 fields, saw 18\\nSkipping line 93714: expected 17 fields, saw 33\\nSkipping line 93769: expected 17 fields, saw 31\\nSkipping line 94278: expected 17 fields, saw 26\\nSkipping line 95336: expected 17 fields, saw 18\\nSkipping line 95834: expected 17 fields, saw 33\\nSkipping line 96085: expected 17 fields, saw 33\\nSkipping line 96324: expected 17 fields, saw 24\\nSkipping line 96397: expected 17 fields, saw 33\\nSkipping line 96511: expected 17 fields, saw 28\\n'\n",
      "b'Skipping line 100694: expected 17 fields, saw 33\\nSkipping line 103116: expected 17 fields, saw 18\\nSkipping line 104606: expected 17 fields, saw 18\\nSkipping line 106131: expected 17 fields, saw 33\\nSkipping line 108054: expected 17 fields, saw 26\\nSkipping line 108384: expected 17 fields, saw 23\\nSkipping line 109997: expected 17 fields, saw 33\\nSkipping line 110540: expected 17 fields, saw 33\\nSkipping line 110622: expected 17 fields, saw 29\\nSkipping line 110631: expected 17 fields, saw 33\\nSkipping line 111503: expected 17 fields, saw 19\\nSkipping line 112072: expected 17 fields, saw 18\\nSkipping line 112242: expected 17 fields, saw 33\\nSkipping line 113562: expected 17 fields, saw 29\\nSkipping line 113619: expected 17 fields, saw 33\\nSkipping line 115393: expected 17 fields, saw 33\\nSkipping line 115956: expected 17 fields, saw 33\\nSkipping line 116032: expected 17 fields, saw 29\\nSkipping line 117698: expected 17 fields, saw 18\\nSkipping line 119700: expected 17 fields, saw 22\\nSkipping line 120194: expected 17 fields, saw 19\\nSkipping line 120273: expected 17 fields, saw 18\\nSkipping line 120434: expected 17 fields, saw 18\\nSkipping line 121038: expected 17 fields, saw 18\\nSkipping line 121126: expected 17 fields, saw 31\\nSkipping line 122110: expected 17 fields, saw 18\\nSkipping line 125133: expected 17 fields, saw 18\\nSkipping line 125909: expected 17 fields, saw 20\\nSkipping line 126058: expected 17 fields, saw 25\\nSkipping line 127181: expected 17 fields, saw 18\\nSkipping line 128131: expected 17 fields, saw 18\\nSkipping line 128679: expected 17 fields, saw 18\\nSkipping line 130034: expected 17 fields, saw 33\\nSkipping line 130650: expected 17 fields, saw 22\\nSkipping line 130939: expected 17 fields, saw 33\\n'\n"
     ]
    },
    {
     "name": "stderr",
     "output_type": "stream",
     "text": [
      "b'Skipping line 131736: expected 17 fields, saw 33\\nSkipping line 132656: expected 17 fields, saw 30\\n'\n"
     ]
    },
    {
     "name": "stdout",
     "output_type": "stream",
     "text": [
      "output_2_patients.csv\n"
     ]
    },
    {
     "name": "stderr",
     "output_type": "stream",
     "text": [
      "b'Skipping line 1189: expected 17 fields, saw 32\\nSkipping line 1238: expected 17 fields, saw 33\\nSkipping line 1462: expected 17 fields, saw 18\\nSkipping line 1507: expected 17 fields, saw 22\\nSkipping line 2385: expected 17 fields, saw 23\\nSkipping line 2411: expected 17 fields, saw 23\\nSkipping line 3219: expected 17 fields, saw 30\\nSkipping line 3228: expected 17 fields, saw 18\\nSkipping line 3237: expected 17 fields, saw 33\\nSkipping line 3299: expected 17 fields, saw 33\\nSkipping line 3410: expected 17 fields, saw 18\\nSkipping line 3441: expected 17 fields, saw 22\\nSkipping line 3478: expected 17 fields, saw 18\\nSkipping line 3725: expected 17 fields, saw 33\\nSkipping line 3939: expected 17 fields, saw 33\\nSkipping line 3991: expected 17 fields, saw 33\\nSkipping line 4071: expected 17 fields, saw 33\\nSkipping line 5566: expected 17 fields, saw 33\\nSkipping line 6210: expected 17 fields, saw 33\\nSkipping line 6713: expected 17 fields, saw 33\\nSkipping line 7392: expected 17 fields, saw 33\\nSkipping line 7526: expected 17 fields, saw 18\\nSkipping line 7654: expected 17 fields, saw 33\\nSkipping line 9596: expected 17 fields, saw 33\\nSkipping line 10676: expected 17 fields, saw 33\\nSkipping line 11089: expected 17 fields, saw 33\\nSkipping line 11234: expected 17 fields, saw 20\\nSkipping line 11577: expected 17 fields, saw 33\\nSkipping line 11670: expected 17 fields, saw 28\\nSkipping line 12655: expected 17 fields, saw 33\\nSkipping line 12916: expected 17 fields, saw 18\\nSkipping line 12983: expected 17 fields, saw 29\\nSkipping line 13151: expected 17 fields, saw 32\\nSkipping line 15592: expected 17 fields, saw 20\\nSkipping line 15868: expected 17 fields, saw 33\\nSkipping line 15885: expected 17 fields, saw 31\\nSkipping line 15971: expected 17 fields, saw 22\\nSkipping line 16566: expected 17 fields, saw 27\\nSkipping line 17297: expected 17 fields, saw 19\\nSkipping line 17654: expected 17 fields, saw 33\\nSkipping line 18716: expected 17 fields, saw 20\\nSkipping line 19839: expected 17 fields, saw 29\\nSkipping line 21459: expected 17 fields, saw 19\\nSkipping line 22270: expected 17 fields, saw 18\\nSkipping line 24803: expected 17 fields, saw 33\\nSkipping line 25628: expected 17 fields, saw 33\\nSkipping line 26002: expected 17 fields, saw 32\\nSkipping line 28777: expected 17 fields, saw 18\\nSkipping line 29745: expected 17 fields, saw 33\\nSkipping line 30018: expected 17 fields, saw 20\\nSkipping line 30056: expected 17 fields, saw 33\\nSkipping line 31330: expected 17 fields, saw 33\\n'\n",
      "b'Skipping line 34638: expected 17 fields, saw 33\\nSkipping line 35903: expected 17 fields, saw 33\\nSkipping line 36847: expected 17 fields, saw 18\\nSkipping line 37310: expected 17 fields, saw 23\\nSkipping line 37756: expected 17 fields, saw 33\\nSkipping line 37857: expected 17 fields, saw 29\\nSkipping line 38343: expected 17 fields, saw 33\\nSkipping line 39279: expected 17 fields, saw 33\\nSkipping line 39420: expected 17 fields, saw 20\\nSkipping line 41117: expected 17 fields, saw 26\\nSkipping line 41168: expected 17 fields, saw 22\\nSkipping line 41255: expected 17 fields, saw 20\\nSkipping line 42141: expected 17 fields, saw 31\\nSkipping line 42466: expected 17 fields, saw 31\\nSkipping line 43034: expected 17 fields, saw 19\\nSkipping line 44832: expected 17 fields, saw 20\\nSkipping line 45415: expected 17 fields, saw 22\\nSkipping line 45962: expected 17 fields, saw 20\\nSkipping line 46303: expected 17 fields, saw 33\\nSkipping line 46621: expected 17 fields, saw 33\\nSkipping line 48565: expected 17 fields, saw 20\\nSkipping line 51321: expected 17 fields, saw 28\\nSkipping line 51955: expected 17 fields, saw 20\\nSkipping line 53040: expected 17 fields, saw 32\\nSkipping line 55255: expected 17 fields, saw 24\\nSkipping line 56729: expected 17 fields, saw 24\\nSkipping line 57028: expected 17 fields, saw 27\\nSkipping line 60761: expected 17 fields, saw 18\\nSkipping line 61198: expected 17 fields, saw 18\\nSkipping line 62940: expected 17 fields, saw 29\\nSkipping line 65121: expected 17 fields, saw 26\\n'\n",
      "b'Skipping line 66153: expected 17 fields, saw 33\\nSkipping line 67376: expected 17 fields, saw 33\\nSkipping line 67626: expected 17 fields, saw 18\\nSkipping line 67855: expected 17 fields, saw 30\\nSkipping line 68517: expected 17 fields, saw 24\\nSkipping line 68864: expected 17 fields, saw 33\\nSkipping line 69143: expected 17 fields, saw 27\\nSkipping line 69258: expected 17 fields, saw 26\\nSkipping line 69648: expected 17 fields, saw 19\\nSkipping line 70275: expected 17 fields, saw 18\\nSkipping line 70477: expected 17 fields, saw 32\\nSkipping line 71329: expected 17 fields, saw 22\\nSkipping line 72167: expected 17 fields, saw 32\\nSkipping line 72377: expected 17 fields, saw 33\\nSkipping line 72392: expected 17 fields, saw 33\\nSkipping line 73376: expected 17 fields, saw 33\\nSkipping line 74392: expected 17 fields, saw 26\\nSkipping line 74809: expected 17 fields, saw 33\\nSkipping line 76280: expected 17 fields, saw 33\\nSkipping line 76563: expected 17 fields, saw 33\\nSkipping line 76614: expected 17 fields, saw 33\\nSkipping line 79232: expected 17 fields, saw 29\\nSkipping line 80835: expected 17 fields, saw 33\\nSkipping line 83886: expected 17 fields, saw 32\\nSkipping line 84283: expected 17 fields, saw 23\\nSkipping line 85640: expected 17 fields, saw 33\\nSkipping line 86183: expected 17 fields, saw 28\\nSkipping line 90468: expected 17 fields, saw 24\\nSkipping line 91252: expected 17 fields, saw 33\\nSkipping line 93536: expected 17 fields, saw 18\\nSkipping line 93767: expected 17 fields, saw 33\\nSkipping line 93990: expected 17 fields, saw 18\\nSkipping line 94443: expected 17 fields, saw 22\\nSkipping line 95911: expected 17 fields, saw 20\\nSkipping line 97051: expected 17 fields, saw 33\\n'\n",
      "b'Skipping line 100632: expected 17 fields, saw 33\\nSkipping line 100880: expected 17 fields, saw 25\\nSkipping line 101434: expected 17 fields, saw 18\\nSkipping line 103232: expected 17 fields, saw 20\\nSkipping line 103811: expected 17 fields, saw 33\\nSkipping line 104158: expected 17 fields, saw 32\\nSkipping line 106934: expected 17 fields, saw 33\\nSkipping line 107335: expected 17 fields, saw 33\\nSkipping line 108085: expected 17 fields, saw 18\\nSkipping line 109527: expected 17 fields, saw 18\\nSkipping line 110475: expected 17 fields, saw 33\\nSkipping line 110702: expected 17 fields, saw 29\\nSkipping line 110860: expected 17 fields, saw 18\\nSkipping line 111462: expected 17 fields, saw 20\\nSkipping line 112006: expected 17 fields, saw 29\\nSkipping line 114155: expected 17 fields, saw 18\\nSkipping line 117827: expected 17 fields, saw 33\\nSkipping line 117907: expected 17 fields, saw 23\\nSkipping line 119336: expected 17 fields, saw 33\\nSkipping line 119393: expected 17 fields, saw 18\\nSkipping line 120122: expected 17 fields, saw 33\\nSkipping line 120408: expected 17 fields, saw 18\\nSkipping line 120545: expected 17 fields, saw 33\\nSkipping line 121802: expected 17 fields, saw 33\\nSkipping line 122750: expected 17 fields, saw 29\\nSkipping line 122819: expected 17 fields, saw 33\\nSkipping line 123579: expected 17 fields, saw 28\\nSkipping line 124150: expected 17 fields, saw 30\\nSkipping line 124815: expected 17 fields, saw 31\\nSkipping line 125120: expected 17 fields, saw 33\\nSkipping line 125919: expected 17 fields, saw 28\\nSkipping line 126018: expected 17 fields, saw 18\\nSkipping line 126694: expected 17 fields, saw 32\\nSkipping line 126697: expected 17 fields, saw 25\\nSkipping line 126710: expected 17 fields, saw 32\\nSkipping line 128489: expected 17 fields, saw 33\\nSkipping line 130760: expected 17 fields, saw 24\\nSkipping line 130930: expected 17 fields, saw 33\\nSkipping line 131151: expected 17 fields, saw 29\\n'\n",
      "b'Skipping line 132835: expected 17 fields, saw 33\\n'\n",
      "b'Skipping line 310: expected 17 fields, saw 30\\nSkipping line 2703: expected 17 fields, saw 30\\nSkipping line 2837: expected 17 fields, saw 18\\nSkipping line 2883: expected 17 fields, saw 33\\nSkipping line 2899: expected 17 fields, saw 18\\nSkipping line 3139: expected 17 fields, saw 24\\nSkipping line 3320: expected 17 fields, saw 33\\nSkipping line 3365: expected 17 fields, saw 22\\nSkipping line 3390: expected 17 fields, saw 23\\nSkipping line 3430: expected 17 fields, saw 20\\nSkipping line 3439: expected 17 fields, saw 28\\nSkipping line 3464: expected 17 fields, saw 33\\nSkipping line 3488: expected 17 fields, saw 21\\nSkipping line 3490: expected 17 fields, saw 19\\nSkipping line 3522: expected 17 fields, saw 18\\nSkipping line 3538: expected 17 fields, saw 27\\nSkipping line 3604: expected 17 fields, saw 33\\nSkipping line 3636: expected 17 fields, saw 33\\nSkipping line 4046: expected 17 fields, saw 20\\nSkipping line 4047: expected 17 fields, saw 26\\nSkipping line 4123: expected 17 fields, saw 24\\nSkipping line 4245: expected 17 fields, saw 32\\nSkipping line 4646: expected 17 fields, saw 32\\nSkipping line 4780: expected 17 fields, saw 33\\nSkipping line 5026: expected 17 fields, saw 22\\nSkipping line 6842: expected 17 fields, saw 18\\nSkipping line 7566: expected 17 fields, saw 33\\nSkipping line 7884: expected 17 fields, saw 21\\nSkipping line 9388: expected 17 fields, saw 33\\nSkipping line 10146: expected 17 fields, saw 24\\nSkipping line 10373: expected 17 fields, saw 18\\nSkipping line 10799: expected 17 fields, saw 33\\nSkipping line 11157: expected 17 fields, saw 29\\nSkipping line 11226: expected 17 fields, saw 20\\nSkipping line 11614: expected 17 fields, saw 22\\nSkipping line 11898: expected 17 fields, saw 29\\nSkipping line 12646: expected 17 fields, saw 27\\nSkipping line 13827: expected 17 fields, saw 22\\nSkipping line 16348: expected 17 fields, saw 33\\nSkipping line 17272: expected 17 fields, saw 18\\nSkipping line 18210: expected 17 fields, saw 33\\nSkipping line 18305: expected 17 fields, saw 31\\nSkipping line 19318: expected 17 fields, saw 29\\nSkipping line 20438: expected 17 fields, saw 27\\nSkipping line 20932: expected 17 fields, saw 26\\nSkipping line 21295: expected 17 fields, saw 25\\nSkipping line 22039: expected 17 fields, saw 18\\nSkipping line 22155: expected 17 fields, saw 33\\nSkipping line 23138: expected 17 fields, saw 28\\nSkipping line 23469: expected 17 fields, saw 33\\nSkipping line 23801: expected 17 fields, saw 33\\nSkipping line 24304: expected 17 fields, saw 19\\nSkipping line 27909: expected 17 fields, saw 27\\nSkipping line 28205: expected 17 fields, saw 33\\nSkipping line 28513: expected 17 fields, saw 23\\nSkipping line 30743: expected 17 fields, saw 32\\nSkipping line 30928: expected 17 fields, saw 22\\nSkipping line 31252: expected 17 fields, saw 18\\nSkipping line 31811: expected 17 fields, saw 32\\nSkipping line 31837: expected 17 fields, saw 18\\nSkipping line 31883: expected 17 fields, saw 33\\nSkipping line 32194: expected 17 fields, saw 19\\nSkipping line 32557: expected 17 fields, saw 22\\n'\n"
     ]
    },
    {
     "name": "stdout",
     "output_type": "stream",
     "text": [
      "output_5_patients.csv\n"
     ]
    },
    {
     "name": "stderr",
     "output_type": "stream",
     "text": [
      "b'Skipping line 33533: expected 17 fields, saw 33\\nSkipping line 35704: expected 17 fields, saw 33\\nSkipping line 35733: expected 17 fields, saw 33\\nSkipping line 36068: expected 17 fields, saw 33\\nSkipping line 36610: expected 17 fields, saw 30\\nSkipping line 38774: expected 17 fields, saw 24\\nSkipping line 39424: expected 17 fields, saw 29\\nSkipping line 40630: expected 17 fields, saw 33\\nSkipping line 40933: expected 17 fields, saw 25\\nSkipping line 41512: expected 17 fields, saw 24\\nSkipping line 43023: expected 17 fields, saw 33\\nSkipping line 43329: expected 17 fields, saw 22\\nSkipping line 46688: expected 17 fields, saw 24\\nSkipping line 46775: expected 17 fields, saw 29\\nSkipping line 47964: expected 17 fields, saw 22\\nSkipping line 48188: expected 17 fields, saw 26\\nSkipping line 48311: expected 17 fields, saw 22\\nSkipping line 51163: expected 17 fields, saw 31\\nSkipping line 51405: expected 17 fields, saw 31\\nSkipping line 51543: expected 17 fields, saw 26\\nSkipping line 51895: expected 17 fields, saw 20\\nSkipping line 52165: expected 17 fields, saw 22\\nSkipping line 53655: expected 17 fields, saw 33\\nSkipping line 53657: expected 17 fields, saw 33\\nSkipping line 53923: expected 17 fields, saw 33\\nSkipping line 54308: expected 17 fields, saw 33\\nSkipping line 54861: expected 17 fields, saw 18\\nSkipping line 56056: expected 17 fields, saw 22\\nSkipping line 56136: expected 17 fields, saw 20\\nSkipping line 57111: expected 17 fields, saw 33\\nSkipping line 58137: expected 17 fields, saw 33\\nSkipping line 58213: expected 17 fields, saw 33\\nSkipping line 58341: expected 17 fields, saw 29\\nSkipping line 58627: expected 17 fields, saw 25\\nSkipping line 61241: expected 17 fields, saw 32\\nSkipping line 62570: expected 17 fields, saw 33\\nSkipping line 62680: expected 17 fields, saw 18\\nSkipping line 62921: expected 17 fields, saw 28\\nSkipping line 63223: expected 17 fields, saw 32\\nSkipping line 65273: expected 17 fields, saw 18\\n'\n",
      "b'Skipping line 65708: expected 17 fields, saw 23\\nSkipping line 65846: expected 17 fields, saw 33\\nSkipping line 68445: expected 17 fields, saw 18\\nSkipping line 69728: expected 17 fields, saw 18\\nSkipping line 70198: expected 17 fields, saw 33\\nSkipping line 72873: expected 17 fields, saw 22\\nSkipping line 75635: expected 17 fields, saw 22\\nSkipping line 76024: expected 17 fields, saw 23\\nSkipping line 77532: expected 17 fields, saw 33\\nSkipping line 77586: expected 17 fields, saw 24\\nSkipping line 78435: expected 17 fields, saw 20\\nSkipping line 79522: expected 17 fields, saw 21\\nSkipping line 81581: expected 17 fields, saw 33\\nSkipping line 82294: expected 17 fields, saw 19\\nSkipping line 82443: expected 17 fields, saw 28\\nSkipping line 82924: expected 17 fields, saw 22\\nSkipping line 84062: expected 17 fields, saw 32\\nSkipping line 84073: expected 17 fields, saw 20\\nSkipping line 87783: expected 17 fields, saw 26\\nSkipping line 87871: expected 17 fields, saw 33\\nSkipping line 88105: expected 17 fields, saw 31\\nSkipping line 88530: expected 17 fields, saw 18\\nSkipping line 88987: expected 17 fields, saw 19\\nSkipping line 90382: expected 17 fields, saw 20\\nSkipping line 92510: expected 17 fields, saw 27\\nSkipping line 92929: expected 17 fields, saw 20\\nSkipping line 93992: expected 17 fields, saw 18\\nSkipping line 94586: expected 17 fields, saw 33\\nSkipping line 94940: expected 17 fields, saw 28\\nSkipping line 95040: expected 17 fields, saw 33\\nSkipping line 95256: expected 17 fields, saw 28\\nSkipping line 95592: expected 17 fields, saw 25\\nSkipping line 96503: expected 17 fields, saw 33\\nSkipping line 96529: expected 17 fields, saw 33\\nSkipping line 96664: expected 17 fields, saw 22\\nSkipping line 97158: expected 17 fields, saw 18\\nSkipping line 98307: expected 17 fields, saw 33\\n'\n",
      "b'Skipping line 99121: expected 17 fields, saw 18\\nSkipping line 100834: expected 17 fields, saw 33\\nSkipping line 102106: expected 17 fields, saw 32\\nSkipping line 103271: expected 17 fields, saw 33\\nSkipping line 103625: expected 17 fields, saw 20\\nSkipping line 104839: expected 17 fields, saw 33\\nSkipping line 105183: expected 17 fields, saw 19\\nSkipping line 105592: expected 17 fields, saw 29\\nSkipping line 105956: expected 17 fields, saw 19\\nSkipping line 108137: expected 17 fields, saw 33\\nSkipping line 108220: expected 17 fields, saw 19\\nSkipping line 108617: expected 17 fields, saw 22\\nSkipping line 112239: expected 17 fields, saw 18\\nSkipping line 114679: expected 17 fields, saw 24\\nSkipping line 114841: expected 17 fields, saw 31\\nSkipping line 114845: expected 17 fields, saw 28\\nSkipping line 114892: expected 17 fields, saw 21\\nSkipping line 115464: expected 17 fields, saw 25\\nSkipping line 116066: expected 17 fields, saw 33\\nSkipping line 116273: expected 17 fields, saw 18\\nSkipping line 116726: expected 17 fields, saw 19\\nSkipping line 117466: expected 17 fields, saw 29\\nSkipping line 118470: expected 17 fields, saw 33\\nSkipping line 119938: expected 17 fields, saw 23\\nSkipping line 119989: expected 17 fields, saw 18\\nSkipping line 120879: expected 17 fields, saw 31\\nSkipping line 121792: expected 17 fields, saw 22\\nSkipping line 121805: expected 17 fields, saw 18\\nSkipping line 121922: expected 17 fields, saw 33\\nSkipping line 122368: expected 17 fields, saw 33\\nSkipping line 122640: expected 17 fields, saw 22\\nSkipping line 123797: expected 17 fields, saw 33\\nSkipping line 124281: expected 17 fields, saw 20\\nSkipping line 124426: expected 17 fields, saw 33\\nSkipping line 125003: expected 17 fields, saw 25\\nSkipping line 125490: expected 17 fields, saw 33\\nSkipping line 125679: expected 17 fields, saw 22\\nSkipping line 126096: expected 17 fields, saw 24\\nSkipping line 126372: expected 17 fields, saw 31\\nSkipping line 128970: expected 17 fields, saw 20\\nSkipping line 129511: expected 17 fields, saw 29\\nSkipping line 129552: expected 17 fields, saw 24\\nSkipping line 129559: expected 17 fields, saw 23\\nSkipping line 130258: expected 17 fields, saw 32\\nSkipping line 130735: expected 17 fields, saw 18\\nSkipping line 130737: expected 17 fields, saw 22\\n'\n"
     ]
    },
    {
     "name": "stdout",
     "output_type": "stream",
     "text": [
      "output_12_patients.csv\n"
     ]
    },
    {
     "name": "stderr",
     "output_type": "stream",
     "text": [
      "b'Skipping line 3: expected 17 fields, saw 32\\nSkipping line 942: expected 17 fields, saw 25\\nSkipping line 973: expected 17 fields, saw 21\\nSkipping line 983: expected 17 fields, saw 31\\nSkipping line 1152: expected 17 fields, saw 33\\nSkipping line 1873: expected 17 fields, saw 33\\nSkipping line 2755: expected 17 fields, saw 18\\nSkipping line 3297: expected 17 fields, saw 32\\nSkipping line 3323: expected 17 fields, saw 33\\nSkipping line 3394: expected 17 fields, saw 18\\nSkipping line 3427: expected 17 fields, saw 22\\nSkipping line 3465: expected 17 fields, saw 32\\nSkipping line 3588: expected 17 fields, saw 33\\nSkipping line 3614: expected 17 fields, saw 18\\nSkipping line 3706: expected 17 fields, saw 18\\nSkipping line 3717: expected 17 fields, saw 28\\nSkipping line 3842: expected 17 fields, saw 32\\nSkipping line 4007: expected 17 fields, saw 28\\nSkipping line 4024: expected 17 fields, saw 33\\nSkipping line 5186: expected 17 fields, saw 30\\nSkipping line 5779: expected 17 fields, saw 31\\nSkipping line 6078: expected 17 fields, saw 33\\nSkipping line 8342: expected 17 fields, saw 32\\nSkipping line 8362: expected 17 fields, saw 33\\nSkipping line 9523: expected 17 fields, saw 30\\nSkipping line 9576: expected 17 fields, saw 31\\nSkipping line 11492: expected 17 fields, saw 18\\nSkipping line 13801: expected 17 fields, saw 20\\nSkipping line 14254: expected 17 fields, saw 33\\nSkipping line 14337: expected 17 fields, saw 33\\nSkipping line 14399: expected 17 fields, saw 33\\nSkipping line 14651: expected 17 fields, saw 18\\nSkipping line 16153: expected 17 fields, saw 29\\nSkipping line 16390: expected 17 fields, saw 33\\nSkipping line 17337: expected 17 fields, saw 18\\nSkipping line 17877: expected 17 fields, saw 18\\nSkipping line 18659: expected 17 fields, saw 32\\nSkipping line 19411: expected 17 fields, saw 19\\nSkipping line 19897: expected 17 fields, saw 29\\nSkipping line 21079: expected 17 fields, saw 33\\nSkipping line 22586: expected 17 fields, saw 20\\nSkipping line 22900: expected 17 fields, saw 20\\nSkipping line 22912: expected 17 fields, saw 22\\nSkipping line 23194: expected 17 fields, saw 18\\nSkipping line 24598: expected 17 fields, saw 18\\nSkipping line 24720: expected 17 fields, saw 27\\nSkipping line 25832: expected 17 fields, saw 18\\nSkipping line 26052: expected 17 fields, saw 31\\nSkipping line 26831: expected 17 fields, saw 33\\nSkipping line 27657: expected 17 fields, saw 29\\nSkipping line 27725: expected 17 fields, saw 33\\nSkipping line 27879: expected 17 fields, saw 32\\nSkipping line 28631: expected 17 fields, saw 23\\nSkipping line 29034: expected 17 fields, saw 18\\nSkipping line 29263: expected 17 fields, saw 33\\nSkipping line 29723: expected 17 fields, saw 29\\nSkipping line 29924: expected 17 fields, saw 33\\nSkipping line 30614: expected 17 fields, saw 33\\nSkipping line 30621: expected 17 fields, saw 29\\nSkipping line 30685: expected 17 fields, saw 33\\nSkipping line 31644: expected 17 fields, saw 33\\nSkipping line 31749: expected 17 fields, saw 25\\nSkipping line 32172: expected 17 fields, saw 33\\nSkipping line 32284: expected 17 fields, saw 18\\n'\n",
      "b'Skipping line 33064: expected 17 fields, saw 33\\nSkipping line 33187: expected 17 fields, saw 33\\nSkipping line 33688: expected 17 fields, saw 33\\nSkipping line 34041: expected 17 fields, saw 33\\nSkipping line 37187: expected 17 fields, saw 20\\nSkipping line 37233: expected 17 fields, saw 25\\nSkipping line 37390: expected 17 fields, saw 18\\nSkipping line 39148: expected 17 fields, saw 18\\nSkipping line 39840: expected 17 fields, saw 31\\nSkipping line 40227: expected 17 fields, saw 29\\nSkipping line 41420: expected 17 fields, saw 33\\nSkipping line 43607: expected 17 fields, saw 33\\nSkipping line 44453: expected 17 fields, saw 18\\nSkipping line 44663: expected 17 fields, saw 33\\nSkipping line 46289: expected 17 fields, saw 33\\nSkipping line 47418: expected 17 fields, saw 18\\nSkipping line 47839: expected 17 fields, saw 33\\nSkipping line 48972: expected 17 fields, saw 29\\nSkipping line 49396: expected 17 fields, saw 33\\nSkipping line 50058: expected 17 fields, saw 33\\nSkipping line 50117: expected 17 fields, saw 31\\nSkipping line 50209: expected 17 fields, saw 29\\nSkipping line 50656: expected 17 fields, saw 18\\nSkipping line 50974: expected 17 fields, saw 33\\nSkipping line 51416: expected 17 fields, saw 33\\nSkipping line 51899: expected 17 fields, saw 33\\nSkipping line 52147: expected 17 fields, saw 24\\nSkipping line 52315: expected 17 fields, saw 31\\nSkipping line 53233: expected 17 fields, saw 30\\nSkipping line 54990: expected 17 fields, saw 33\\nSkipping line 55793: expected 17 fields, saw 33\\nSkipping line 55810: expected 17 fields, saw 24\\nSkipping line 56232: expected 17 fields, saw 27\\nSkipping line 56919: expected 17 fields, saw 20\\nSkipping line 58626: expected 17 fields, saw 18\\nSkipping line 58963: expected 17 fields, saw 18\\nSkipping line 59658: expected 17 fields, saw 33\\nSkipping line 60090: expected 17 fields, saw 33\\nSkipping line 61579: expected 17 fields, saw 18\\nSkipping line 61646: expected 17 fields, saw 19\\nSkipping line 61674: expected 17 fields, saw 33\\nSkipping line 62317: expected 17 fields, saw 27\\nSkipping line 62546: expected 17 fields, saw 33\\nSkipping line 62737: expected 17 fields, saw 33\\nSkipping line 64946: expected 17 fields, saw 33\\nSkipping line 65147: expected 17 fields, saw 18\\nSkipping line 65315: expected 17 fields, saw 22\\n'\n",
      "b'Skipping line 66591: expected 17 fields, saw 33\\nSkipping line 66624: expected 17 fields, saw 28\\nSkipping line 67175: expected 17 fields, saw 33\\nSkipping line 67266: expected 17 fields, saw 33\\nSkipping line 69391: expected 17 fields, saw 32\\nSkipping line 69625: expected 17 fields, saw 23\\nSkipping line 71822: expected 17 fields, saw 28\\nSkipping line 71859: expected 17 fields, saw 22\\nSkipping line 72571: expected 17 fields, saw 33\\nSkipping line 74511: expected 17 fields, saw 31\\nSkipping line 74994: expected 17 fields, saw 18\\nSkipping line 76083: expected 17 fields, saw 29\\nSkipping line 78955: expected 17 fields, saw 33\\nSkipping line 79609: expected 17 fields, saw 20\\nSkipping line 80318: expected 17 fields, saw 32\\nSkipping line 80646: expected 17 fields, saw 21\\nSkipping line 80791: expected 17 fields, saw 27\\nSkipping line 81895: expected 17 fields, saw 33\\nSkipping line 83407: expected 17 fields, saw 20\\nSkipping line 84109: expected 17 fields, saw 30\\nSkipping line 85503: expected 17 fields, saw 19\\nSkipping line 85512: expected 17 fields, saw 33\\nSkipping line 86706: expected 17 fields, saw 24\\nSkipping line 86799: expected 17 fields, saw 33\\nSkipping line 89043: expected 17 fields, saw 20\\nSkipping line 89508: expected 17 fields, saw 24\\nSkipping line 90987: expected 17 fields, saw 25\\nSkipping line 91533: expected 17 fields, saw 19\\nSkipping line 92819: expected 17 fields, saw 30\\nSkipping line 94372: expected 17 fields, saw 25\\nSkipping line 94777: expected 17 fields, saw 25\\nSkipping line 95045: expected 17 fields, saw 33\\nSkipping line 95090: expected 17 fields, saw 33\\nSkipping line 95229: expected 17 fields, saw 20\\nSkipping line 95530: expected 17 fields, saw 33\\nSkipping line 97237: expected 17 fields, saw 33\\nSkipping line 97442: expected 17 fields, saw 18\\nSkipping line 97664: expected 17 fields, saw 33\\nSkipping line 98073: expected 17 fields, saw 20\\nSkipping line 98305: expected 17 fields, saw 24\\n'\n",
      "b'Skipping line 98554: expected 17 fields, saw 33\\nSkipping line 99254: expected 17 fields, saw 32\\nSkipping line 99706: expected 17 fields, saw 33\\nSkipping line 102679: expected 17 fields, saw 32\\nSkipping line 103121: expected 17 fields, saw 26\\nSkipping line 103874: expected 17 fields, saw 32\\nSkipping line 104195: expected 17 fields, saw 33\\nSkipping line 104334: expected 17 fields, saw 20\\nSkipping line 104378: expected 17 fields, saw 25\\nSkipping line 104553: expected 17 fields, saw 18\\nSkipping line 106668: expected 17 fields, saw 33\\nSkipping line 108758: expected 17 fields, saw 33\\nSkipping line 109711: expected 17 fields, saw 32\\nSkipping line 110032: expected 17 fields, saw 18\\nSkipping line 111220: expected 17 fields, saw 19\\nSkipping line 111724: expected 17 fields, saw 33\\nSkipping line 112342: expected 17 fields, saw 20\\nSkipping line 112460: expected 17 fields, saw 33\\nSkipping line 113177: expected 17 fields, saw 33\\nSkipping line 114399: expected 17 fields, saw 18\\nSkipping line 114631: expected 17 fields, saw 33\\nSkipping line 117871: expected 17 fields, saw 31\\nSkipping line 119212: expected 17 fields, saw 18\\nSkipping line 121252: expected 17 fields, saw 18\\nSkipping line 122141: expected 17 fields, saw 18\\nSkipping line 122963: expected 17 fields, saw 31\\nSkipping line 124922: expected 17 fields, saw 30\\nSkipping line 125229: expected 17 fields, saw 33\\nSkipping line 125287: expected 17 fields, saw 27\\nSkipping line 125570: expected 17 fields, saw 22\\nSkipping line 126177: expected 17 fields, saw 27\\nSkipping line 127138: expected 17 fields, saw 33\\nSkipping line 129580: expected 17 fields, saw 18\\nSkipping line 129642: expected 17 fields, saw 33\\nSkipping line 130150: expected 17 fields, saw 33\\n'\n"
     ]
    },
    {
     "name": "stdout",
     "output_type": "stream",
     "text": [
      "output_4_patients.csv\n"
     ]
    },
    {
     "name": "stderr",
     "output_type": "stream",
     "text": [
      "b'Skipping line 2: expected 17 fields, saw 33\\nSkipping line 462: expected 17 fields, saw 22\\nSkipping line 684: expected 17 fields, saw 18\\nSkipping line 951: expected 17 fields, saw 33\\nSkipping line 1048: expected 17 fields, saw 32\\nSkipping line 1493: expected 17 fields, saw 33\\nSkipping line 1992: expected 17 fields, saw 33\\nSkipping line 2645: expected 17 fields, saw 33\\nSkipping line 2779: expected 17 fields, saw 31\\nSkipping line 2855: expected 17 fields, saw 18\\nSkipping line 3299: expected 17 fields, saw 33\\nSkipping line 3317: expected 17 fields, saw 33\\nSkipping line 3322: expected 17 fields, saw 33\\nSkipping line 3357: expected 17 fields, saw 33\\nSkipping line 3360: expected 17 fields, saw 28\\nSkipping line 3423: expected 17 fields, saw 26\\nSkipping line 3861: expected 17 fields, saw 18\\nSkipping line 3874: expected 17 fields, saw 20\\nSkipping line 3934: expected 17 fields, saw 22\\nSkipping line 4083: expected 17 fields, saw 29\\nSkipping line 4087: expected 17 fields, saw 33\\nSkipping line 4096: expected 17 fields, saw 21\\nSkipping line 4751: expected 17 fields, saw 30\\nSkipping line 5546: expected 17 fields, saw 33\\nSkipping line 6001: expected 17 fields, saw 22\\nSkipping line 6895: expected 17 fields, saw 29\\nSkipping line 7721: expected 17 fields, saw 24\\nSkipping line 7745: expected 17 fields, saw 31\\nSkipping line 8310: expected 17 fields, saw 32\\nSkipping line 9098: expected 17 fields, saw 33\\nSkipping line 10337: expected 17 fields, saw 19\\nSkipping line 10377: expected 17 fields, saw 33\\nSkipping line 10818: expected 17 fields, saw 29\\nSkipping line 10822: expected 17 fields, saw 18\\nSkipping line 11201: expected 17 fields, saw 33\\nSkipping line 12192: expected 17 fields, saw 23\\nSkipping line 12245: expected 17 fields, saw 19\\nSkipping line 13453: expected 17 fields, saw 33\\nSkipping line 13522: expected 17 fields, saw 33\\nSkipping line 14308: expected 17 fields, saw 24\\nSkipping line 14340: expected 17 fields, saw 20\\nSkipping line 14654: expected 17 fields, saw 33\\nSkipping line 15115: expected 17 fields, saw 18\\nSkipping line 15839: expected 17 fields, saw 33\\nSkipping line 16046: expected 17 fields, saw 22\\nSkipping line 16528: expected 17 fields, saw 19\\nSkipping line 16585: expected 17 fields, saw 29\\nSkipping line 17188: expected 17 fields, saw 22\\nSkipping line 17755: expected 17 fields, saw 31\\nSkipping line 18004: expected 17 fields, saw 33\\nSkipping line 18034: expected 17 fields, saw 31\\nSkipping line 18261: expected 17 fields, saw 23\\nSkipping line 18403: expected 17 fields, saw 33\\nSkipping line 18621: expected 17 fields, saw 18\\nSkipping line 20010: expected 17 fields, saw 32\\nSkipping line 20283: expected 17 fields, saw 20\\nSkipping line 22437: expected 17 fields, saw 27\\nSkipping line 22512: expected 17 fields, saw 33\\nSkipping line 22562: expected 17 fields, saw 18\\nSkipping line 25587: expected 17 fields, saw 33\\nSkipping line 25965: expected 17 fields, saw 33\\nSkipping line 27015: expected 17 fields, saw 33\\nSkipping line 28173: expected 17 fields, saw 31\\nSkipping line 28677: expected 17 fields, saw 33\\nSkipping line 30262: expected 17 fields, saw 33\\nSkipping line 30792: expected 17 fields, saw 18\\nSkipping line 32180: expected 17 fields, saw 32\\n'\n",
      "b'Skipping line 33850: expected 17 fields, saw 33\\nSkipping line 33925: expected 17 fields, saw 33\\nSkipping line 34733: expected 17 fields, saw 29\\nSkipping line 35921: expected 17 fields, saw 33\\nSkipping line 35931: expected 17 fields, saw 33\\nSkipping line 36889: expected 17 fields, saw 33\\nSkipping line 37384: expected 17 fields, saw 18\\nSkipping line 37417: expected 17 fields, saw 18\\nSkipping line 37437: expected 17 fields, saw 33\\nSkipping line 38178: expected 17 fields, saw 33\\nSkipping line 38231: expected 17 fields, saw 31\\nSkipping line 38654: expected 17 fields, saw 32\\nSkipping line 39028: expected 17 fields, saw 33\\nSkipping line 39932: expected 17 fields, saw 33\\nSkipping line 40668: expected 17 fields, saw 18\\nSkipping line 40953: expected 17 fields, saw 32\\nSkipping line 41599: expected 17 fields, saw 31\\nSkipping line 41655: expected 17 fields, saw 18\\nSkipping line 43163: expected 17 fields, saw 18\\nSkipping line 44980: expected 17 fields, saw 32\\nSkipping line 45498: expected 17 fields, saw 19\\nSkipping line 46350: expected 17 fields, saw 20\\nSkipping line 47580: expected 17 fields, saw 18\\nSkipping line 48069: expected 17 fields, saw 33\\nSkipping line 48767: expected 17 fields, saw 33\\nSkipping line 49103: expected 17 fields, saw 31\\nSkipping line 50666: expected 17 fields, saw 29\\nSkipping line 52998: expected 17 fields, saw 33\\nSkipping line 53715: expected 17 fields, saw 30\\nSkipping line 53870: expected 17 fields, saw 22\\nSkipping line 53994: expected 17 fields, saw 18\\nSkipping line 56755: expected 17 fields, saw 25\\nSkipping line 57410: expected 17 fields, saw 33\\nSkipping line 57870: expected 17 fields, saw 19\\nSkipping line 58209: expected 17 fields, saw 33\\nSkipping line 58641: expected 17 fields, saw 33\\nSkipping line 58786: expected 17 fields, saw 26\\nSkipping line 58821: expected 17 fields, saw 32\\nSkipping line 58825: expected 17 fields, saw 30\\nSkipping line 59257: expected 17 fields, saw 32\\nSkipping line 59922: expected 17 fields, saw 19\\nSkipping line 61092: expected 17 fields, saw 20\\nSkipping line 62779: expected 17 fields, saw 33\\nSkipping line 64302: expected 17 fields, saw 33\\nSkipping line 64720: expected 17 fields, saw 21\\nSkipping line 65289: expected 17 fields, saw 29\\nSkipping line 65518: expected 17 fields, saw 33\\n'\n",
      "b'Skipping line 66432: expected 17 fields, saw 32\\nSkipping line 67649: expected 17 fields, saw 33\\nSkipping line 68637: expected 17 fields, saw 24\\nSkipping line 70611: expected 17 fields, saw 28\\nSkipping line 71602: expected 17 fields, saw 18\\nSkipping line 73155: expected 17 fields, saw 18\\nSkipping line 73585: expected 17 fields, saw 20\\nSkipping line 74174: expected 17 fields, saw 20\\nSkipping line 74651: expected 17 fields, saw 32\\nSkipping line 75738: expected 17 fields, saw 28\\nSkipping line 76903: expected 17 fields, saw 18\\nSkipping line 77624: expected 17 fields, saw 18\\nSkipping line 80713: expected 17 fields, saw 18\\nSkipping line 81346: expected 17 fields, saw 32\\nSkipping line 81397: expected 17 fields, saw 33\\nSkipping line 81541: expected 17 fields, saw 30\\nSkipping line 84049: expected 17 fields, saw 31\\nSkipping line 86803: expected 17 fields, saw 23\\nSkipping line 89366: expected 17 fields, saw 33\\nSkipping line 89676: expected 17 fields, saw 18\\nSkipping line 91898: expected 17 fields, saw 22\\nSkipping line 92321: expected 17 fields, saw 33\\nSkipping line 93954: expected 17 fields, saw 18\\nSkipping line 94534: expected 17 fields, saw 18\\nSkipping line 94882: expected 17 fields, saw 18\\nSkipping line 95165: expected 17 fields, saw 29\\nSkipping line 95466: expected 17 fields, saw 26\\nSkipping line 96248: expected 17 fields, saw 24\\nSkipping line 97184: expected 17 fields, saw 33\\nSkipping line 97815: expected 17 fields, saw 18\\n'\n",
      "b'Skipping line 99645: expected 17 fields, saw 32\\nSkipping line 100595: expected 17 fields, saw 25\\nSkipping line 103157: expected 17 fields, saw 24\\nSkipping line 104322: expected 17 fields, saw 33\\nSkipping line 106540: expected 17 fields, saw 33\\nSkipping line 107200: expected 17 fields, saw 30\\nSkipping line 107435: expected 17 fields, saw 33\\nSkipping line 108234: expected 17 fields, saw 33\\nSkipping line 108356: expected 17 fields, saw 33\\nSkipping line 108449: expected 17 fields, saw 19\\nSkipping line 108454: expected 17 fields, saw 31\\nSkipping line 108529: expected 17 fields, saw 26\\nSkipping line 110923: expected 17 fields, saw 22\\nSkipping line 111021: expected 17 fields, saw 33\\nSkipping line 111777: expected 17 fields, saw 19\\nSkipping line 112047: expected 17 fields, saw 27\\nSkipping line 113618: expected 17 fields, saw 32\\nSkipping line 113665: expected 17 fields, saw 33\\nSkipping line 113751: expected 17 fields, saw 19\\nSkipping line 114112: expected 17 fields, saw 27\\nSkipping line 114522: expected 17 fields, saw 20\\nSkipping line 115019: expected 17 fields, saw 33\\nSkipping line 115941: expected 17 fields, saw 33\\nSkipping line 117389: expected 17 fields, saw 33\\nSkipping line 118267: expected 17 fields, saw 22\\nSkipping line 118549: expected 17 fields, saw 18\\nSkipping line 118583: expected 17 fields, saw 32\\nSkipping line 118614: expected 17 fields, saw 28\\nSkipping line 118648: expected 17 fields, saw 28\\nSkipping line 118809: expected 17 fields, saw 25\\nSkipping line 119499: expected 17 fields, saw 33\\nSkipping line 119728: expected 17 fields, saw 33\\nSkipping line 119948: expected 17 fields, saw 28\\nSkipping line 121361: expected 17 fields, saw 24\\nSkipping line 122817: expected 17 fields, saw 24\\nSkipping line 123593: expected 17 fields, saw 20\\nSkipping line 124473: expected 17 fields, saw 24\\nSkipping line 125926: expected 17 fields, saw 30\\n'\n"
     ]
    },
    {
     "name": "stderr",
     "output_type": "stream",
     "text": [
      "b'Skipping line 132733: expected 19 fields, saw 32\\n'\n",
      "b'Skipping line 2: expected 17 fields, saw 33\\nSkipping line 557: expected 17 fields, saw 33\\nSkipping line 913: expected 17 fields, saw 26\\nSkipping line 3332: expected 17 fields, saw 19\\nSkipping line 6047: expected 17 fields, saw 18\\nSkipping line 6631: expected 17 fields, saw 31\\nSkipping line 8042: expected 17 fields, saw 21\\nSkipping line 8872: expected 17 fields, saw 18\\nSkipping line 9765: expected 17 fields, saw 18\\nSkipping line 10317: expected 17 fields, saw 28\\nSkipping line 11465: expected 17 fields, saw 31\\nSkipping line 13182: expected 17 fields, saw 20\\nSkipping line 13538: expected 17 fields, saw 33\\nSkipping line 14940: expected 17 fields, saw 27\\nSkipping line 15544: expected 17 fields, saw 27\\nSkipping line 16447: expected 17 fields, saw 27\\nSkipping line 17338: expected 17 fields, saw 18\\nSkipping line 17341: expected 17 fields, saw 23\\nSkipping line 18766: expected 17 fields, saw 32\\nSkipping line 19251: expected 17 fields, saw 23\\nSkipping line 19300: expected 17 fields, saw 33\\nSkipping line 19727: expected 17 fields, saw 33\\nSkipping line 19875: expected 17 fields, saw 21\\nSkipping line 20343: expected 17 fields, saw 29\\nSkipping line 20824: expected 17 fields, saw 20\\nSkipping line 21099: expected 17 fields, saw 31\\nSkipping line 22076: expected 17 fields, saw 25\\nSkipping line 22083: expected 17 fields, saw 33\\nSkipping line 22393: expected 17 fields, saw 31\\nSkipping line 22924: expected 17 fields, saw 33\\nSkipping line 23207: expected 17 fields, saw 21\\nSkipping line 24539: expected 17 fields, saw 31\\nSkipping line 25924: expected 17 fields, saw 33\\nSkipping line 26684: expected 17 fields, saw 18\\nSkipping line 28114: expected 17 fields, saw 24\\nSkipping line 28248: expected 17 fields, saw 33\\nSkipping line 28948: expected 17 fields, saw 28\\nSkipping line 29462: expected 17 fields, saw 18\\nSkipping line 30110: expected 17 fields, saw 20\\nSkipping line 30220: expected 17 fields, saw 21\\nSkipping line 30570: expected 17 fields, saw 30\\nSkipping line 30832: expected 17 fields, saw 32\\nSkipping line 31745: expected 17 fields, saw 22\\nSkipping line 31892: expected 17 fields, saw 33\\n'\n"
     ]
    },
    {
     "name": "stdout",
     "output_type": "stream",
     "text": [
      "output_1_patients.csv\n"
     ]
    },
    {
     "name": "stderr",
     "output_type": "stream",
     "text": [
      "b'Skipping line 33475: expected 17 fields, saw 33\\nSkipping line 34751: expected 17 fields, saw 30\\nSkipping line 35298: expected 17 fields, saw 33\\nSkipping line 35345: expected 17 fields, saw 18\\nSkipping line 35487: expected 17 fields, saw 33\\nSkipping line 37883: expected 17 fields, saw 33\\nSkipping line 38312: expected 17 fields, saw 21\\nSkipping line 38400: expected 17 fields, saw 18\\nSkipping line 38882: expected 17 fields, saw 19\\nSkipping line 40870: expected 17 fields, saw 20\\nSkipping line 41328: expected 17 fields, saw 24\\nSkipping line 42729: expected 17 fields, saw 29\\nSkipping line 43174: expected 17 fields, saw 33\\nSkipping line 43998: expected 17 fields, saw 24\\nSkipping line 44632: expected 17 fields, saw 33\\nSkipping line 44942: expected 17 fields, saw 31\\nSkipping line 45753: expected 17 fields, saw 25\\nSkipping line 45919: expected 17 fields, saw 33\\nSkipping line 46921: expected 17 fields, saw 20\\nSkipping line 47503: expected 17 fields, saw 33\\nSkipping line 50806: expected 17 fields, saw 32\\nSkipping line 53831: expected 17 fields, saw 30\\nSkipping line 54583: expected 17 fields, saw 25\\nSkipping line 56532: expected 17 fields, saw 32\\nSkipping line 60343: expected 17 fields, saw 33\\nSkipping line 62891: expected 17 fields, saw 26\\nSkipping line 62967: expected 17 fields, saw 33\\nSkipping line 63200: expected 17 fields, saw 25\\nSkipping line 64271: expected 17 fields, saw 28\\n'\n",
      "b'Skipping line 65871: expected 17 fields, saw 33\\nSkipping line 66248: expected 17 fields, saw 27\\nSkipping line 66361: expected 17 fields, saw 18\\nSkipping line 66426: expected 17 fields, saw 18\\nSkipping line 66851: expected 17 fields, saw 19\\nSkipping line 66945: expected 17 fields, saw 33\\nSkipping line 67891: expected 17 fields, saw 33\\nSkipping line 68608: expected 17 fields, saw 18\\nSkipping line 70181: expected 17 fields, saw 33\\nSkipping line 70577: expected 17 fields, saw 18\\nSkipping line 70615: expected 17 fields, saw 33\\nSkipping line 70889: expected 17 fields, saw 33\\nSkipping line 71000: expected 17 fields, saw 25\\nSkipping line 71217: expected 17 fields, saw 18\\nSkipping line 71758: expected 17 fields, saw 32\\nSkipping line 71891: expected 17 fields, saw 18\\nSkipping line 72590: expected 17 fields, saw 29\\nSkipping line 73738: expected 17 fields, saw 27\\nSkipping line 75139: expected 17 fields, saw 18\\nSkipping line 75410: expected 17 fields, saw 23\\nSkipping line 75955: expected 17 fields, saw 27\\nSkipping line 76231: expected 17 fields, saw 20\\nSkipping line 79377: expected 17 fields, saw 18\\nSkipping line 80269: expected 17 fields, saw 33\\nSkipping line 81752: expected 17 fields, saw 33\\nSkipping line 82267: expected 17 fields, saw 25\\nSkipping line 82587: expected 17 fields, saw 18\\nSkipping line 83569: expected 17 fields, saw 26\\nSkipping line 84162: expected 17 fields, saw 18\\nSkipping line 84515: expected 17 fields, saw 33\\nSkipping line 84536: expected 17 fields, saw 20\\nSkipping line 85950: expected 17 fields, saw 22\\nSkipping line 85980: expected 17 fields, saw 33\\nSkipping line 86749: expected 17 fields, saw 25\\nSkipping line 87342: expected 17 fields, saw 18\\nSkipping line 87442: expected 17 fields, saw 32\\nSkipping line 88016: expected 17 fields, saw 33\\nSkipping line 88233: expected 17 fields, saw 33\\nSkipping line 92417: expected 17 fields, saw 33\\nSkipping line 95311: expected 17 fields, saw 23\\nSkipping line 95665: expected 17 fields, saw 18\\nSkipping line 96087: expected 17 fields, saw 18\\nSkipping line 96616: expected 17 fields, saw 33\\nSkipping line 97498: expected 17 fields, saw 33\\nSkipping line 97696: expected 17 fields, saw 33\\nSkipping line 98396: expected 17 fields, saw 18\\n'\n",
      "b'Skipping line 98799: expected 17 fields, saw 22\\nSkipping line 98914: expected 17 fields, saw 33\\nSkipping line 99696: expected 17 fields, saw 33\\nSkipping line 103108: expected 17 fields, saw 33\\nSkipping line 103241: expected 17 fields, saw 27\\nSkipping line 103678: expected 17 fields, saw 24\\nSkipping line 104164: expected 17 fields, saw 28\\nSkipping line 105794: expected 17 fields, saw 18\\nSkipping line 106375: expected 17 fields, saw 22\\nSkipping line 108132: expected 17 fields, saw 18\\nSkipping line 108177: expected 17 fields, saw 33\\nSkipping line 108753: expected 17 fields, saw 18\\nSkipping line 111263: expected 17 fields, saw 33\\nSkipping line 111421: expected 17 fields, saw 29\\nSkipping line 111451: expected 17 fields, saw 18\\nSkipping line 112497: expected 17 fields, saw 33\\nSkipping line 112794: expected 17 fields, saw 18\\nSkipping line 114025: expected 17 fields, saw 33\\nSkipping line 114238: expected 17 fields, saw 33\\nSkipping line 114701: expected 17 fields, saw 31\\nSkipping line 114929: expected 17 fields, saw 33\\nSkipping line 116664: expected 17 fields, saw 30\\nSkipping line 117437: expected 17 fields, saw 21\\nSkipping line 118957: expected 17 fields, saw 18\\nSkipping line 119177: expected 17 fields, saw 33\\nSkipping line 120123: expected 17 fields, saw 20\\nSkipping line 120328: expected 17 fields, saw 29\\nSkipping line 120584: expected 17 fields, saw 31\\nSkipping line 121684: expected 17 fields, saw 27\\nSkipping line 122572: expected 17 fields, saw 22\\nSkipping line 124674: expected 17 fields, saw 18\\nSkipping line 125001: expected 17 fields, saw 33\\nSkipping line 126401: expected 17 fields, saw 33\\nSkipping line 128738: expected 17 fields, saw 23\\nSkipping line 129110: expected 17 fields, saw 18\\n'\n"
     ]
    },
    {
     "name": "stdout",
     "output_type": "stream",
     "text": [
      "output_10_patients.csv\n"
     ]
    },
    {
     "name": "stderr",
     "output_type": "stream",
     "text": [
      "b'Skipping line 142: expected 17 fields, saw 31\\nSkipping line 1628: expected 17 fields, saw 33\\nSkipping line 2401: expected 17 fields, saw 22\\nSkipping line 2791: expected 17 fields, saw 18\\nSkipping line 3331: expected 17 fields, saw 20\\nSkipping line 3431: expected 17 fields, saw 32\\nSkipping line 3470: expected 17 fields, saw 29\\nSkipping line 3632: expected 17 fields, saw 33\\nSkipping line 3681: expected 17 fields, saw 25\\nSkipping line 3693: expected 17 fields, saw 33\\nSkipping line 3701: expected 17 fields, saw 23\\nSkipping line 3739: expected 17 fields, saw 20\\nSkipping line 3784: expected 17 fields, saw 27\\nSkipping line 3830: expected 17 fields, saw 33\\nSkipping line 3994: expected 17 fields, saw 18\\nSkipping line 4038: expected 17 fields, saw 18\\nSkipping line 4063: expected 17 fields, saw 18\\nSkipping line 4086: expected 17 fields, saw 33\\nSkipping line 4093: expected 17 fields, saw 29\\nSkipping line 4200: expected 17 fields, saw 29\\nSkipping line 5984: expected 17 fields, saw 33\\nSkipping line 6487: expected 17 fields, saw 18\\nSkipping line 6556: expected 17 fields, saw 18\\nSkipping line 6985: expected 17 fields, saw 23\\nSkipping line 7025: expected 17 fields, saw 18\\nSkipping line 7782: expected 17 fields, saw 23\\nSkipping line 12370: expected 17 fields, saw 31\\nSkipping line 12656: expected 17 fields, saw 33\\nSkipping line 15604: expected 17 fields, saw 33\\nSkipping line 17405: expected 17 fields, saw 29\\nSkipping line 17512: expected 17 fields, saw 18\\nSkipping line 17883: expected 17 fields, saw 33\\nSkipping line 18291: expected 17 fields, saw 27\\nSkipping line 18478: expected 17 fields, saw 31\\nSkipping line 18517: expected 17 fields, saw 20\\nSkipping line 19176: expected 17 fields, saw 33\\nSkipping line 20372: expected 17 fields, saw 18\\nSkipping line 20688: expected 17 fields, saw 33\\nSkipping line 21667: expected 17 fields, saw 29\\nSkipping line 21822: expected 17 fields, saw 29\\nSkipping line 22529: expected 17 fields, saw 32\\nSkipping line 22541: expected 17 fields, saw 18\\nSkipping line 22671: expected 17 fields, saw 33\\nSkipping line 23164: expected 17 fields, saw 29\\nSkipping line 24065: expected 17 fields, saw 32\\nSkipping line 24817: expected 17 fields, saw 32\\nSkipping line 25158: expected 17 fields, saw 32\\nSkipping line 25244: expected 17 fields, saw 33\\nSkipping line 25514: expected 17 fields, saw 33\\nSkipping line 26338: expected 17 fields, saw 18\\nSkipping line 27496: expected 17 fields, saw 18\\nSkipping line 28434: expected 17 fields, saw 22\\nSkipping line 28858: expected 17 fields, saw 33\\nSkipping line 29345: expected 17 fields, saw 33\\nSkipping line 30061: expected 17 fields, saw 33\\nSkipping line 30675: expected 17 fields, saw 31\\nSkipping line 32377: expected 17 fields, saw 18\\n'\n",
      "b'Skipping line 33714: expected 17 fields, saw 18\\nSkipping line 34456: expected 17 fields, saw 33\\nSkipping line 35029: expected 17 fields, saw 33\\nSkipping line 35121: expected 17 fields, saw 31\\nSkipping line 35644: expected 17 fields, saw 33\\nSkipping line 36162: expected 17 fields, saw 33\\nSkipping line 36630: expected 17 fields, saw 33\\nSkipping line 36953: expected 17 fields, saw 25\\nSkipping line 36958: expected 17 fields, saw 18\\nSkipping line 38702: expected 17 fields, saw 33\\nSkipping line 38914: expected 17 fields, saw 32\\nSkipping line 40219: expected 17 fields, saw 25\\nSkipping line 40910: expected 17 fields, saw 33\\nSkipping line 43251: expected 17 fields, saw 32\\nSkipping line 43261: expected 17 fields, saw 33\\nSkipping line 43727: expected 17 fields, saw 33\\nSkipping line 44033: expected 17 fields, saw 18\\nSkipping line 44398: expected 17 fields, saw 26\\nSkipping line 44906: expected 17 fields, saw 23\\nSkipping line 45357: expected 17 fields, saw 30\\nSkipping line 46188: expected 17 fields, saw 18\\nSkipping line 46314: expected 17 fields, saw 30\\nSkipping line 47173: expected 17 fields, saw 18\\nSkipping line 47490: expected 17 fields, saw 33\\nSkipping line 49228: expected 17 fields, saw 33\\nSkipping line 49666: expected 17 fields, saw 30\\nSkipping line 50199: expected 17 fields, saw 33\\nSkipping line 51136: expected 17 fields, saw 18\\nSkipping line 51428: expected 17 fields, saw 31\\nSkipping line 52537: expected 17 fields, saw 33\\nSkipping line 52817: expected 17 fields, saw 33\\nSkipping line 53015: expected 17 fields, saw 30\\nSkipping line 53144: expected 17 fields, saw 29\\nSkipping line 53334: expected 17 fields, saw 33\\nSkipping line 53597: expected 17 fields, saw 32\\nSkipping line 54550: expected 17 fields, saw 19\\nSkipping line 55221: expected 17 fields, saw 27\\nSkipping line 55501: expected 17 fields, saw 29\\nSkipping line 55702: expected 17 fields, saw 22\\nSkipping line 55827: expected 17 fields, saw 18\\nSkipping line 56189: expected 17 fields, saw 29\\nSkipping line 56389: expected 17 fields, saw 18\\nSkipping line 56516: expected 17 fields, saw 33\\nSkipping line 57715: expected 17 fields, saw 18\\nSkipping line 58554: expected 17 fields, saw 32\\nSkipping line 59240: expected 17 fields, saw 26\\nSkipping line 59781: expected 17 fields, saw 33\\nSkipping line 61746: expected 17 fields, saw 18\\nSkipping line 62402: expected 17 fields, saw 33\\nSkipping line 63186: expected 17 fields, saw 29\\nSkipping line 64484: expected 17 fields, saw 33\\nSkipping line 64739: expected 17 fields, saw 18\\nSkipping line 65545: expected 17 fields, saw 33\\n'\n",
      "b'Skipping line 65840: expected 17 fields, saw 23\\nSkipping line 71819: expected 17 fields, saw 26\\nSkipping line 72861: expected 17 fields, saw 23\\nSkipping line 74558: expected 17 fields, saw 20\\nSkipping line 74975: expected 17 fields, saw 33\\nSkipping line 75279: expected 17 fields, saw 33\\nSkipping line 76260: expected 17 fields, saw 29\\nSkipping line 76467: expected 17 fields, saw 26\\nSkipping line 76924: expected 17 fields, saw 18\\nSkipping line 77131: expected 17 fields, saw 18\\nSkipping line 78279: expected 17 fields, saw 33\\nSkipping line 78835: expected 17 fields, saw 18\\nSkipping line 80224: expected 17 fields, saw 33\\nSkipping line 80344: expected 17 fields, saw 20\\nSkipping line 80600: expected 17 fields, saw 33\\nSkipping line 81464: expected 17 fields, saw 26\\nSkipping line 84311: expected 17 fields, saw 30\\nSkipping line 84357: expected 17 fields, saw 20\\nSkipping line 84623: expected 17 fields, saw 33\\nSkipping line 86992: expected 17 fields, saw 27\\nSkipping line 88627: expected 17 fields, saw 20\\nSkipping line 89027: expected 17 fields, saw 33\\nSkipping line 89305: expected 17 fields, saw 29\\nSkipping line 89955: expected 17 fields, saw 33\\nSkipping line 90416: expected 17 fields, saw 18\\nSkipping line 92163: expected 17 fields, saw 28\\nSkipping line 93327: expected 17 fields, saw 33\\nSkipping line 94592: expected 17 fields, saw 18\\nSkipping line 95248: expected 17 fields, saw 32\\nSkipping line 95816: expected 17 fields, saw 33\\nSkipping line 97191: expected 17 fields, saw 31\\n'\n",
      "b'Skipping line 98913: expected 17 fields, saw 32\\nSkipping line 101162: expected 17 fields, saw 23\\nSkipping line 101733: expected 17 fields, saw 33\\nSkipping line 101859: expected 17 fields, saw 28\\nSkipping line 102804: expected 17 fields, saw 33\\nSkipping line 103335: expected 17 fields, saw 26\\nSkipping line 104577: expected 17 fields, saw 23\\nSkipping line 105064: expected 17 fields, saw 33\\nSkipping line 105998: expected 17 fields, saw 33\\nSkipping line 108192: expected 17 fields, saw 33\\nSkipping line 108211: expected 17 fields, saw 33\\nSkipping line 108578: expected 17 fields, saw 21\\nSkipping line 110091: expected 17 fields, saw 33\\nSkipping line 110328: expected 17 fields, saw 33\\nSkipping line 111056: expected 17 fields, saw 29\\nSkipping line 111226: expected 17 fields, saw 27\\nSkipping line 111336: expected 17 fields, saw 32\\nSkipping line 111379: expected 17 fields, saw 33\\nSkipping line 112560: expected 17 fields, saw 32\\nSkipping line 112650: expected 17 fields, saw 22\\nSkipping line 112923: expected 17 fields, saw 32\\nSkipping line 112928: expected 17 fields, saw 33\\nSkipping line 113406: expected 17 fields, saw 21\\nSkipping line 114516: expected 17 fields, saw 26\\nSkipping line 114999: expected 17 fields, saw 32\\nSkipping line 116222: expected 17 fields, saw 32\\nSkipping line 116450: expected 17 fields, saw 20\\nSkipping line 116633: expected 17 fields, saw 18\\nSkipping line 117866: expected 17 fields, saw 25\\nSkipping line 119547: expected 17 fields, saw 33\\nSkipping line 120018: expected 17 fields, saw 33\\nSkipping line 122324: expected 17 fields, saw 31\\nSkipping line 122916: expected 17 fields, saw 33\\nSkipping line 123114: expected 17 fields, saw 20\\nSkipping line 125743: expected 17 fields, saw 33\\nSkipping line 125905: expected 17 fields, saw 27\\nSkipping line 126368: expected 17 fields, saw 22\\nSkipping line 126720: expected 17 fields, saw 33\\nSkipping line 126919: expected 17 fields, saw 24\\nSkipping line 127754: expected 17 fields, saw 33\\nSkipping line 127964: expected 17 fields, saw 18\\nSkipping line 128747: expected 17 fields, saw 22\\nSkipping line 129838: expected 17 fields, saw 18\\nSkipping line 130668: expected 17 fields, saw 25\\n'\n"
     ]
    },
    {
     "name": "stdout",
     "output_type": "stream",
     "text": [
      "output_6_patients.csv\n"
     ]
    },
    {
     "name": "stderr",
     "output_type": "stream",
     "text": [
      "b'Skipping line 439: expected 17 fields, saw 23\\nSkipping line 1101: expected 17 fields, saw 20\\nSkipping line 1471: expected 17 fields, saw 18\\nSkipping line 1574: expected 17 fields, saw 33\\nSkipping line 1847: expected 17 fields, saw 18\\nSkipping line 1870: expected 17 fields, saw 31\\nSkipping line 1940: expected 17 fields, saw 18\\nSkipping line 2422: expected 17 fields, saw 26\\nSkipping line 3138: expected 17 fields, saw 33\\nSkipping line 3310: expected 17 fields, saw 29\\nSkipping line 3339: expected 17 fields, saw 33\\nSkipping line 3348: expected 17 fields, saw 21\\nSkipping line 3359: expected 17 fields, saw 18\\nSkipping line 3367: expected 17 fields, saw 30\\nSkipping line 3383: expected 17 fields, saw 19\\nSkipping line 3402: expected 17 fields, saw 19\\nSkipping line 3476: expected 17 fields, saw 28\\nSkipping line 3485: expected 17 fields, saw 33\\nSkipping line 3528: expected 17 fields, saw 18\\nSkipping line 3786: expected 17 fields, saw 19\\nSkipping line 4017: expected 17 fields, saw 20\\nSkipping line 4049: expected 17 fields, saw 18\\nSkipping line 5699: expected 17 fields, saw 33\\nSkipping line 6034: expected 17 fields, saw 33\\nSkipping line 6639: expected 17 fields, saw 29\\nSkipping line 7756: expected 17 fields, saw 21\\nSkipping line 10122: expected 17 fields, saw 18\\nSkipping line 10123: expected 17 fields, saw 19\\nSkipping line 10669: expected 17 fields, saw 18\\nSkipping line 11249: expected 17 fields, saw 18\\nSkipping line 12642: expected 17 fields, saw 33\\nSkipping line 14971: expected 17 fields, saw 31\\nSkipping line 15341: expected 17 fields, saw 33\\nSkipping line 15841: expected 17 fields, saw 25\\nSkipping line 16345: expected 17 fields, saw 31\\nSkipping line 16604: expected 17 fields, saw 26\\nSkipping line 16686: expected 17 fields, saw 31\\nSkipping line 17043: expected 17 fields, saw 32\\nSkipping line 17060: expected 17 fields, saw 22\\nSkipping line 17193: expected 17 fields, saw 19\\nSkipping line 18459: expected 17 fields, saw 20\\nSkipping line 21033: expected 17 fields, saw 33\\nSkipping line 21341: expected 17 fields, saw 19\\nSkipping line 21382: expected 17 fields, saw 20\\nSkipping line 21552: expected 17 fields, saw 19\\nSkipping line 25121: expected 17 fields, saw 33\\nSkipping line 26721: expected 17 fields, saw 24\\nSkipping line 27616: expected 17 fields, saw 25\\nSkipping line 27970: expected 17 fields, saw 33\\nSkipping line 28181: expected 17 fields, saw 33\\nSkipping line 28227: expected 17 fields, saw 18\\nSkipping line 28995: expected 17 fields, saw 18\\nSkipping line 29232: expected 17 fields, saw 33\\nSkipping line 29336: expected 17 fields, saw 31\\nSkipping line 30051: expected 17 fields, saw 32\\nSkipping line 30258: expected 17 fields, saw 31\\nSkipping line 30848: expected 17 fields, saw 20\\nSkipping line 32297: expected 17 fields, saw 33\\n'\n",
      "b'Skipping line 34042: expected 17 fields, saw 30\\nSkipping line 34492: expected 17 fields, saw 33\\nSkipping line 35248: expected 17 fields, saw 33\\nSkipping line 37745: expected 17 fields, saw 33\\nSkipping line 37781: expected 17 fields, saw 19\\nSkipping line 38456: expected 17 fields, saw 22\\nSkipping line 38713: expected 17 fields, saw 26\\nSkipping line 43022: expected 17 fields, saw 24\\nSkipping line 43322: expected 17 fields, saw 31\\nSkipping line 43635: expected 17 fields, saw 33\\nSkipping line 43686: expected 17 fields, saw 30\\nSkipping line 45023: expected 17 fields, saw 18\\nSkipping line 45139: expected 17 fields, saw 31\\nSkipping line 46695: expected 17 fields, saw 31\\nSkipping line 48420: expected 17 fields, saw 32\\nSkipping line 49793: expected 17 fields, saw 20\\nSkipping line 51395: expected 17 fields, saw 28\\nSkipping line 52134: expected 17 fields, saw 33\\nSkipping line 52344: expected 17 fields, saw 24\\nSkipping line 52618: expected 17 fields, saw 30\\nSkipping line 54276: expected 17 fields, saw 22\\nSkipping line 56228: expected 17 fields, saw 19\\nSkipping line 56980: expected 17 fields, saw 18\\nSkipping line 57197: expected 17 fields, saw 33\\nSkipping line 57954: expected 17 fields, saw 33\\nSkipping line 59577: expected 17 fields, saw 33\\nSkipping line 60584: expected 17 fields, saw 32\\nSkipping line 61397: expected 17 fields, saw 31\\nSkipping line 61670: expected 17 fields, saw 32\\nSkipping line 63090: expected 17 fields, saw 33\\nSkipping line 63198: expected 17 fields, saw 32\\nSkipping line 64193: expected 17 fields, saw 33\\nSkipping line 64943: expected 17 fields, saw 32\\nSkipping line 65452: expected 17 fields, saw 18\\n'\n",
      "b'Skipping line 67832: expected 17 fields, saw 33\\nSkipping line 69787: expected 17 fields, saw 31\\nSkipping line 70388: expected 17 fields, saw 18\\nSkipping line 70433: expected 17 fields, saw 31\\nSkipping line 71174: expected 17 fields, saw 33\\nSkipping line 71783: expected 17 fields, saw 30\\nSkipping line 72755: expected 17 fields, saw 33\\nSkipping line 74089: expected 17 fields, saw 23\\nSkipping line 74198: expected 17 fields, saw 27\\nSkipping line 74294: expected 17 fields, saw 26\\nSkipping line 76593: expected 17 fields, saw 33\\nSkipping line 77267: expected 17 fields, saw 23\\nSkipping line 77613: expected 17 fields, saw 26\\nSkipping line 78421: expected 17 fields, saw 18\\nSkipping line 79809: expected 17 fields, saw 33\\nSkipping line 79995: expected 17 fields, saw 25\\nSkipping line 82257: expected 17 fields, saw 33\\nSkipping line 83616: expected 17 fields, saw 33\\nSkipping line 84069: expected 17 fields, saw 33\\nSkipping line 84778: expected 17 fields, saw 18\\nSkipping line 85994: expected 17 fields, saw 33\\nSkipping line 87254: expected 17 fields, saw 20\\nSkipping line 88473: expected 17 fields, saw 18\\nSkipping line 88626: expected 17 fields, saw 33\\nSkipping line 88901: expected 17 fields, saw 32\\nSkipping line 88973: expected 17 fields, saw 23\\nSkipping line 91346: expected 17 fields, saw 33\\nSkipping line 91988: expected 17 fields, saw 18\\nSkipping line 92869: expected 17 fields, saw 33\\nSkipping line 94661: expected 17 fields, saw 33\\nSkipping line 95269: expected 17 fields, saw 19\\n'\n",
      "b'Skipping line 99574: expected 17 fields, saw 19\\nSkipping line 100986: expected 17 fields, saw 33\\nSkipping line 103601: expected 17 fields, saw 23\\nSkipping line 105769: expected 17 fields, saw 33\\nSkipping line 107477: expected 17 fields, saw 32\\nSkipping line 107803: expected 17 fields, saw 28\\nSkipping line 110436: expected 17 fields, saw 18\\nSkipping line 112326: expected 17 fields, saw 33\\nSkipping line 113122: expected 17 fields, saw 20\\nSkipping line 114696: expected 17 fields, saw 33\\nSkipping line 115039: expected 17 fields, saw 23\\nSkipping line 115557: expected 17 fields, saw 33\\nSkipping line 116164: expected 17 fields, saw 32\\nSkipping line 117351: expected 17 fields, saw 24\\nSkipping line 117397: expected 17 fields, saw 29\\nSkipping line 117525: expected 17 fields, saw 26\\nSkipping line 120583: expected 17 fields, saw 23\\nSkipping line 120952: expected 17 fields, saw 32\\nSkipping line 121355: expected 17 fields, saw 18\\nSkipping line 121926: expected 17 fields, saw 20\\nSkipping line 122595: expected 17 fields, saw 33\\nSkipping line 122601: expected 17 fields, saw 18\\nSkipping line 123137: expected 17 fields, saw 33\\nSkipping line 123517: expected 17 fields, saw 18\\nSkipping line 123899: expected 17 fields, saw 18\\nSkipping line 123983: expected 17 fields, saw 33\\nSkipping line 124018: expected 17 fields, saw 33\\nSkipping line 124067: expected 17 fields, saw 33\\nSkipping line 124395: expected 17 fields, saw 18\\nSkipping line 125216: expected 17 fields, saw 33\\nSkipping line 125938: expected 17 fields, saw 33\\nSkipping line 126502: expected 17 fields, saw 22\\nSkipping line 126525: expected 17 fields, saw 27\\nSkipping line 126904: expected 17 fields, saw 22\\nSkipping line 127639: expected 17 fields, saw 19\\nSkipping line 129134: expected 17 fields, saw 18\\nSkipping line 129270: expected 17 fields, saw 22\\nSkipping line 129542: expected 17 fields, saw 18\\nSkipping line 130124: expected 17 fields, saw 26\\n'\n"
     ]
    },
    {
     "name": "stdout",
     "output_type": "stream",
     "text": [
      "output_7_patients.csv\n"
     ]
    },
    {
     "name": "stderr",
     "output_type": "stream",
     "text": [
      "b'Skipping line 1294: expected 17 fields, saw 18\\nSkipping line 1512: expected 17 fields, saw 18\\nSkipping line 1604: expected 17 fields, saw 18\\nSkipping line 1695: expected 17 fields, saw 33\\nSkipping line 2061: expected 17 fields, saw 18\\nSkipping line 2413: expected 17 fields, saw 33\\nSkipping line 2616: expected 17 fields, saw 27\\nSkipping line 2863: expected 17 fields, saw 33\\nSkipping line 2877: expected 17 fields, saw 18\\nSkipping line 3016: expected 17 fields, saw 33\\nSkipping line 3233: expected 17 fields, saw 30\\nSkipping line 3272: expected 17 fields, saw 19\\nSkipping line 3285: expected 17 fields, saw 28\\nSkipping line 3290: expected 17 fields, saw 27\\nSkipping line 3310: expected 17 fields, saw 32\\nSkipping line 3319: expected 17 fields, saw 29\\nSkipping line 3366: expected 17 fields, saw 21\\nSkipping line 3424: expected 17 fields, saw 33\\nSkipping line 3481: expected 17 fields, saw 33\\nSkipping line 3492: expected 17 fields, saw 27\\nSkipping line 3594: expected 17 fields, saw 20\\nSkipping line 3599: expected 17 fields, saw 19\\nSkipping line 3681: expected 17 fields, saw 29\\nSkipping line 3746: expected 17 fields, saw 26\\nSkipping line 3802: expected 17 fields, saw 25\\nSkipping line 5549: expected 17 fields, saw 32\\nSkipping line 7553: expected 17 fields, saw 33\\nSkipping line 7814: expected 17 fields, saw 22\\nSkipping line 9731: expected 17 fields, saw 18\\nSkipping line 10601: expected 17 fields, saw 18\\nSkipping line 10695: expected 17 fields, saw 33\\nSkipping line 11060: expected 17 fields, saw 19\\nSkipping line 13024: expected 17 fields, saw 32\\nSkipping line 13430: expected 17 fields, saw 33\\nSkipping line 13468: expected 17 fields, saw 33\\nSkipping line 13498: expected 17 fields, saw 22\\nSkipping line 14116: expected 17 fields, saw 18\\nSkipping line 15175: expected 17 fields, saw 28\\nSkipping line 15558: expected 17 fields, saw 30\\nSkipping line 16474: expected 17 fields, saw 33\\nSkipping line 16949: expected 17 fields, saw 33\\nSkipping line 17567: expected 17 fields, saw 27\\nSkipping line 17819: expected 17 fields, saw 33\\nSkipping line 18245: expected 17 fields, saw 31\\nSkipping line 18726: expected 17 fields, saw 33\\nSkipping line 19708: expected 17 fields, saw 26\\nSkipping line 20374: expected 17 fields, saw 31\\nSkipping line 21958: expected 17 fields, saw 21\\nSkipping line 22014: expected 17 fields, saw 33\\nSkipping line 22371: expected 17 fields, saw 33\\nSkipping line 23920: expected 17 fields, saw 23\\nSkipping line 24274: expected 17 fields, saw 22\\nSkipping line 24512: expected 17 fields, saw 20\\nSkipping line 24812: expected 17 fields, saw 33\\nSkipping line 24910: expected 17 fields, saw 22\\nSkipping line 25212: expected 17 fields, saw 30\\nSkipping line 25958: expected 17 fields, saw 33\\nSkipping line 25983: expected 17 fields, saw 18\\nSkipping line 26301: expected 17 fields, saw 18\\nSkipping line 27593: expected 17 fields, saw 32\\nSkipping line 27808: expected 17 fields, saw 31\\nSkipping line 28616: expected 17 fields, saw 18\\nSkipping line 31302: expected 17 fields, saw 33\\nSkipping line 32261: expected 17 fields, saw 33\\nSkipping line 32601: expected 17 fields, saw 31\\nSkipping line 32630: expected 17 fields, saw 33\\nSkipping line 32837: expected 17 fields, saw 18\\n'\n",
      "b'Skipping line 33559: expected 17 fields, saw 18\\nSkipping line 33639: expected 17 fields, saw 31\\nSkipping line 33761: expected 17 fields, saw 33\\nSkipping line 33989: expected 17 fields, saw 28\\nSkipping line 34095: expected 17 fields, saw 18\\nSkipping line 34150: expected 17 fields, saw 29\\nSkipping line 34434: expected 17 fields, saw 29\\nSkipping line 35227: expected 17 fields, saw 33\\nSkipping line 36455: expected 17 fields, saw 30\\nSkipping line 37165: expected 17 fields, saw 25\\nSkipping line 38001: expected 17 fields, saw 33\\nSkipping line 38357: expected 17 fields, saw 33\\nSkipping line 38544: expected 17 fields, saw 33\\nSkipping line 38705: expected 17 fields, saw 32\\nSkipping line 39582: expected 17 fields, saw 33\\nSkipping line 39762: expected 17 fields, saw 19\\nSkipping line 41540: expected 17 fields, saw 24\\nSkipping line 41589: expected 17 fields, saw 33\\nSkipping line 43380: expected 17 fields, saw 33\\nSkipping line 43625: expected 17 fields, saw 32\\nSkipping line 44219: expected 17 fields, saw 33\\nSkipping line 45302: expected 17 fields, saw 26\\nSkipping line 45603: expected 17 fields, saw 32\\nSkipping line 45905: expected 17 fields, saw 20\\nSkipping line 48405: expected 17 fields, saw 33\\nSkipping line 49067: expected 17 fields, saw 33\\nSkipping line 49655: expected 17 fields, saw 33\\nSkipping line 49695: expected 17 fields, saw 23\\nSkipping line 51043: expected 17 fields, saw 28\\nSkipping line 51502: expected 17 fields, saw 33\\nSkipping line 52013: expected 17 fields, saw 20\\nSkipping line 52129: expected 17 fields, saw 33\\nSkipping line 52619: expected 17 fields, saw 33\\nSkipping line 52839: expected 17 fields, saw 20\\nSkipping line 53653: expected 17 fields, saw 20\\nSkipping line 54426: expected 17 fields, saw 19\\nSkipping line 54831: expected 17 fields, saw 18\\nSkipping line 56612: expected 17 fields, saw 30\\nSkipping line 56983: expected 17 fields, saw 32\\nSkipping line 57687: expected 17 fields, saw 31\\nSkipping line 58629: expected 17 fields, saw 33\\nSkipping line 59778: expected 17 fields, saw 29\\nSkipping line 59809: expected 17 fields, saw 20\\nSkipping line 59865: expected 17 fields, saw 33\\nSkipping line 62159: expected 17 fields, saw 18\\nSkipping line 63377: expected 17 fields, saw 25\\nSkipping line 63728: expected 17 fields, saw 20\\nSkipping line 64067: expected 17 fields, saw 33\\nSkipping line 64622: expected 17 fields, saw 33\\n'\n",
      "b'Skipping line 66779: expected 17 fields, saw 33\\nSkipping line 67292: expected 17 fields, saw 18\\nSkipping line 68832: expected 17 fields, saw 18\\nSkipping line 68921: expected 17 fields, saw 31\\nSkipping line 69355: expected 17 fields, saw 18\\nSkipping line 71192: expected 17 fields, saw 33\\nSkipping line 76444: expected 17 fields, saw 22\\nSkipping line 76569: expected 17 fields, saw 33\\nSkipping line 77927: expected 17 fields, saw 18\\nSkipping line 80737: expected 17 fields, saw 32\\nSkipping line 80884: expected 17 fields, saw 33\\nSkipping line 81185: expected 17 fields, saw 26\\nSkipping line 82767: expected 17 fields, saw 23\\nSkipping line 83017: expected 17 fields, saw 21\\nSkipping line 86577: expected 17 fields, saw 33\\nSkipping line 86814: expected 17 fields, saw 18\\nSkipping line 88162: expected 17 fields, saw 33\\nSkipping line 89304: expected 17 fields, saw 33\\nSkipping line 89655: expected 17 fields, saw 18\\nSkipping line 89996: expected 17 fields, saw 29\\nSkipping line 90089: expected 17 fields, saw 20\\nSkipping line 90714: expected 17 fields, saw 33\\nSkipping line 90843: expected 17 fields, saw 33\\nSkipping line 91300: expected 17 fields, saw 32\\nSkipping line 92838: expected 17 fields, saw 24\\nSkipping line 94435: expected 17 fields, saw 33\\nSkipping line 94892: expected 17 fields, saw 32\\nSkipping line 96049: expected 17 fields, saw 29\\nSkipping line 96378: expected 17 fields, saw 23\\nSkipping line 97243: expected 17 fields, saw 30\\nSkipping line 97909: expected 17 fields, saw 31\\n'\n",
      "b'Skipping line 98990: expected 17 fields, saw 33\\nSkipping line 99111: expected 17 fields, saw 30\\nSkipping line 99752: expected 17 fields, saw 33\\nSkipping line 102016: expected 17 fields, saw 33\\nSkipping line 102609: expected 17 fields, saw 33\\nSkipping line 103022: expected 17 fields, saw 27\\nSkipping line 104907: expected 17 fields, saw 18\\nSkipping line 106611: expected 17 fields, saw 33\\nSkipping line 107250: expected 17 fields, saw 26\\nSkipping line 108539: expected 17 fields, saw 33\\nSkipping line 110049: expected 17 fields, saw 31\\nSkipping line 110163: expected 17 fields, saw 33\\nSkipping line 110509: expected 17 fields, saw 18\\nSkipping line 112652: expected 17 fields, saw 33\\nSkipping line 112931: expected 17 fields, saw 33\\nSkipping line 113644: expected 17 fields, saw 18\\nSkipping line 113699: expected 17 fields, saw 32\\nSkipping line 114089: expected 17 fields, saw 33\\nSkipping line 116156: expected 17 fields, saw 22\\nSkipping line 117960: expected 17 fields, saw 29\\nSkipping line 125751: expected 17 fields, saw 29\\nSkipping line 126784: expected 17 fields, saw 33\\nSkipping line 128152: expected 17 fields, saw 33\\nSkipping line 128727: expected 17 fields, saw 29\\nSkipping line 128740: expected 17 fields, saw 33\\nSkipping line 130554: expected 17 fields, saw 22\\n'\n"
     ]
    },
    {
     "name": "stderr",
     "output_type": "stream",
     "text": [
      "b'Skipping line 131848: expected 17 fields, saw 33\\n'\n"
     ]
    },
    {
     "name": "stdout",
     "output_type": "stream",
     "text": [
      "output_11_patients.csv\n"
     ]
    },
    {
     "name": "stderr",
     "output_type": "stream",
     "text": [
      "b'Skipping line 327: expected 17 fields, saw 18\\nSkipping line 466: expected 17 fields, saw 33\\nSkipping line 1221: expected 17 fields, saw 33\\nSkipping line 1436: expected 17 fields, saw 18\\nSkipping line 2216: expected 17 fields, saw 33\\nSkipping line 2506: expected 17 fields, saw 22\\nSkipping line 2674: expected 17 fields, saw 33\\nSkipping line 2724: expected 17 fields, saw 18\\nSkipping line 2965: expected 17 fields, saw 24\\nSkipping line 3202: expected 17 fields, saw 20\\nSkipping line 3206: expected 17 fields, saw 30\\nSkipping line 3235: expected 17 fields, saw 33\\nSkipping line 3286: expected 17 fields, saw 33\\nSkipping line 3292: expected 17 fields, saw 31\\nSkipping line 3331: expected 17 fields, saw 33\\nSkipping line 3341: expected 17 fields, saw 30\\nSkipping line 3410: expected 17 fields, saw 22\\nSkipping line 3417: expected 17 fields, saw 18\\nSkipping line 3444: expected 17 fields, saw 33\\nSkipping line 3500: expected 17 fields, saw 18\\nSkipping line 3669: expected 17 fields, saw 25\\nSkipping line 3671: expected 17 fields, saw 33\\nSkipping line 3700: expected 17 fields, saw 20\\nSkipping line 3751: expected 17 fields, saw 33\\nSkipping line 3799: expected 17 fields, saw 19\\nSkipping line 3837: expected 17 fields, saw 30\\nSkipping line 4049: expected 17 fields, saw 29\\nSkipping line 4053: expected 17 fields, saw 19\\nSkipping line 4062: expected 17 fields, saw 22\\nSkipping line 4089: expected 17 fields, saw 32\\nSkipping line 4103: expected 17 fields, saw 18\\nSkipping line 4190: expected 17 fields, saw 33\\nSkipping line 4511: expected 17 fields, saw 20\\nSkipping line 5400: expected 17 fields, saw 24\\nSkipping line 5744: expected 17 fields, saw 29\\nSkipping line 6917: expected 17 fields, saw 27\\nSkipping line 6938: expected 17 fields, saw 33\\nSkipping line 6964: expected 17 fields, saw 32\\nSkipping line 7809: expected 17 fields, saw 30\\nSkipping line 8177: expected 17 fields, saw 32\\nSkipping line 9165: expected 17 fields, saw 29\\nSkipping line 9800: expected 17 fields, saw 33\\nSkipping line 10011: expected 17 fields, saw 19\\nSkipping line 10253: expected 17 fields, saw 33\\nSkipping line 10447: expected 17 fields, saw 32\\nSkipping line 10898: expected 17 fields, saw 33\\nSkipping line 11689: expected 17 fields, saw 22\\nSkipping line 12248: expected 17 fields, saw 32\\nSkipping line 12319: expected 17 fields, saw 33\\nSkipping line 13338: expected 17 fields, saw 19\\nSkipping line 14808: expected 17 fields, saw 33\\nSkipping line 15318: expected 17 fields, saw 29\\nSkipping line 15491: expected 17 fields, saw 18\\nSkipping line 16887: expected 17 fields, saw 32\\nSkipping line 17569: expected 17 fields, saw 23\\nSkipping line 20499: expected 17 fields, saw 18\\nSkipping line 20506: expected 17 fields, saw 33\\nSkipping line 22001: expected 17 fields, saw 22\\nSkipping line 22390: expected 17 fields, saw 22\\nSkipping line 23006: expected 17 fields, saw 33\\nSkipping line 24233: expected 17 fields, saw 19\\nSkipping line 26511: expected 17 fields, saw 33\\nSkipping line 27409: expected 17 fields, saw 18\\nSkipping line 28100: expected 17 fields, saw 33\\nSkipping line 28445: expected 17 fields, saw 30\\nSkipping line 28783: expected 17 fields, saw 31\\nSkipping line 29240: expected 17 fields, saw 30\\nSkipping line 29621: expected 17 fields, saw 18\\nSkipping line 30696: expected 17 fields, saw 31\\nSkipping line 31210: expected 17 fields, saw 31\\nSkipping line 31242: expected 17 fields, saw 33\\nSkipping line 31811: expected 17 fields, saw 33\\n'\n",
      "b'Skipping line 33074: expected 17 fields, saw 26\\nSkipping line 34457: expected 17 fields, saw 27\\nSkipping line 36429: expected 17 fields, saw 33\\nSkipping line 36771: expected 17 fields, saw 20\\nSkipping line 37976: expected 17 fields, saw 18\\nSkipping line 40870: expected 17 fields, saw 33\\nSkipping line 40956: expected 17 fields, saw 33\\nSkipping line 42576: expected 17 fields, saw 25\\nSkipping line 42721: expected 17 fields, saw 28\\nSkipping line 44115: expected 17 fields, saw 33\\nSkipping line 44796: expected 17 fields, saw 33\\nSkipping line 45006: expected 17 fields, saw 18\\nSkipping line 45408: expected 17 fields, saw 32\\nSkipping line 45422: expected 17 fields, saw 32\\nSkipping line 46436: expected 17 fields, saw 18\\nSkipping line 46601: expected 17 fields, saw 18\\nSkipping line 48024: expected 17 fields, saw 33\\nSkipping line 48139: expected 17 fields, saw 20\\nSkipping line 51461: expected 17 fields, saw 19\\nSkipping line 52392: expected 17 fields, saw 19\\nSkipping line 54002: expected 17 fields, saw 18\\nSkipping line 54305: expected 17 fields, saw 21\\nSkipping line 55257: expected 17 fields, saw 25\\nSkipping line 55591: expected 17 fields, saw 29\\nSkipping line 55781: expected 17 fields, saw 33\\nSkipping line 59065: expected 17 fields, saw 33\\nSkipping line 61422: expected 17 fields, saw 33\\nSkipping line 61986: expected 17 fields, saw 18\\nSkipping line 62188: expected 17 fields, saw 19\\nSkipping line 63631: expected 17 fields, saw 20\\nSkipping line 64253: expected 17 fields, saw 18\\nSkipping line 65390: expected 17 fields, saw 18\\n'\n",
      "b'Skipping line 66739: expected 17 fields, saw 33\\nSkipping line 67687: expected 17 fields, saw 33\\nSkipping line 68217: expected 17 fields, saw 33\\nSkipping line 69262: expected 17 fields, saw 18\\nSkipping line 69670: expected 17 fields, saw 30\\nSkipping line 70002: expected 17 fields, saw 33\\nSkipping line 70644: expected 17 fields, saw 30\\nSkipping line 71218: expected 17 fields, saw 22\\nSkipping line 72713: expected 17 fields, saw 31\\nSkipping line 73280: expected 17 fields, saw 33\\nSkipping line 76541: expected 17 fields, saw 18\\nSkipping line 76673: expected 17 fields, saw 32\\nSkipping line 77428: expected 17 fields, saw 33\\nSkipping line 77537: expected 17 fields, saw 33\\nSkipping line 77974: expected 17 fields, saw 33\\nSkipping line 78414: expected 17 fields, saw 33\\nSkipping line 78703: expected 17 fields, saw 29\\nSkipping line 79296: expected 17 fields, saw 33\\nSkipping line 79791: expected 17 fields, saw 25\\nSkipping line 80350: expected 17 fields, saw 33\\nSkipping line 80861: expected 17 fields, saw 33\\nSkipping line 83325: expected 17 fields, saw 20\\nSkipping line 83330: expected 17 fields, saw 24\\nSkipping line 83698: expected 17 fields, saw 32\\nSkipping line 84267: expected 17 fields, saw 19\\nSkipping line 84710: expected 17 fields, saw 19\\nSkipping line 85056: expected 17 fields, saw 18\\nSkipping line 87232: expected 17 fields, saw 18\\nSkipping line 87625: expected 17 fields, saw 32\\nSkipping line 87699: expected 17 fields, saw 30\\nSkipping line 88948: expected 17 fields, saw 22\\nSkipping line 89587: expected 17 fields, saw 19\\nSkipping line 90055: expected 17 fields, saw 30\\nSkipping line 90123: expected 17 fields, saw 33\\nSkipping line 91271: expected 17 fields, saw 18\\nSkipping line 91488: expected 17 fields, saw 19\\nSkipping line 92936: expected 17 fields, saw 23\\nSkipping line 95233: expected 17 fields, saw 18\\nSkipping line 95254: expected 17 fields, saw 33\\nSkipping line 97548: expected 17 fields, saw 33\\nSkipping line 97721: expected 17 fields, saw 31\\n'\n",
      "b'Skipping line 98801: expected 17 fields, saw 29\\nSkipping line 101362: expected 17 fields, saw 25\\nSkipping line 101579: expected 17 fields, saw 18\\nSkipping line 101673: expected 17 fields, saw 32\\nSkipping line 102017: expected 17 fields, saw 18\\nSkipping line 102951: expected 17 fields, saw 18\\nSkipping line 103375: expected 17 fields, saw 33\\nSkipping line 105127: expected 17 fields, saw 33\\nSkipping line 106304: expected 17 fields, saw 32\\nSkipping line 108800: expected 17 fields, saw 20\\nSkipping line 110282: expected 17 fields, saw 18\\nSkipping line 111951: expected 17 fields, saw 33\\nSkipping line 113097: expected 17 fields, saw 31\\nSkipping line 115142: expected 17 fields, saw 18\\nSkipping line 115596: expected 17 fields, saw 33\\nSkipping line 116876: expected 17 fields, saw 29\\nSkipping line 117221: expected 17 fields, saw 18\\nSkipping line 117434: expected 17 fields, saw 33\\nSkipping line 118038: expected 17 fields, saw 25\\nSkipping line 118355: expected 17 fields, saw 18\\nSkipping line 118599: expected 17 fields, saw 33\\nSkipping line 119214: expected 17 fields, saw 31\\nSkipping line 120368: expected 17 fields, saw 32\\nSkipping line 120520: expected 17 fields, saw 31\\nSkipping line 121291: expected 17 fields, saw 30\\nSkipping line 122519: expected 17 fields, saw 22\\nSkipping line 123410: expected 17 fields, saw 31\\nSkipping line 123455: expected 17 fields, saw 33\\nSkipping line 123837: expected 17 fields, saw 29\\nSkipping line 125190: expected 17 fields, saw 33\\nSkipping line 126125: expected 17 fields, saw 18\\nSkipping line 127951: expected 17 fields, saw 33\\nSkipping line 128093: expected 17 fields, saw 32\\nSkipping line 128923: expected 17 fields, saw 33\\nSkipping line 129747: expected 17 fields, saw 27\\nSkipping line 130441: expected 17 fields, saw 33\\n'\n"
     ]
    },
    {
     "name": "stderr",
     "output_type": "stream",
     "text": [
      "b'Skipping line 131482: expected 17 fields, saw 32\\nSkipping line 131512: expected 17 fields, saw 30\\nSkipping line 131823: expected 17 fields, saw 33\\n'\n"
     ]
    },
    {
     "name": "stdout",
     "output_type": "stream",
     "text": [
      "ouput_3_patients.csv\n"
     ]
    },
    {
     "name": "stderr",
     "output_type": "stream",
     "text": [
      "b'Skipping line 1265: expected 17 fields, saw 40\\nSkipping line 1756: expected 17 fields, saw 31\\nSkipping line 1980: expected 17 fields, saw 33\\nSkipping line 2348: expected 17 fields, saw 33\\nSkipping line 2821: expected 17 fields, saw 33\\nSkipping line 3266: expected 17 fields, saw 18\\nSkipping line 3277: expected 17 fields, saw 33\\nSkipping line 3352: expected 17 fields, saw 32\\nSkipping line 3385: expected 17 fields, saw 29\\nSkipping line 3406: expected 17 fields, saw 28\\nSkipping line 3414: expected 17 fields, saw 33\\nSkipping line 3420: expected 17 fields, saw 28\\nSkipping line 3437: expected 17 fields, saw 18\\nSkipping line 3484: expected 17 fields, saw 22\\nSkipping line 3499: expected 17 fields, saw 18\\nSkipping line 3648: expected 17 fields, saw 33\\nSkipping line 3858: expected 17 fields, saw 33\\nSkipping line 3935: expected 17 fields, saw 20\\nSkipping line 3975: expected 17 fields, saw 33\\nSkipping line 4374: expected 17 fields, saw 33\\nSkipping line 4865: expected 17 fields, saw 33\\nSkipping line 5017: expected 17 fields, saw 33\\nSkipping line 6289: expected 17 fields, saw 18\\nSkipping line 8380: expected 17 fields, saw 19\\nSkipping line 8742: expected 17 fields, saw 33\\nSkipping line 10813: expected 17 fields, saw 22\\nSkipping line 11769: expected 17 fields, saw 31\\nSkipping line 12479: expected 17 fields, saw 22\\nSkipping line 14103: expected 17 fields, saw 32\\nSkipping line 14119: expected 17 fields, saw 30\\nSkipping line 14824: expected 17 fields, saw 25\\nSkipping line 14933: expected 17 fields, saw 22\\nSkipping line 15684: expected 17 fields, saw 23\\nSkipping line 16299: expected 17 fields, saw 33\\nSkipping line 16817: expected 17 fields, saw 33\\nSkipping line 16973: expected 17 fields, saw 27\\nSkipping line 17994: expected 17 fields, saw 20\\nSkipping line 20850: expected 17 fields, saw 33\\nSkipping line 21112: expected 17 fields, saw 33\\nSkipping line 21349: expected 17 fields, saw 18\\nSkipping line 24028: expected 17 fields, saw 25\\nSkipping line 24370: expected 17 fields, saw 32\\nSkipping line 24595: expected 17 fields, saw 22\\nSkipping line 25562: expected 17 fields, saw 33\\nSkipping line 26694: expected 17 fields, saw 33\\nSkipping line 27235: expected 17 fields, saw 18\\nSkipping line 28599: expected 17 fields, saw 33\\nSkipping line 29169: expected 17 fields, saw 33\\nSkipping line 29369: expected 17 fields, saw 22\\nSkipping line 30885: expected 17 fields, saw 33\\nSkipping line 31280: expected 17 fields, saw 18\\n'\n",
      "b'Skipping line 33188: expected 17 fields, saw 33\\nSkipping line 34220: expected 17 fields, saw 32\\nSkipping line 34936: expected 17 fields, saw 31\\nSkipping line 36900: expected 17 fields, saw 22\\nSkipping line 37750: expected 17 fields, saw 23\\nSkipping line 38037: expected 17 fields, saw 33\\nSkipping line 38662: expected 17 fields, saw 18\\nSkipping line 39472: expected 17 fields, saw 32\\nSkipping line 40100: expected 17 fields, saw 33\\nSkipping line 41000: expected 17 fields, saw 33\\nSkipping line 41172: expected 17 fields, saw 33\\nSkipping line 41863: expected 17 fields, saw 33\\nSkipping line 42070: expected 17 fields, saw 21\\nSkipping line 43389: expected 17 fields, saw 18\\nSkipping line 47782: expected 17 fields, saw 33\\nSkipping line 47927: expected 17 fields, saw 33\\nSkipping line 47937: expected 17 fields, saw 22\\nSkipping line 48173: expected 17 fields, saw 30\\nSkipping line 49768: expected 17 fields, saw 30\\nSkipping line 51402: expected 17 fields, saw 29\\nSkipping line 53840: expected 17 fields, saw 18\\nSkipping line 54827: expected 17 fields, saw 33\\nSkipping line 54871: expected 17 fields, saw 33\\nSkipping line 56310: expected 17 fields, saw 19\\nSkipping line 56677: expected 17 fields, saw 32\\nSkipping line 58323: expected 17 fields, saw 26\\nSkipping line 58613: expected 17 fields, saw 18\\nSkipping line 59669: expected 17 fields, saw 18\\nSkipping line 60551: expected 17 fields, saw 33\\nSkipping line 61472: expected 17 fields, saw 18\\nSkipping line 62830: expected 17 fields, saw 30\\nSkipping line 64589: expected 17 fields, saw 28\\nSkipping line 64953: expected 17 fields, saw 33\\nSkipping line 65087: expected 17 fields, saw 32\\nSkipping line 65519: expected 17 fields, saw 25\\n'\n",
      "b'Skipping line 66743: expected 17 fields, saw 25\\nSkipping line 66924: expected 17 fields, saw 18\\nSkipping line 74492: expected 17 fields, saw 33\\nSkipping line 75293: expected 17 fields, saw 24\\nSkipping line 77181: expected 17 fields, saw 33\\nSkipping line 79172: expected 17 fields, saw 31\\nSkipping line 80602: expected 17 fields, saw 18\\nSkipping line 81570: expected 17 fields, saw 18\\nSkipping line 82563: expected 17 fields, saw 18\\nSkipping line 83783: expected 17 fields, saw 22\\nSkipping line 85568: expected 17 fields, saw 32\\nSkipping line 86798: expected 17 fields, saw 20\\nSkipping line 86989: expected 17 fields, saw 22\\nSkipping line 90546: expected 17 fields, saw 30\\nSkipping line 90709: expected 17 fields, saw 33\\nSkipping line 90868: expected 17 fields, saw 33\\nSkipping line 92195: expected 17 fields, saw 18\\nSkipping line 94645: expected 17 fields, saw 33\\nSkipping line 95620: expected 17 fields, saw 18\\nSkipping line 95999: expected 17 fields, saw 26\\nSkipping line 96283: expected 17 fields, saw 18\\nSkipping line 96697: expected 17 fields, saw 18\\nSkipping line 97008: expected 17 fields, saw 33\\nSkipping line 98301: expected 17 fields, saw 18\\n'\n",
      "b'Skipping line 98620: expected 17 fields, saw 29\\nSkipping line 98735: expected 17 fields, saw 22\\nSkipping line 98826: expected 17 fields, saw 22\\nSkipping line 100453: expected 17 fields, saw 20\\nSkipping line 100818: expected 17 fields, saw 33\\nSkipping line 101750: expected 17 fields, saw 18\\nSkipping line 102693: expected 17 fields, saw 33\\nSkipping line 103594: expected 17 fields, saw 28\\nSkipping line 103662: expected 17 fields, saw 18\\nSkipping line 103693: expected 17 fields, saw 33\\nSkipping line 104277: expected 17 fields, saw 31\\nSkipping line 104424: expected 17 fields, saw 22\\nSkipping line 105178: expected 17 fields, saw 25\\nSkipping line 105489: expected 17 fields, saw 29\\nSkipping line 105573: expected 17 fields, saw 33\\nSkipping line 107522: expected 17 fields, saw 18\\nSkipping line 108780: expected 17 fields, saw 29\\nSkipping line 108867: expected 17 fields, saw 33\\nSkipping line 109725: expected 17 fields, saw 19\\nSkipping line 110282: expected 17 fields, saw 33\\nSkipping line 110938: expected 17 fields, saw 33\\nSkipping line 111550: expected 17 fields, saw 18\\nSkipping line 111577: expected 17 fields, saw 33\\nSkipping line 112964: expected 17 fields, saw 33\\nSkipping line 113037: expected 17 fields, saw 32\\nSkipping line 113310: expected 17 fields, saw 30\\nSkipping line 113687: expected 17 fields, saw 31\\nSkipping line 115001: expected 17 fields, saw 24\\nSkipping line 115435: expected 17 fields, saw 32\\nSkipping line 116061: expected 17 fields, saw 18\\nSkipping line 117911: expected 17 fields, saw 20\\nSkipping line 118105: expected 17 fields, saw 33\\nSkipping line 118992: expected 17 fields, saw 18\\nSkipping line 119362: expected 17 fields, saw 18\\nSkipping line 121712: expected 17 fields, saw 29\\nSkipping line 122999: expected 17 fields, saw 23\\nSkipping line 126128: expected 17 fields, saw 33\\nSkipping line 127143: expected 17 fields, saw 21\\nSkipping line 129674: expected 17 fields, saw 26\\n'\n",
      "b'Skipping line 131931: expected 17 fields, saw 23\\nSkipping line 131960: expected 17 fields, saw 33\\n'\n"
     ]
    }
   ],
   "source": [
    "concatenate()"
   ]
  },
  {
   "cell_type": "code",
   "execution_count": 36,
   "metadata": {},
   "outputs": [
    {
     "data": {
      "text/html": [
       "<div>\n",
       "<style scoped>\n",
       "    .dataframe tbody tr th:only-of-type {\n",
       "        vertical-align: middle;\n",
       "    }\n",
       "\n",
       "    .dataframe tbody tr th {\n",
       "        vertical-align: top;\n",
       "    }\n",
       "\n",
       "    .dataframe thead th {\n",
       "        text-align: right;\n",
       "    }\n",
       "</style>\n",
       "<table border=\"1\" class=\"dataframe\">\n",
       "  <thead>\n",
       "    <tr style=\"text-align: right;\">\n",
       "      <th></th>\n",
       "      <th>ID</th>\n",
       "      <th>Birthdate</th>\n",
       "      <th>Deathdate</th>\n",
       "      <th>SSN</th>\n",
       "      <th>Drivers</th>\n",
       "      <th>Passaport</th>\n",
       "      <th>Prefix</th>\n",
       "      <th>First</th>\n",
       "      <th>Last</th>\n",
       "      <th>Suffix</th>\n",
       "      <th>Maiden</th>\n",
       "      <th>Marital</th>\n",
       "      <th>Race</th>\n",
       "      <th>Ethnicity</th>\n",
       "      <th>Gender</th>\n",
       "      <th>Birthplace</th>\n",
       "      <th>Address</th>\n",
       "    </tr>\n",
       "  </thead>\n",
       "  <tbody>\n",
       "    <tr>\n",
       "      <th>0</th>\n",
       "      <td>ID</td>\n",
       "      <td>BIRTHDATE</td>\n",
       "      <td>DEATHDATE</td>\n",
       "      <td>SSN</td>\n",
       "      <td>DRIVERS</td>\n",
       "      <td>PASSPORT</td>\n",
       "      <td>PREFIX</td>\n",
       "      <td>FIRST</td>\n",
       "      <td>LAST</td>\n",
       "      <td>SUFFIX</td>\n",
       "      <td>MAIDEN</td>\n",
       "      <td>MARITAL</td>\n",
       "      <td>RACE</td>\n",
       "      <td>ETHNICITY</td>\n",
       "      <td>GENDER</td>\n",
       "      <td>BIRTHPLACE</td>\n",
       "      <td>ADDRESS</td>\n",
       "    </tr>\n",
       "    <tr>\n",
       "      <th>1</th>\n",
       "      <td>6a7af23d-1154-4c7e-ad43-c7a97a582797</td>\n",
       "      <td>2009-12-18</td>\n",
       "      <td>NaN</td>\n",
       "      <td>999-28-5401</td>\n",
       "      <td>NaN</td>\n",
       "      <td>NaN</td>\n",
       "      <td>NaN</td>\n",
       "      <td>Jamal36</td>\n",
       "      <td>McGlynn498</td>\n",
       "      <td>NaN</td>\n",
       "      <td>NaN</td>\n",
       "      <td>NaN</td>\n",
       "      <td>white</td>\n",
       "      <td>irish</td>\n",
       "      <td>M</td>\n",
       "      <td>Everett MA US</td>\n",
       "      <td>57307 Murphy Freeway Eastham MA 02642 US</td>\n",
       "    </tr>\n",
       "    <tr>\n",
       "      <th>2</th>\n",
       "      <td>8081a1c2-213d-4bd4-a8f2-c1127faf67e3</td>\n",
       "      <td>1996-02-20</td>\n",
       "      <td>NaN</td>\n",
       "      <td>999-15-7447</td>\n",
       "      <td>S99938358</td>\n",
       "      <td>X82277441X</td>\n",
       "      <td>Ms.</td>\n",
       "      <td>Eulalia223</td>\n",
       "      <td>Boehm17</td>\n",
       "      <td>NaN</td>\n",
       "      <td>NaN</td>\n",
       "      <td>NaN</td>\n",
       "      <td>white</td>\n",
       "      <td>scottish</td>\n",
       "      <td>F</td>\n",
       "      <td>Medfield MA US</td>\n",
       "      <td>8188 Pagac Fork Apt. 433 Eastham MA 02642 US</td>\n",
       "    </tr>\n",
       "  </tbody>\n",
       "</table>\n",
       "</div>"
      ],
      "text/plain": [
       "                                     ID   Birthdate  Deathdate          SSN  \\\n",
       "0                                    ID   BIRTHDATE  DEATHDATE          SSN   \n",
       "1  6a7af23d-1154-4c7e-ad43-c7a97a582797  2009-12-18        NaN  999-28-5401   \n",
       "2  8081a1c2-213d-4bd4-a8f2-c1127faf67e3  1996-02-20        NaN  999-15-7447   \n",
       "\n",
       "     Drivers   Passaport  Prefix       First        Last  Suffix  Maiden  \\\n",
       "0    DRIVERS    PASSPORT  PREFIX       FIRST        LAST  SUFFIX  MAIDEN   \n",
       "1        NaN         NaN     NaN     Jamal36  McGlynn498     NaN     NaN   \n",
       "2  S99938358  X82277441X     Ms.  Eulalia223     Boehm17     NaN     NaN   \n",
       "\n",
       "   Marital   Race  Ethnicity  Gender      Birthplace  \\\n",
       "0  MARITAL   RACE  ETHNICITY  GENDER      BIRTHPLACE   \n",
       "1      NaN  white      irish       M   Everett MA US   \n",
       "2      NaN  white   scottish       F  Medfield MA US   \n",
       "\n",
       "                                        Address  \n",
       "0                                       ADDRESS  \n",
       "1      57307 Murphy Freeway Eastham MA 02642 US  \n",
       "2  8188 Pagac Fork Apt. 433 Eastham MA 02642 US  "
      ]
     },
     "execution_count": 36,
     "metadata": {},
     "output_type": "execute_result"
    }
   ],
   "source": [
    "patients = pd.read_csv('/Users/isela/Desktop/Data_Science_Computing/funding_publication/synthea_1m_fhir_3_0_May_24/patients_all.csv', header = 0)\n",
    "patients.head(3)"
   ]
  },
  {
   "cell_type": "code",
   "execution_count": 37,
   "metadata": {},
   "outputs": [],
   "source": [
    "patients = pd.DataFrame(patients.iloc[1:])"
   ]
  },
  {
   "cell_type": "markdown",
   "metadata": {},
   "source": [
    "## Task 2\n",
    "Find the total number of patients and the distribution of RACE (variable)."
   ]
  },
  {
   "cell_type": "code",
   "execution_count": 38,
   "metadata": {},
   "outputs": [
    {
     "data": {
      "text/html": [
       "<div>\n",
       "<style scoped>\n",
       "    .dataframe tbody tr th:only-of-type {\n",
       "        vertical-align: middle;\n",
       "    }\n",
       "\n",
       "    .dataframe tbody tr th {\n",
       "        vertical-align: top;\n",
       "    }\n",
       "\n",
       "    .dataframe thead th {\n",
       "        text-align: right;\n",
       "    }\n",
       "</style>\n",
       "<table border=\"1\" class=\"dataframe\">\n",
       "  <thead>\n",
       "    <tr style=\"text-align: right;\">\n",
       "      <th></th>\n",
       "      <th>ID</th>\n",
       "      <th>Birthdate</th>\n",
       "      <th>Deathdate</th>\n",
       "      <th>SSN</th>\n",
       "      <th>Drivers</th>\n",
       "      <th>Passaport</th>\n",
       "      <th>Prefix</th>\n",
       "      <th>First</th>\n",
       "      <th>Last</th>\n",
       "      <th>Suffix</th>\n",
       "      <th>Maiden</th>\n",
       "      <th>Marital</th>\n",
       "      <th>Race</th>\n",
       "      <th>Ethnicity</th>\n",
       "      <th>Gender</th>\n",
       "      <th>Birthplace</th>\n",
       "      <th>Address</th>\n",
       "    </tr>\n",
       "  </thead>\n",
       "  <tbody>\n",
       "    <tr>\n",
       "      <th>count</th>\n",
       "      <td>1592190</td>\n",
       "      <td>1591974</td>\n",
       "      <td>397807</td>\n",
       "      <td>1591887</td>\n",
       "      <td>1350621</td>\n",
       "      <td>1279712</td>\n",
       "      <td>1314885</td>\n",
       "      <td>1591646</td>\n",
       "      <td>1591335</td>\n",
       "      <td>17573</td>\n",
       "      <td>455419</td>\n",
       "      <td>1144104</td>\n",
       "      <td>1591472</td>\n",
       "      <td>1591442</td>\n",
       "      <td>1591328</td>\n",
       "      <td>1591253</td>\n",
       "      <td>1590909</td>\n",
       "    </tr>\n",
       "    <tr>\n",
       "      <th>unique</th>\n",
       "      <td>1591796</td>\n",
       "      <td>41102</td>\n",
       "      <td>29890</td>\n",
       "      <td>697210</td>\n",
       "      <td>90474</td>\n",
       "      <td>637722</td>\n",
       "      <td>540</td>\n",
       "      <td>36364</td>\n",
       "      <td>5785</td>\n",
       "      <td>212</td>\n",
       "      <td>5811</td>\n",
       "      <td>157</td>\n",
       "      <td>136</td>\n",
       "      <td>195</td>\n",
       "      <td>231</td>\n",
       "      <td>697</td>\n",
       "      <td>1590899</td>\n",
       "    </tr>\n",
       "    <tr>\n",
       "      <th>top</th>\n",
       "      <td>false</td>\n",
       "      <td>1954-10-21</td>\n",
       "      <td>M</td>\n",
       "      <td>M</td>\n",
       "      <td>false</td>\n",
       "      <td>false</td>\n",
       "      <td>Mr.</td>\n",
       "      <td>Kendra803</td>\n",
       "      <td>Daugherty866</td>\n",
       "      <td>PhD</td>\n",
       "      <td>M</td>\n",
       "      <td>M</td>\n",
       "      <td>white</td>\n",
       "      <td>irish</td>\n",
       "      <td>M</td>\n",
       "      <td>Boston MA US</td>\n",
       "      <td>ADDRESS</td>\n",
       "    </tr>\n",
       "    <tr>\n",
       "      <th>freq</th>\n",
       "      <td>78</td>\n",
       "      <td>89</td>\n",
       "      <td>78</td>\n",
       "      <td>62</td>\n",
       "      <td>138</td>\n",
       "      <td>639253</td>\n",
       "      <td>659095</td>\n",
       "      <td>109</td>\n",
       "      <td>598</td>\n",
       "      <td>5724</td>\n",
       "      <td>224</td>\n",
       "      <td>914228</td>\n",
       "      <td>1227533</td>\n",
       "      <td>328801</td>\n",
       "      <td>796615</td>\n",
       "      <td>149915</td>\n",
       "      <td>11</td>\n",
       "    </tr>\n",
       "  </tbody>\n",
       "</table>\n",
       "</div>"
      ],
      "text/plain": [
       "             ID   Birthdate Deathdate      SSN  Drivers Passaport   Prefix  \\\n",
       "count   1592190     1591974    397807  1591887  1350621   1279712  1314885   \n",
       "unique  1591796       41102     29890   697210    90474    637722      540   \n",
       "top       false  1954-10-21         M        M    false     false      Mr.   \n",
       "freq         78          89        78       62      138    639253   659095   \n",
       "\n",
       "            First          Last Suffix  Maiden  Marital     Race Ethnicity  \\\n",
       "count     1591646       1591335  17573  455419  1144104  1591472   1591442   \n",
       "unique      36364          5785    212    5811      157      136       195   \n",
       "top     Kendra803  Daugherty866    PhD       M        M    white     irish   \n",
       "freq          109           598   5724     224   914228  1227533    328801   \n",
       "\n",
       "         Gender    Birthplace  Address  \n",
       "count   1591328       1591253  1590909  \n",
       "unique      231           697  1590899  \n",
       "top           M  Boston MA US  ADDRESS  \n",
       "freq     796615        149915       11  "
      ]
     },
     "execution_count": 38,
     "metadata": {},
     "output_type": "execute_result"
    }
   ],
   "source": [
    "patients.describe()"
   ]
  },
  {
   "cell_type": "code",
   "execution_count": 39,
   "metadata": {},
   "outputs": [
    {
     "data": {
      "text/plain": [
       "M                                                          796615\n",
       "F                                                          794282\n",
       "Boston MA US                                                   27\n",
       "GENDER                                                         11\n",
       "Cambridge MA US                                                 9\n",
       "Brockton MA US                                                  8\n",
       "Springfield MA US                                               8\n",
       "Worcester MA US                                                 7\n",
       "Waltham MA US                                                   7\n",
       "Brookline MA US                                                 7\n",
       "Quincy MA US                                                    6\n",
       "Methuen Town MA US                                              6\n",
       "Lawrence MA US                                                  5\n",
       "Fall River MA US                                                5\n",
       "Westfield MA US                                                 5\n",
       "Revere MA US                                                    5\n",
       "New Bedford MA US                                               4\n",
       "Barnstable Town MA US                                           4\n",
       "Andover MA US                                                   4\n",
       "Marlborough MA US                                               4\n",
       "Leominster MA US                                                4\n",
       "Gloucester MA US                                                4\n",
       "Pittsfield MA US                                                4\n",
       "Woburn MA US                                                    3\n",
       "Newton MA US                                                    3\n",
       "Mashpee MA US                                                   3\n",
       "Peabody MA US                                                   3\n",
       "Yarmouth MA US                                                  3\n",
       "Chicopee MA US                                                  3\n",
       "Lynn MA US                                                      3\n",
       "                                                            ...  \n",
       "4982 Bergnaum Hill Suite 996 Holden MA 01520 US                 1\n",
       "53386 Collin Trail Chelmsford MA 01824 US                       1\n",
       "23684 Greenholt Freeway Apt. 371 Stoneham MA 02180 US           1\n",
       "40525 Jacynthe Garden Apt. 562 Cheshire MA 01225 US             1\n",
       "917 Gislason Station Lancaster MA 01523 US                      1\n",
       "Kingston MA US                                                  1\n",
       "210 Rhoda Field Apt. 534 Attleboro MA 02703 US                  1\n",
       "Cohasset MA US                                                  1\n",
       "77005 Durgan Overpass Apt. 264 Fall River MA 02721 US           1\n",
       "Duxbury MA US                                                   1\n",
       "Upton MA US                                                     1\n",
       "95892 O'Reilly Circles Wellesley MA 02457 US                    1\n",
       "Bourne MA US                                                    1\n",
       "98495 Gussie Flats Apt. 343 Groton MA 01450 US                  1\n",
       "85034 Wiza Fields Taunton MA 02780 US                           1\n",
       "Becket MA US                                                    1\n",
       "41073 Jacobson Springs Worcester MA 01654 US                    1\n",
       "8305 Cassandra Gateway Suite 851 Gloucester MA 01930 US         1\n",
       "Provincetown MA US                                              1\n",
       "Wareham MA US                                                   1\n",
       "Bridgewater MA US                                               1\n",
       "27807 Armstrong Ways Plymouth MA 02360 US                       1\n",
       "Mattapoisett MA US                                              1\n",
       "74335 Kuhlman Station Pittsfield MA 01201 US                    1\n",
       "77303 Opal Haven Suite 248 Taunton MA 02783 US                  1\n",
       "7149 VonRueden Field Suite 322 Easton MA 02334 US               1\n",
       "9624 Emmanuelle Row Winthrop MA 02152 US                        1\n",
       "Watertown Town MA US                                            1\n",
       "1907 Jacobson Mill Northampton MA 01063 US                      1\n",
       "4245 Feeney Passage Suite 789 Quincy MA 02269 US                1\n",
       "Name: Gender, Length: 231, dtype: int64"
      ]
     },
     "execution_count": 39,
     "metadata": {},
     "output_type": "execute_result"
    }
   ],
   "source": [
    "patients[\"Gender\"].value_counts()"
   ]
  },
  {
   "cell_type": "code",
   "execution_count": 40,
   "metadata": {},
   "outputs": [],
   "source": [
    "genders = [\"F\",\"M\"]\n",
    "patients_clean = pd.DataFrame(patients[patients.Gender.isin(genders)])"
   ]
  },
  {
   "cell_type": "code",
   "execution_count": 41,
   "metadata": {},
   "outputs": [
    {
     "data": {
      "text/plain": [
       "M    796615\n",
       "F    794282\n",
       "Name: Gender, dtype: int64"
      ]
     },
     "execution_count": 41,
     "metadata": {},
     "output_type": "execute_result"
    }
   ],
   "source": [
    "patients_clean[\"Gender\"].value_counts()"
   ]
  },
  {
   "cell_type": "code",
   "execution_count": 42,
   "metadata": {},
   "outputs": [
    {
     "data": {
      "text/html": [
       "<div>\n",
       "<style scoped>\n",
       "    .dataframe tbody tr th:only-of-type {\n",
       "        vertical-align: middle;\n",
       "    }\n",
       "\n",
       "    .dataframe tbody tr th {\n",
       "        vertical-align: top;\n",
       "    }\n",
       "\n",
       "    .dataframe thead th {\n",
       "        text-align: right;\n",
       "    }\n",
       "</style>\n",
       "<table border=\"1\" class=\"dataframe\">\n",
       "  <thead>\n",
       "    <tr style=\"text-align: right;\">\n",
       "      <th></th>\n",
       "      <th>ID</th>\n",
       "      <th>Birthdate</th>\n",
       "      <th>Deathdate</th>\n",
       "      <th>SSN</th>\n",
       "      <th>Drivers</th>\n",
       "      <th>Passaport</th>\n",
       "      <th>Prefix</th>\n",
       "      <th>First</th>\n",
       "      <th>Last</th>\n",
       "      <th>Suffix</th>\n",
       "      <th>Maiden</th>\n",
       "      <th>Marital</th>\n",
       "      <th>Race</th>\n",
       "      <th>Ethnicity</th>\n",
       "      <th>Gender</th>\n",
       "      <th>Birthplace</th>\n",
       "      <th>Address</th>\n",
       "    </tr>\n",
       "  </thead>\n",
       "  <tbody>\n",
       "    <tr>\n",
       "      <th>count</th>\n",
       "      <td>1590897</td>\n",
       "      <td>1590897</td>\n",
       "      <td>396665</td>\n",
       "      <td>1590897</td>\n",
       "      <td>1349749</td>\n",
       "      <td>1278890</td>\n",
       "      <td>1314086</td>\n",
       "      <td>1590897</td>\n",
       "      <td>1590897</td>\n",
       "      <td>17049</td>\n",
       "      <td>454758</td>\n",
       "      <td>1143422</td>\n",
       "      <td>1590897</td>\n",
       "      <td>1590897</td>\n",
       "      <td>1590897</td>\n",
       "      <td>1590897</td>\n",
       "      <td>1590897</td>\n",
       "    </tr>\n",
       "    <tr>\n",
       "      <th>unique</th>\n",
       "      <td>1590897</td>\n",
       "      <td>40546</td>\n",
       "      <td>29064</td>\n",
       "      <td>696562</td>\n",
       "      <td>90000</td>\n",
       "      <td>637386</td>\n",
       "      <td>3</td>\n",
       "      <td>35908</td>\n",
       "      <td>5652</td>\n",
       "      <td>3</td>\n",
       "      <td>5652</td>\n",
       "      <td>2</td>\n",
       "      <td>5</td>\n",
       "      <td>21</td>\n",
       "      <td>2</td>\n",
       "      <td>351</td>\n",
       "      <td>1590897</td>\n",
       "    </tr>\n",
       "    <tr>\n",
       "      <th>top</th>\n",
       "      <td>504c092e-0296-4ff2-91e5-423017e24a0c</td>\n",
       "      <td>1954-10-21</td>\n",
       "      <td>2017-02-18</td>\n",
       "      <td>999-52-4361</td>\n",
       "      <td>S99914619</td>\n",
       "      <td>false</td>\n",
       "      <td>Mr.</td>\n",
       "      <td>Kendra803</td>\n",
       "      <td>Daugherty866</td>\n",
       "      <td>PhD</td>\n",
       "      <td>Nikolaus234</td>\n",
       "      <td>M</td>\n",
       "      <td>white</td>\n",
       "      <td>irish</td>\n",
       "      <td>M</td>\n",
       "      <td>Boston MA US</td>\n",
       "      <td>83562 Kertzmann Canyon Boston MA 02118 US</td>\n",
       "    </tr>\n",
       "    <tr>\n",
       "      <th>freq</th>\n",
       "      <td>1</td>\n",
       "      <td>89</td>\n",
       "      <td>66</td>\n",
       "      <td>11</td>\n",
       "      <td>34</td>\n",
       "      <td>639253</td>\n",
       "      <td>659095</td>\n",
       "      <td>109</td>\n",
       "      <td>598</td>\n",
       "      <td>5724</td>\n",
       "      <td>192</td>\n",
       "      <td>914178</td>\n",
       "      <td>1227532</td>\n",
       "      <td>328801</td>\n",
       "      <td>796615</td>\n",
       "      <td>149915</td>\n",
       "      <td>1</td>\n",
       "    </tr>\n",
       "  </tbody>\n",
       "</table>\n",
       "</div>"
      ],
      "text/plain": [
       "                                          ID   Birthdate   Deathdate  \\\n",
       "count                                1590897     1590897      396665   \n",
       "unique                               1590897       40546       29064   \n",
       "top     504c092e-0296-4ff2-91e5-423017e24a0c  1954-10-21  2017-02-18   \n",
       "freq                                       1          89          66   \n",
       "\n",
       "                SSN    Drivers Passaport   Prefix      First          Last  \\\n",
       "count       1590897    1349749   1278890  1314086    1590897       1590897   \n",
       "unique       696562      90000    637386        3      35908          5652   \n",
       "top     999-52-4361  S99914619     false      Mr.  Kendra803  Daugherty866   \n",
       "freq             11         34    639253   659095        109           598   \n",
       "\n",
       "       Suffix       Maiden  Marital     Race Ethnicity   Gender    Birthplace  \\\n",
       "count   17049       454758  1143422  1590897   1590897  1590897       1590897   \n",
       "unique      3         5652        2        5        21        2           351   \n",
       "top       PhD  Nikolaus234        M    white     irish        M  Boston MA US   \n",
       "freq     5724          192   914178  1227532    328801   796615        149915   \n",
       "\n",
       "                                          Address  \n",
       "count                                     1590897  \n",
       "unique                                    1590897  \n",
       "top     83562 Kertzmann Canyon Boston MA 02118 US  \n",
       "freq                                            1  "
      ]
     },
     "execution_count": 42,
     "metadata": {},
     "output_type": "execute_result"
    }
   ],
   "source": [
    "patients_clean.describe()"
   ]
  },
  {
   "cell_type": "code",
   "execution_count": 43,
   "metadata": {},
   "outputs": [
    {
     "data": {
      "text/plain": [
       "white       1227532\n",
       "hispanic     156294\n",
       "black        115454\n",
       "asian         91567\n",
       "native           50\n",
       "Name: Race, dtype: int64"
      ]
     },
     "execution_count": 43,
     "metadata": {},
     "output_type": "execute_result"
    }
   ],
   "source": [
    "patients_clean[\"Race\"].value_counts()"
   ]
  },
  {
   "cell_type": "code",
   "execution_count": 44,
   "metadata": {},
   "outputs": [
    {
     "data": {
      "text/plain": [
       "<seaborn.axisgrid.FacetGrid at 0x1af9afec88>"
      ]
     },
     "execution_count": 44,
     "metadata": {},
     "output_type": "execute_result"
    },
    {
     "data": {
      "image/png": "[encoded data removed]",
      "text/plain": [
       "<Figure size 360x360 with 1 Axes>"
      ]
     },
     "metadata": {},
     "output_type": "display_data"
    }
   ],
   "source": [
    "import seaborn as sns\n",
    "import matplotlib.pyplot as plt\n",
    "sns.set(style=\"ticks\", color_codes=True)\n",
    "sns.catplot(x=\"Race\", kind=\"count\", palette=\"pastel\", data=patients_clean)"
   ]
  },
  {
   "cell_type": "markdown",
   "metadata": {},
   "source": [
    "## There are 1,590,897 unique patients in the csv patients concatenated file."
   ]
  }
 ],
 "metadata": {
  "kernelspec": {
   "display_name": "Python 3",
   "language": "python",
   "name": "python3"
  },
  "language_info": {
   "codemirror_mode": {
    "name": "ipython",
    "version": 3
   },
   "file_extension": ".py",
   "mimetype": "text/x-python",
   "name": "python",
   "nbconvert_exporter": "python",
   "pygments_lexer": "ipython3",
   "version": "3.7.1"
  }
 },
 "nbformat": 4,
 "nbformat_minor": 2
}
